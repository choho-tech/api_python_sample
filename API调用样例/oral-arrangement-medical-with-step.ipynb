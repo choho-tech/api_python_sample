{
 "cells": [
  {
   "cell_type": "markdown",
   "id": "770950cc",
   "metadata": {},
   "source": [
    "# 基于医学规则的排牙与分步\n",
    "\n",
    "该Notebook将演示：\n",
    "\n",
    "1. 如何调用朝厚云接口生成自动加工单并根据自动加工单生成符合要求的排牙\n",
    "2. 如何根据医生手动修改或编写的加工单自动生成符合加工单要求的排牙\n",
    "3. 如何根据排牙生成分步方案\n",
    "\n",
    "使用本Notebook需要准备一个病例的：\n",
    "1. 侧位片\n",
    "2. 微笑照\n",
    "3. 上下颌口扫模型"
   ]
  },
  {
   "cell_type": "code",
   "execution_count": null,
   "id": "899e4510",
   "metadata": {},
   "outputs": [],
   "source": [
    "# 导入必要的包以及定义函数\n",
    "import os\n",
    "import time\n",
    "import requests\n",
    "import json\n",
    "import trimesh\n",
    "import urllib\n",
    "import numpy as np"
   ]
  },
  {
   "cell_type": "markdown",
   "id": "cd41dcfa",
   "metadata": {},
   "source": [
    "# 定义调用规则\n",
    "\n",
    "请根据您从我方获取的信息修改以下代码块"
   ]
  },
  {
   "cell_type": "code",
   "execution_count": null,
   "id": "aa010b08",
   "metadata": {},
   "outputs": [],
   "source": [
    "# 朝厚服务请求地址，随api文档发送\n",
    "base_url = \"<服务请求地址>\"\n",
    "\n",
    "# 朝厚文件服务地址，随api文档发送\n",
    "file_server_url = \"<服务文件服务器地址>\"\n",
    "\n",
    "# 必须传入鉴权 Header。请保护好TOKEN!!! 如果泄露请立即联系我们重置，所有使用该TOKEN的任务都会向您的账户计费\n",
    "zh_token = \"<贵司服务Token, 随合同发送>\" # 调用所有的API都必须传入token用作鉴权\n",
    "\n",
    "user_group = \"APIClient\" # 用户组，一般为 APIClient\n",
    "\n",
    "# 贵司user_id, 随api文档发送\n",
    "user_id = \"<贵司user_id>\"\n",
    "\n",
    "# 如果您收到了creds.json, 下面将直接读取\n",
    "if os.path.exists('creds.json'):\n",
    "    creds = json.load(open('creds.json', 'r'))\n",
    "    base_url = creds['base_url']\n",
    "    file_server_url = creds['file_server_url']\n",
    "    zh_token = creds['zh_token']\n",
    "    user_id = creds['user_id']\n",
    "    print(\"loaded creds from creds.json\")"
   ]
  },
  {
   "cell_type": "code",
   "execution_count": null,
   "id": "f25a8ef3",
   "metadata": {},
   "outputs": [],
   "source": [
    "# 定义调用JSON的基础部分 - 调用的服务名称以及您的用户名信息\n",
    "json_call = {\n",
    "  \"spec_group\": \"mesh-processing\", # 调用的工作流组， 随API文档发送\n",
    "  \"spec_name\": \"oral-arrangement-medical\", # 调用的工作流名称， 随API文档发送, \n",
    "  \"spec_version\": \"1.0-snapshot\", # 调用的工作流版本，随API文档发送\n",
    "  \"user_group\": user_group,\n",
    "  \"user_id\": user_id\n",
    "}"
   ]
  },
  {
   "cell_type": "markdown",
   "id": "07efab22",
   "metadata": {},
   "source": [
    "### 定义回调地址\n",
    "\n",
    "回调会在工作流运行结束后向指定地址发送一个POST请求，请求内容为一个JSON，内含4个字段\n",
    "\n",
    "1. workflow_id (str): 对应的workflow_id\n",
    "2. metadata (dict): 您启动工作流时传入的metadata\n",
    "3. success (bool): 工作流是否成功（true为成功）\n",
    "4. reason (str or null): 如果success为true, 该项为null. 否则为失败原因的字符串表示\n",
    "\n",
    "如果需要回调，请uncomment以下代码块"
   ]
  },
  {
   "cell_type": "code",
   "execution_count": null,
   "id": "9fdd0ebc",
   "metadata": {},
   "outputs": [],
   "source": [
    "# json_call['metadata'] = { #（可选）这里可以加入metadata, 回调时会附带该信息，字典每项限制128个字符\n",
    "#     \"case_id\": \"CH-123\",\n",
    "#     \"case_name\": \"ABCDE\"\n",
    "# }\n",
    "# json_call['notification'] =[ #（可选）这里可以加入回调地址\n",
    "#     {\"url\": \"https://www.baidu.com\"} # 这里可以加入多个回调地址，每个都是{\"url\": \"xxx\"}格式\n",
    "# ]"
   ]
  },
  {
   "cell_type": "markdown",
   "id": "798fcec2",
   "metadata": {},
   "source": [
    "## 定义输入/输出块\n",
    "\n",
    "输入块由JSON文件中的`input_data`定义。对于三维网格，我们支持以下**输入**文件格式\n",
    "\n",
    "```\n",
    "\"obj\"\n",
    "\"stl\"\n",
    "\"off\"\n",
    "\"ply\"\n",
    "\"glb\"\n",
    "\"zip\": zip内必须有且仅有一个mesh文件，且其后缀名必须为 obj, stl, off, ply 或 glb\n",
    "\"tar.gz\": tar 或者 tar.gz内必须有且仅有一个mesh文件，且其后缀名必须为 obj, stl, off, ply 或 glb\n",
    "\"drc\"\n",
    "```\n",
    "\n",
    "和以下**输出**文件格式\n",
    "```\n",
    "\"obj\"\n",
    "\"stl\"\n",
    "\"off\"\n",
    "\"ply\"\n",
    "\"glb\"\n",
    "\"drc\"\n",
    "```\n",
    "\n",
    "\n",
    "我们**强烈推荐**在输入/输出中使用`drc`文件格式以减少网络传输时间，生成和读取drc格式文件可以使用Google的Draco库: https://github.com/google/draco\n",
    "\n",
    "下表显示了同一个三维网格在不同文件格式下的文件大小 (点精度： 0.001mm）\n",
    "\n",
    "| 文件格式 | 文件大小 |\n",
    "| --- | --- |\n",
    "| stl | 16.7M |\n",
    "| obj | 13.5M |\n",
    "| off | 14.2M |\n",
    "| ply | 7.0M |\n",
    "| glb | 6.0M |\n",
    "| drc | 517.3K |\n",
    "\n",
    "\n",
    "对于三维网格，输入可以采用两种形式传入：\n",
    "\n",
    "1. 先将文件传入我们的文件服务系统，再将文件指针写入JSON调用串并调用API\n",
    "2. 直接在API的JSON调用串中传入base64编码后的二进制数据\n",
    "\n",
    "对于三维网格，输出可以指定两种形式传出：\n",
    "\n",
    "1. 在API数据接口中返回文件指针，用户去文件系统下载具体二进制文件\n",
    "2. 直接在API的数据接口中将二进制数据以base64编码形式返回\n",
    "\n",
    "\n",
    "我们**强烈推荐**使用第一种方式，理由如下：\n",
    "\n",
    "1. base64编码将增大数据流大小，提高网络延迟\n",
    "2. 为保障接口性能，朝厚将拒绝过大的API请求。因此对于大文件，第二种方式会调用失败（HTTP CODE 413)"
   ]
  },
  {
   "cell_type": "markdown",
   "id": "5fe0b57b",
   "metadata": {},
   "source": [
    "### 使用文件方式上传"
   ]
  },
  {
   "cell_type": "code",
   "execution_count": null,
   "id": "f9fc919d",
   "metadata": {},
   "outputs": [],
   "source": [
    "def upload_file(file_name):\n",
    "    ext = file_name.split('.')[-1]\n",
    "    data = open(file_name, 'rb').read()\n",
    "    resp = requests.get(file_server_url + f\"/scratch/{user_group}/{user_id}/upload_url?\" +\n",
    "                        f\"postfix={ext}\", # 必须指定 postfix, 即文件后缀名\n",
    "                        headers={\"X-ZH-TOKEN\": zh_token}) # 获取带签名的上传地址\n",
    "    resp.raise_for_status()\n",
    "\n",
    "    upload_url = resp.text[1:-1] # 返回为一个单字符串JSON \"string\", 这里也可以用json.loads(resp.text)\n",
    "\n",
    "    resp = requests.put(upload_url, data) # 上传至云储存服务不需要带鉴权头\n",
    "\n",
    "    resp.raise_for_status()\n",
    "    path = \"/\".join(urllib.parse.urlparse(upload_url).path.lstrip(\"/\").split(\"/\")[3:])\n",
    "    urn = f\"urn:zhfile:o:s:{user_group}:{user_id}:{path}\"\n",
    "    return urn\n",
    "\n",
    "json_call[\"input_data\"] = { # 输入数据，此处依照不同的任务字典内容会有不同，具体参照API文档，该处以分牙+牙轴举例\n",
    "    \"upper_mesh\": {\"type\":\"ply\", \"data\": upload_file('u.ply')},\n",
    "    \"lower_mesh\": {\"type\":\"ply\", \"data\": upload_file('l.ply')},\n",
    "    \"ceph\": upload_file(\"ceph.jpg\"),\n",
    "    \"smile_photo\": upload_file(\"smile.jpg\")\n",
    "}\n",
    "\n",
    "# 定义输出配置（输出与输入不一定需要一样，比如可以输入文件stl, 输出base64的drc\n",
    "json_call['output_config'] = {\n",
    "    \"arranged_comp\": {\"type\": \"ply\"},\n",
    "    \"teeth_comp\": {\"type\": \"ply\"}\n",
    "}"
   ]
  },
  {
   "cell_type": "markdown",
   "id": "bbb3e44a",
   "metadata": {},
   "source": [
    "# 提交请求\n",
    "\n",
    "使用 `/run` POST方法提交请求"
   ]
  },
  {
   "cell_type": "code",
   "execution_count": null,
   "id": "3f6da602",
   "metadata": {},
   "outputs": [],
   "source": [
    "headers = {\n",
    "  \"Content-Type\": \"application/json\",\n",
    "  \"X-ZH-TOKEN\": zh_token\n",
    "}\n",
    "\n",
    "url = base_url + '/run'\n",
    "\n",
    "response = requests.request(\"POST\", url, headers=headers, data=json.dumps(json_call))\n",
    "response.raise_for_status()\n",
    "create_result = response.json()\n",
    "run_id = create_result['run_id']\n",
    "\n",
    "# 打印任务号\n",
    "print(run_id)"
   ]
  },
  {
   "cell_type": "markdown",
   "id": "b66bdd8d",
   "metadata": {},
   "source": [
    "# 等待请求完成\n",
    "\n",
    "使用轮询API等待请求完成，API地址为 `/run/{run_id}`\n",
    "\n",
    "**强烈推荐使用回调方法**, 参考[定义回调地址](#定义回调地址)，回调方法无论工作流成功与否，在结束时均会向给定地址发送回调信息，您无需轮询结果"
   ]
  },
  {
   "cell_type": "code",
   "execution_count": null,
   "id": "51e2203b",
   "metadata": {},
   "outputs": [],
   "source": [
    "# 第二步： 轮询状态\n",
    "url = base_url + f\"/run/{run_id}\"\n",
    "\n",
    "start_time = time.time()\n",
    "while time.time()-start_time < 600: # 最多等10分钟\n",
    "    time.sleep(3) # 轮询间隔\n",
    "    response = requests.request(\"GET\", url, headers=headers)\n",
    "    result = response.json()\n",
    "    if result['completed'] or result['failed']:\n",
    "        break\n",
    "    \n",
    "if not result['completed']:\n",
    "    if result['failed']:\n",
    "        raise ValueError(\"API运行错误，原因： \" + str(result['reason_public']))\n",
    "    raise TimeoutError(\"API超时\")\n",
    "\n",
    "print(\"API运行时间： {}s\".format(time.time()-start_time))"
   ]
  },
  {
   "cell_type": "markdown",
   "id": "d7c85581",
   "metadata": {},
   "source": [
    "# 获取请求结果\n",
    "\n",
    "使用 `/data/{run_id}` 获得该工作流所有输出数据，使用 `/data/{run_id}/{key}` 获取某一项数据"
   ]
  },
  {
   "cell_type": "code",
   "execution_count": null,
   "id": "a86e332f",
   "metadata": {},
   "outputs": [],
   "source": [
    "url = base_url + f\"/data/{run_id}\"\n",
    "response = requests.request(\"GET\", url, headers=headers)\n",
    "result = response.json()"
   ]
  },
  {
   "cell_type": "code",
   "execution_count": null,
   "id": "a32f4027",
   "metadata": {},
   "outputs": [],
   "source": [
    "def retrieve_mesh(mesh_file_json):\n",
    "    resp = requests.get(file_server_url + f\"/file/download?\" + urllib.parse.urlencode({\n",
    "                        \"urn\": mesh_file_json['data']}),\n",
    "                        headers={\"X-ZH-TOKEN\": zh_token})\n",
    "    return trimesh.load(trimesh.util.wrap_as_stream(resp.content), file_type=mesh_file_json['type'])\n",
    "\n",
    "arranged_comp = {fdi: retrieve_mesh(x) for fdi, x in result['arranged_comp'].items()}\n",
    "original_comp = {fdi: retrieve_mesh(x) for fdi, x in result['teeth_comp'].items()}"
   ]
  },
  {
   "cell_type": "markdown",
   "id": "2376edb8",
   "metadata": {},
   "source": [
    "# 样例API输出结果展示\n",
    "\n",
    "以下输出为自动生成的工单"
   ]
  },
  {
   "cell_type": "code",
   "execution_count": null,
   "id": "15b8caab",
   "metadata": {},
   "outputs": [],
   "source": [
    "print(json.loads(result['form']))"
   ]
  },
  {
   "cell_type": "markdown",
   "id": "262949fe",
   "metadata": {},
   "source": [
    "将工单输出为自然语言"
   ]
  },
  {
   "cell_type": "code",
   "execution_count": null,
   "id": "9a8f098f",
   "metadata": {},
   "outputs": [],
   "source": [
    "def form2str(form):\n",
    "    def collision2str(collisions):\n",
    "        collision_name_dict = {\n",
    "            'left_back_teeth_IPR': '左侧后牙IPR',\n",
    "            'front_teeth_IPR': '前牙IPR',\n",
    "            'right_back_teeth_IPR': '右侧后牙IPR',\n",
    "            'move_left_molar': '远移左侧磨牙',\n",
    "            'move_right_molar': '远移右侧磨牙',\n",
    "            'move_both_molar_forward': '磨牙近移'\n",
    "        }\n",
    "\n",
    "        return '，'.join(\n",
    "            [collision_name_dict[\n",
    "                 collision[0] if isinstance(collision, tuple) or isinstance(collision, list) else collision] for\n",
    "             collision in\n",
    "             collisions])\n",
    "\n",
    "    cusp_name_dict = {\n",
    "        'near_cusp': '近中切角',\n",
    "        'mid_cusp': '切端',\n",
    "        'far_cusp': '远中切角'\n",
    "    }\n",
    "    direction_name_dict = {\n",
    "        'backward': '内收',\n",
    "        'forward': '唇倾',\n",
    "        'down': '压低',\n",
    "        'up': '伸长',\n",
    "        'left': '左移',\n",
    "        'right': '右移'\n",
    "    }\n",
    "\n",
    "    form_str = f\"\"\"\n",
    "    下颌目标位\n",
    "    1. 前牙矢状向目标位：以__号牙__为准__毫米\n",
    "       {form['front_y_axis_position'][0]}，{cusp_name_dict[form['front_y_axis_position'][1]]}，{direction_name_dict[form['front_y_axis_position'][2]]}{form['front_y_axis_position'][3]:.1f}\n",
    "    2. 垂直向目标位：后牙不动，前牙__毫米\n",
    "       {direction_name_dict[form['z_axis_position']['front_teeth'][0]]}{form['z_axis_position']['front_teeth'][1]:.1f}\n",
    "\n",
    "    上下颌咬合关系\n",
    "    1. 咬合关系【左侧】：尖牙到__类关系，磨牙到__类关系\n",
    "       一，一\n",
    "    2. 咬合关系【右侧】：尖牙到__类关系，磨牙到__类关系\n",
    "       一，一\n",
    "    3. 咬合关系【覆盖】：__覆盖\n",
    "       标准\n",
    "    4. 咬合关系【覆颌】：__覆颌，__后牙\n",
    "       标准，维持\n",
    "    5. 咬合关系【后牙反颌|锁颌】\n",
    "       纠正\n",
    "\n",
    "    中线目标位\n",
    "    1. [上颌] 中线目标位\n",
    "       {direction_name_dict[form['middle_line_position']['U'][1]]}{form['middle_line_position']['U'][2]:.1f}毫米\n",
    "    2. [下颌] 中线目标位\n",
    "       对齐上颌中线\n",
    "\n",
    "    碰撞解除|间隙闭合\n",
    "    1. 上颌\n",
    "       {collision2str(form['collision_removal']['U']['1'])}\n",
    "    2. 下颌\n",
    "       {collision2str(form['collision_removal']['L']['1'])}\n",
    "    3. 拔牙牙号\n",
    "       {'，'.join(map(str, form['remove_teeth_set']))}\n",
    "    4. 预留间隙\n",
    "       {'，'.join([f'{k}={v}' for k, v in form['init_gap'].items()]) if len(form['init_gap']) > 0 else '无'}\n",
    "    \"\"\"\n",
    "\n",
    "    return form_str\n",
    "\n",
    "print(form2str(json.loads(result['form'])))"
   ]
  },
  {
   "cell_type": "markdown",
   "id": "345ac0a7",
   "metadata": {},
   "source": [
    "以下输出为自动排牙结果"
   ]
  },
  {
   "cell_type": "code",
   "execution_count": null,
   "id": "54722482",
   "metadata": {},
   "outputs": [],
   "source": [
    "sum(arranged_comp.values(), None).show()"
   ]
  },
  {
   "cell_type": "markdown",
   "id": "3bacbc95",
   "metadata": {},
   "source": [
    "## 自动分步方案\n"
   ]
  },
  {
   "cell_type": "code",
   "execution_count": null,
   "id": "cec6ffea",
   "metadata": {},
   "outputs": [],
   "source": [
    "# 定义调用JSON的基础部分 - 调用的服务名称以及您的用户名信息\n",
    "json_call = {\n",
    "  \"spec_group\": \"mesh-processing\", # 调用的工作流组， 随API文档发送\n",
    "  \"spec_name\": \"auto-step\", # 调用的工作流名称， 随API文档发送, \n",
    "  \"spec_version\": \"1.0-snapshot\", # 调用的工作流版本，随API文档发送\n",
    "  \"user_group\": user_group,\n",
    "  \"user_id\": user_id\n",
    "}\n",
    "json_call[\"input_data\"] = { # 输入数据，此处依照不同的任务字典内容会有不同，具体参照API文档，该处以分牙+牙轴举例\n",
    "    \"upper_teeth_dict\": result['teeth_comp_u'],\n",
    "    \"upper_align_matrix\": result['u_align_matrix'],\n",
    "    \"upper_axis_matrix_dict\": result['u_axis'],\n",
    "    \"lower_teeth_dict\": result['teeth_comp_l'],\n",
    "    \"lower_align_matrix\": result['l_align_matrix'],\n",
    "    \"lower_axis_matrix_dict\": result['l_axis'],\n",
    "    \"transformation_dict\": result['transformation_dict']\n",
    "}\n",
    "\n",
    "headers = {\n",
    "  \"Content-Type\": \"application/json\",\n",
    "  \"X-ZH-TOKEN\": zh_token\n",
    "}\n",
    "\n",
    "url = base_url + '/run'\n",
    "\n",
    "response = requests.request(\"POST\", url, headers=headers, data=json.dumps(json_call))\n",
    "response.raise_for_status()\n",
    "create_result = response.json()\n",
    "run_id = create_result['run_id']\n",
    "\n",
    "# 打印任务号\n",
    "print(run_id)"
   ]
  },
  {
   "cell_type": "markdown",
   "id": "ef30f3b8",
   "metadata": {},
   "source": [
    "等待请求完成"
   ]
  },
  {
   "cell_type": "code",
   "execution_count": null,
   "id": "35c6320a",
   "metadata": {},
   "outputs": [],
   "source": [
    "# 第二步： 轮询状态\n",
    "url = base_url + f\"/run/{run_id}\"\n",
    "\n",
    "start_time = time.time()\n",
    "while time.time()-start_time < 600: # 最多等10分钟\n",
    "    time.sleep(3) # 轮询间隔\n",
    "    response = requests.request(\"GET\", url, headers=headers)\n",
    "    step_result = response.json()\n",
    "    if step_result['completed'] or step_result['failed']:\n",
    "        break\n",
    "    \n",
    "if not step_result['completed']:\n",
    "    if step_result['failed']:\n",
    "        raise ValueError(\"API运行错误，原因： \" + str(step_result['reason_public']))\n",
    "    raise TimeoutError(\"API超时\")\n",
    "\n",
    "print(\"API运行时间： {}s\".format(time.time()-start_time))"
   ]
  },
  {
   "cell_type": "code",
   "execution_count": null,
   "id": "25e36f87",
   "metadata": {},
   "outputs": [],
   "source": [
    "url = base_url + f\"/data/{run_id}\"\n",
    "response = requests.request(\"GET\", url, headers=headers)\n",
    "step_result = response.json()"
   ]
  },
  {
   "cell_type": "markdown",
   "id": "466513bf",
   "metadata": {},
   "source": [
    "分步结果展示"
   ]
  },
  {
   "cell_type": "code",
   "execution_count": null,
   "id": "f35e377a",
   "metadata": {},
   "outputs": [],
   "source": [
    "def show_step(step_index):\n",
    "    result_mesh = None\n",
    "    for k, m in original_comp.items():\n",
    "        if k in step_result['result']['step_dict'][step_index]:\n",
    "            result_mesh += m.copy().apply_transform(step_result['result']['step_dict'][step_index][k])\n",
    "    return result_mesh"
   ]
  },
  {
   "cell_type": "code",
   "execution_count": null,
   "id": "2d78cb5d",
   "metadata": {},
   "outputs": [],
   "source": [
    "# 第50步展示\n",
    "show_step(50).show()"
   ]
  }
 ],
 "metadata": {
  "kernelspec": {
   "display_name": "Python 3 (ipykernel)",
   "language": "python",
   "name": "python3"
  },
  "language_info": {
   "codemirror_mode": {
    "name": "ipython",
    "version": 3
   },
   "file_extension": ".py",
   "mimetype": "text/x-python",
   "name": "python",
   "nbconvert_exporter": "python",
   "pygments_lexer": "ipython3",
   "version": "3.10.10"
  },
  "vscode": {
   "interpreter": {
    "hash": "952042305c124a401f43d2f6cec8cbc4c7afc925a6a970f3fb140f7422802111"
   }
  }
 },
 "nbformat": 4,
 "nbformat_minor": 5
}
