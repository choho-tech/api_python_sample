{
 "cells": [
  {
   "cell_type": "markdown",
   "id": "770950cc",
   "metadata": {},
   "source": [
    "# Treatment planning\n",
    "\n",
    "This notebook will demonstrate:\n",
    "\n",
    "1. How to call the ChohoCloud API to generate prescriptions and then generate the target position based on the prescriptions.\n",
    "2. How to generate the treatment plan (steps) based on the target position.\n",
    "\n",
    "To use this notebook, you need to prepare the following for a case:\n",
    "\n",
    "1. Lateral cephalometric X-ray.\n",
    "2. Smiling photo.\n",
    "3. Upper and lower jaw oral scan meshes."
   ]
  },
  {
   "cell_type": "code",
   "execution_count": null,
   "id": "899e4510",
   "metadata": {},
   "outputs": [],
   "source": [
    "import os\n",
    "import time\n",
    "import requests\n",
    "import json\n",
    "import trimesh\n",
    "import urllib\n",
    "import numpy as np"
   ]
  },
  {
   "cell_type": "markdown",
   "id": "cd41dcfa",
   "metadata": {},
   "source": [
    "## Define call rules\n",
    "Please modify the following code blocks based on the information you obtained from us."
   ]
  },
  {
   "cell_type": "code",
   "execution_count": null,
   "id": "aa010b08",
   "metadata": {},
   "outputs": [],
   "source": [
    "# Chohotech service request URL, sent with the API documentation.\n",
    "base_url = \"<service request URL>\"\n",
    "\n",
    "# Chohotech file service URL, sent with the API documentation.\n",
    "file_server_url = \"<service file server URL>\"\n",
    "\n",
    "# The authentication header must be passed in. Please keep the TOKEN confidential!!! If it is leaked, please contact us immediately to reset it. All tasks using this TOKEN will be charged to your account.\n",
    "zh_token = \"<your company's service Token, sent with the contact>\" # All API calls must be authenticated with the token.\n",
    "\n",
    "user_group = \"APIClient\" # User group, usually named APIClient.\n",
    "\n",
    "# Your company's user_id, sent with the API documentation.\n",
    "user_id = \"<your company's user_id>\"\n",
    "\n",
    "# If you have received creds.json, it will be read directly below.\n",
    "if os.path.exists('../../creds.json'):\n",
    "    creds = json.load(open('../../creds.json', 'r'))\n",
    "    base_url = creds['base_url']\n",
    "    file_server_url = creds['file_server_url']\n",
    "    zh_token = creds['zh_token']\n",
    "    user_id = creds['user_id']\n",
    "    print(\"loaded creds from creds.json\")"
   ]
  },
  {
   "cell_type": "code",
   "execution_count": null,
   "id": "218b5d9c",
   "metadata": {},
   "outputs": [],
   "source": [
    "def upload_file(file_name):\n",
    "    ext = file_name.split('.')[-1]\n",
    "    data = open('../../data/' + file_name, 'rb').read()\n",
    "    resp = requests.get(file_server_url + f\"/scratch/{user_group}/{user_id}/upload_url?\" +\n",
    "                        f\"postfix={ext}\", # Must specify postfix, i.e., file extension\n",
    "                        headers={\"X-ZH-TOKEN\": zh_token}) # Get signed upload URL\n",
    "    resp.raise_for_status()\n",
    "\n",
    "    upload_url = resp.text[1:-1] # Returns a single string JSON \"string\", can also use json.loads(resp.text)\n",
    "\n",
    "    resp = requests.put(upload_url, data) # No auth header is needed for uploading to the cloud storage service\n",
    "\n",
    "    resp.raise_for_status()\n",
    "    path = \"/\".join(urllib.parse.urlparse(upload_url).path.lstrip(\"/\").split(\"/\")[3:])\n",
    "    urn = f\"urn:zhfile:o:s:{user_group}:{user_id}:{path}\"\n",
    "    return urn\n",
    "\n",
    "def run_job_and_get_results(json_call, timeout_sec):\n",
    "    headers = {\n",
    "      \"Content-Type\": \"application/json\",\n",
    "      \"X-ZH-TOKEN\": zh_token\n",
    "    }\n",
    "\n",
    "    url = base_url + '/run'\n",
    "\n",
    "    response = requests.request(\"POST\", url, headers=headers, data=json.dumps(json_call))\n",
    "    response.raise_for_status()\n",
    "    create_result = response.json()\n",
    "    run_id = create_result['run_id']\n",
    "    print(\"workflow id is\", run_id)\n",
    "    url = base_url + f\"/run/{run_id}\"\n",
    "\n",
    "    start_time = time.time()\n",
    "    while time.time()-start_time < timeout_sec:\n",
    "        time.sleep(0.3)\n",
    "        response = requests.request(\"GET\", url, headers=headers)\n",
    "        result = response.json()\n",
    "        if result['completed'] or result['failed']:\n",
    "            break\n",
    "\n",
    "    if not result['completed']:\n",
    "        if result['failed']:\n",
    "            raise ValueError(\"API failed due to \" + str(result['reason_public']))\n",
    "        raise TimeoutError(\"API timeout\")\n",
    "\n",
    "    print(\"API finished in {}s\".format(time.time()-start_time))\n",
    "    url = base_url + f\"/data/{run_id}\"\n",
    "    response = requests.request(\"GET\", url, headers=headers)\n",
    "    return response.json()\n",
    "\n",
    "def retrieve_data(urn):\n",
    "    return requests.get(file_server_url + f\"/file/download?\" + urllib.parse.urlencode({\n",
    "                        \"urn\": urn}),\n",
    "                        headers={\"X-ZH-TOKEN\": zh_token}).content\n",
    "\n",
    "def retrieve_mesh(mesh_file_json):\n",
    "    resp = requests.get(file_server_url + f\"/file/download?\" + urllib.parse.urlencode({\n",
    "                        \"urn\": mesh_file_json['data']}),\n",
    "                        headers={\"X-ZH-TOKEN\": zh_token})\n",
    "    return trimesh.load(trimesh.util.wrap_as_stream(resp.content), file_type=mesh_file_json['type'])"
   ]
  },
  {
   "cell_type": "markdown",
   "id": "022f5a4d",
   "metadata": {},
   "source": [
    "## Automatic prescrition and target position\n",
    "\n",
    "The API calling pipeline in this chapter can be replaced by following single workflow.\n",
    "\n",
    "```python\n",
    "json_call = {\n",
    "  \"spec_group\": \"mesh-processing\",\n",
    "  \"spec_name\": \"oral-arrangement-medical\", \n",
    "  \"spec_version\": \"1.0-snapshot\",\n",
    "  \"user_group\": user_group,\n",
    "  \"user_id\": user_id\n",
    "}\n",
    "```\n",
    "\n",
    "### Acquire teeth segmentation"
   ]
  },
  {
   "cell_type": "code",
   "execution_count": null,
   "id": "f25a8ef3",
   "metadata": {},
   "outputs": [],
   "source": [
    "json_call = {\n",
    "  \"spec_group\": \"mesh-processing\",\n",
    "  \"spec_name\": \"oral-denoise-prod\",\n",
    "  \"spec_version\": \"1.0-snapshot\",\n",
    "  \"user_group\": user_group,\n",
    "  \"user_id\": user_id,\n",
    "  \"input_data\": {\n",
    "      \"mesh\": {\"type\":\"drc\", \"data\": upload_file(\"upper_jaw_scan.drc\")},\n",
    "      \"jaw_type\": \"Upper\"\n",
    "  },\n",
    "  'output_config': {\n",
    "    \"teeth_comp\": {\"type\": \"ply\"}\n",
    "  }\n",
    "}\n",
    "result_upper_jaw = run_job_and_get_results(json_call, 300)"
   ]
  },
  {
   "cell_type": "code",
   "execution_count": null,
   "id": "e34d3c71",
   "metadata": {},
   "outputs": [],
   "source": [
    "json_call = {\n",
    "  \"spec_group\": \"mesh-processing\",\n",
    "  \"spec_name\": \"oral-denoise-prod\",\n",
    "  \"spec_version\": \"1.0-snapshot\",\n",
    "  \"user_group\": user_group,\n",
    "  \"user_id\": user_id,\n",
    "  \"input_data\": {\n",
    "      \"mesh\": {\"type\":\"ply\", \"data\": upload_file(\"lower_jaw_scan.ply\")},\n",
    "      \"jaw_type\": \"Lower\"\n",
    "  },\n",
    "  'output_config': {\n",
    "    \"teeth_comp\": {\"type\": \"ply\"}\n",
    "  }\n",
    "}\n",
    "result_lower_jaw = run_job_and_get_results(json_call, 300)"
   ]
  },
  {
   "cell_type": "markdown",
   "id": "b3420a6e",
   "metadata": {},
   "source": [
    "### Acquire analysis results of ceph and frontal smile images"
   ]
  },
  {
   "cell_type": "code",
   "execution_count": null,
   "id": "5ebb3717",
   "metadata": {},
   "outputs": [],
   "source": [
    "json_call = {\n",
    "  \"spec_group\": \"ceph\",\n",
    "  \"spec_name\": \"ceph-analysis\",\n",
    "  \"spec_version\": \"1.0-snapshot\",\n",
    "  \"user_group\": user_group,\n",
    "  \"user_id\": user_id,\n",
    "  \"input_data\": {\n",
    "      \"image\": upload_file(\"ceph.jpg\")\n",
    "  }\n",
    "}\n",
    "result_ceph = run_job_and_get_results(json_call, 20)"
   ]
  },
  {
   "cell_type": "code",
   "execution_count": null,
   "id": "a9a3e47a",
   "metadata": {},
   "outputs": [],
   "source": [
    "json_call = {\n",
    "  \"spec_group\": \"face\",\n",
    "  \"spec_name\": \"smile-analysis\",\n",
    "  \"spec_version\": \"1.0-snapshot\",\n",
    "  \"user_group\": user_group,\n",
    "  \"user_id\": user_id,\n",
    "  \"input_data\": {\n",
    "      \"image\": upload_file(\"face_smile.jpg\")\n",
    "  }\n",
    "}\n",
    "result_smile = run_job_and_get_results(json_call, 20)"
   ]
  },
  {
   "cell_type": "markdown",
   "id": "b08a0d1d",
   "metadata": {},
   "source": [
    "### Acquire automatic prescriptions"
   ]
  },
  {
   "cell_type": "code",
   "execution_count": null,
   "id": "4e98f3bd",
   "metadata": {},
   "outputs": [],
   "source": [
    "json_call = {\n",
    "  \"spec_group\": \"mesh-processing\",\n",
    "  \"spec_name\": \"auto-form\",\n",
    "  \"spec_version\": \"1.0-snapshot\",\n",
    "  \"user_group\": user_group,\n",
    "  \"user_id\": user_id,\n",
    "  \"input_data\": {\n",
    "      \"upper_teeth_dict\": result_upper_jaw[\"teeth_comp\"],\n",
    "      \"upper_align_matrix\": result_upper_jaw[\"align_matrix\"],\n",
    "      \"upper_axis_matrix_dict\": result_upper_jaw[\"axis\"],\n",
    "      \"lower_teeth_dict\": result_lower_jaw[\"teeth_comp\"],\n",
    "      \"lower_align_matrix\": result_lower_jaw[\"align_matrix\"],\n",
    "      \"lower_axis_matrix_dict\": result_lower_jaw[\"axis\"],\n",
    "      \"ceph_metric_pts_dict\": result_ceph['result'][\"kps\"],\n",
    "      \"frontal_smiling_pts_dict\": result_smile['result']['kps'],\n",
    "      \"meta\": result_ceph['result']['meta']\n",
    "  }\n",
    "}\n",
    "result_form = run_job_and_get_results(json_call, 500)"
   ]
  },
  {
   "cell_type": "code",
   "execution_count": null,
   "id": "2c3209b4",
   "metadata": {},
   "outputs": [],
   "source": [
    "def form2str(form):\n",
    "    def collision2str(collisions):\n",
    "        collision_name_dict = {\n",
    "            'left_back_teeth_IPR': 'Left posterior teeth IPR',\n",
    "            'front_teeth_IPR': 'Front teeth IPR',\n",
    "            'right_back_teeth_IPR': 'Right posterior teeth IPR',\n",
    "            'move_left_molar': 'Move left molar distally',\n",
    "            'move_right_molar': 'Move right molar distally',\n",
    "            'move_both_molar_forward': 'Move molars mesially'\n",
    "        }\n",
    "\n",
    "        return ', '.join(\n",
    "            [collision_name_dict[\n",
    "                 collision[0] if isinstance(collision, tuple) or isinstance(collision, list) else collision] for\n",
    "             collision in\n",
    "             collisions])\n",
    "\n",
    "    cusp_name_dict = {\n",
    "        'near_cusp': 'Near cusp',\n",
    "        'mid_cusp': 'Mid cusp',\n",
    "        'far_cusp': 'Far cusp'\n",
    "    }\n",
    "    direction_name_dict = {\n",
    "        'backward': 'Retrusion',\n",
    "        'forward': 'Protrusion',\n",
    "        'down': 'Depression',\n",
    "        'up': 'Elonagtion',\n",
    "        'left': 'Left shift',\n",
    "        'right': 'Right shift'\n",
    "    }\n",
    "\n",
    "    form_str = f\"\"\"\n",
    "    Mandibular Target Position\n",
    "    1. Anterior teeth sagittal target position: Based on tooth #__, __ and __mm\n",
    "    {form['front_y_axis_position'][0]},{cusp_name_dict[form['front_y_axis_position'][1]]},{direction_name_dict[form['front_y_axis_position'][2]]} {form['front_y_axis_position'][3]:.1f}\n",
    "    2. Vertical target position: Posterior teeth stationary, anterior teeth __mm\n",
    "    {direction_name_dict[form['z_axis_position']['front_teeth'][0]]} {form['z_axis_position']['front_teeth'][1]:.1f}\n",
    "\n",
    "    Upper and Lower Jaw Occlusion Relationship\n",
    "    1. Occlusion relationship [Left]: Canine to __ relationship, molar to __ relationship\n",
    "       Class I, Class I\n",
    "    2. Occlusion relationship [Right]: Canine to __ relationship, molar to __ relationship\n",
    "       Class I, Class I\n",
    "    3. Occlusion relationship [Overjet]: __ Overjet\n",
    "       Standard\n",
    "    4. Occlusion relationship [Overbite]: __ Overbite, __ posterior teeth\n",
    "       Standard, Maintain\n",
    "    5. Occlusion relationship [Molar Class II|Class III]\n",
    "       Correction\n",
    "\n",
    "    Midline Target Position\n",
    "    1. [Upper Jaw] Midline target position\n",
    "       {direction_name_dict[form['middle_line_position']['U'][1]]} {form['middle_line_position']['U'][2]:.1f} mm\n",
    "    2. [Lower Jaw] Midline target position\n",
    "       Align with upper jaw midline\n",
    "\n",
    "    Collision Removal|Gap Closure\n",
    "    1. Upper Jaw\n",
    "       {collision2str(form['collision_removal']['U']['1'])}\n",
    "    2. Lower Jaw\n",
    "       {collision2str(form['collision_removal']['L']['1'])}\n",
    "    3. Extracted Tooth Numbers\n",
    "       {' '.join(map(str, form['remove_teeth_set']))}\n",
    "    4. Reserved Gap\n",
    "       {' '.join([f'{k}={v}' for k, v in form['init_gap'].items()]) if len(form['init_gap']) > 0 else 'None'}\n",
    "    \"\"\"\n",
    "\n",
    "    return form_str\n",
    "\n",
    "print(form2str(json.loads(result_form['result']['form'])))"
   ]
  },
  {
   "cell_type": "markdown",
   "id": "9ef36368",
   "metadata": {},
   "source": [
    "### Generate target position based on prescritions\n",
    "\n",
    "Note: you can adjust the generated prescription or just manually write it."
   ]
  },
  {
   "cell_type": "code",
   "execution_count": null,
   "id": "18008347",
   "metadata": {},
   "outputs": [],
   "source": [
    "json_call = {\n",
    "  \"spec_group\": \"mesh-processing\",\n",
    "  \"spec_name\": \"arrange-with-form\",\n",
    "  \"spec_version\": \"1.0-snapshot\",\n",
    "  \"user_group\": user_group,\n",
    "  \"user_id\": user_id,\n",
    "  \"input_data\": {\n",
    "      \"upper_teeth_dict\": result_upper_jaw[\"teeth_comp\"],\n",
    "      \"upper_align_matrix\": result_upper_jaw[\"align_matrix\"],\n",
    "      \"upper_axis_matrix_dict\": result_upper_jaw[\"axis\"],\n",
    "      \"lower_teeth_dict\": result_lower_jaw[\"teeth_comp\"],\n",
    "      \"lower_align_matrix\": result_lower_jaw[\"align_matrix\"],\n",
    "      \"lower_axis_matrix_dict\": result_lower_jaw[\"axis\"],\n",
    "      \"form\": result_form['result']['form'],\n",
    "      \"matrix_3d\": result_form['result']['matrix_3d'],\n",
    "  },\n",
    "  'output_config': {\n",
    "    \"arranged_comp\": {\"type\": \"ply\"}\n",
    "  }\n",
    "}\n",
    "result_arrangement = run_job_and_get_results(json_call, 500)"
   ]
  },
  {
   "cell_type": "code",
   "execution_count": null,
   "id": "15b8caab",
   "metadata": {},
   "outputs": [],
   "source": [
    "sum([retrieve_mesh(result_arrangement['result']['arranged_comp'][k]) for k in result_arrangement['result']['arranged_comp'].keys()]).show()"
   ]
  },
  {
   "cell_type": "markdown",
   "id": "3bacbc95",
   "metadata": {},
   "source": [
    "## Automatic treatment planning (stepping)\n"
   ]
  },
  {
   "cell_type": "code",
   "execution_count": null,
   "id": "cec6ffea",
   "metadata": {},
   "outputs": [],
   "source": [
    "json_call = {\n",
    "  \"spec_group\": \"mesh-processing\",\n",
    "  \"spec_name\": \"auto-step\",\n",
    "  \"spec_version\": \"1.0-snapshot\",\n",
    "  \"user_group\": user_group,\n",
    "  \"user_id\": user_id\n",
    "}\n",
    "json_call[\"input_data\"] = {\n",
    "    \"upper_teeth_dict\": result_upper_jaw[\"teeth_comp\"],\n",
    "    \"upper_align_matrix\": result_upper_jaw[\"align_matrix\"],\n",
    "    \"upper_axis_matrix_dict\": result_upper_jaw[\"axis\"],\n",
    "    \"lower_teeth_dict\": result_lower_jaw[\"teeth_comp\"],\n",
    "    \"lower_align_matrix\": result_lower_jaw[\"align_matrix\"],\n",
    "    \"lower_axis_matrix_dict\": result_lower_jaw[\"axis\"],\n",
    "    \"transformation_dict\": result_arrangement[\"result\"]['transformation_dict']\n",
    "}\n",
    "result_step = run_job_and_get_results(json_call, 2200)"
   ]
  },
  {
   "cell_type": "code",
   "execution_count": null,
   "id": "915d0a0e",
   "metadata": {},
   "outputs": [],
   "source": [
    "print(\"step count:\", len(result_step['result']['step_dict']))"
   ]
  },
  {
   "cell_type": "code",
   "execution_count": null,
   "id": "f35e377a",
   "metadata": {},
   "outputs": [],
   "source": [
    "original_comp = {**{k: retrieve_mesh(v) for k, v in result_upper_jaw[\"teeth_comp\"].items()},\n",
    "                 **{k: retrieve_mesh(v) for k, v in result_lower_jaw[\"teeth_comp\"].items()}}\n",
    "def show_step(step_index):\n",
    "    result_mesh = None\n",
    "    for k, m in original_comp.items():\n",
    "        if k in result_step['result']['step_dict'][step_index]:\n",
    "            result_mesh += m.copy().apply_transform(result_step['result']['step_dict'][step_index][k])\n",
    "    return result_mesh"
   ]
  },
  {
   "cell_type": "code",
   "execution_count": null,
   "id": "2d78cb5d",
   "metadata": {},
   "outputs": [],
   "source": [
    "show_step(10).show()"
   ]
  }
 ],
 "metadata": {
  "kernelspec": {
   "display_name": "Python 3 (ipykernel)",
   "language": "python",
   "name": "python3"
  },
  "language_info": {
   "codemirror_mode": {
    "name": "ipython",
    "version": 3
   },
   "file_extension": ".py",
   "mimetype": "text/x-python",
   "name": "python",
   "nbconvert_exporter": "python",
   "pygments_lexer": "ipython3",
   "version": "3.9.12"
  },
  "vscode": {
   "interpreter": {
    "hash": "952042305c124a401f43d2f6cec8cbc4c7afc925a6a970f3fb140f7422802111"
   }
  }
 },
 "nbformat": 4,
 "nbformat_minor": 5
}
