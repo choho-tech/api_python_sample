{
 "cells": [
  {
   "cell_type": "markdown",
   "metadata": {},
   "source": [
    "# Classification Sample"
   ]
  },
  {
   "cell_type": "code",
   "execution_count": null,
   "metadata": {},
   "outputs": [],
   "source": [
    "import os\n",
    "import cv2\n",
    "import glob\n",
    "import base64\n",
    "import time\n",
    "import requests\n",
    "import json\n",
    "import urllib\n",
    "import numpy as np\n",
    "import matplotlib.pyplot as plt"
   ]
  },
  {
   "cell_type": "markdown",
   "metadata": {},
   "source": [
    "# Define call rules\n",
    "\n",
    "Please modify the following code blocks based on the credentials you obtained from us."
   ]
  },
  {
   "cell_type": "code",
   "execution_count": null,
   "metadata": {},
   "outputs": [],
   "source": [
    "# Chohotech service request URL, sent with the API documentation.\n",
    "base_url = \"<service request URL>\"\n",
    "\n",
    "# Chohotech file service URL, sent with the API documentation.\n",
    "file_server_url = \"<service file server URL>\"\n",
    "\n",
    "# The authentication header must be passed in. Please keep the TOKEN confidential!!! If it is leaked, please contact us immediately to reset it. All tasks using this TOKEN will be charged to your account.\n",
    "zh_token = \"<your company's service Token, sent with the contact>\" # All API calls must be authenticated with the token.\n",
    "\n",
    "user_group = \"APIClient\" # User group, usually named APIClient.\n",
    "\n",
    "# Your company's user_id, sent with the API documentation.\n",
    "user_id = \"<your company's user_id>\"\n",
    "\n",
    "# If you have received creds.json, it will be read directly below.\n",
    "if os.path.exists('../../creds.json'):\n",
    "    creds = json.load(open('../../creds.json', 'r'))\n",
    "    base_url = creds['base_url']\n",
    "    file_server_url = creds['file_server_url']\n",
    "    zh_token = creds['zh_token']\n",
    "    user_id = creds['user_id']\n",
    "    print(\"loaded creds from creds.json\")"
   ]
  },
  {
   "cell_type": "markdown",
   "metadata": {},
   "source": [
    "## Image classification\n",
    "\n",
    "Image classificaion API defined here: https://www.chohotech.com/docs/cloud-en/#/module/image-classification-2"
   ]
  },
  {
   "cell_type": "code",
   "execution_count": null,
   "metadata": {},
   "outputs": [],
   "source": [
    "json_call = {\n",
    "    \"spec_version\": \"2.0-snapshot\",\n",
    "    \"spec_name\": \"image-classification\",\n",
    "    \"spec_group\": \"preprocessing\",\n",
    "    \"user_group\": user_group,\n",
    "    \"user_id\": user_id\n",
    "}"
   ]
  },
  {
   "cell_type": "markdown",
   "metadata": {},
   "source": [
    "### Define Callback URL\n",
    "\n",
    "Callback will send a POST request to the specified URL after the workflow is completed. The request content is a JSON object with 4 fields:\n",
    "\n",
    "1. workflow_id (str): the corresponding workflow_id\n",
    "2. metadata (dict): the metadata you passed when starting the workflow\n",
    "3. success (bool): whether the workflow succeeded (true for success)\n",
    "4. reason (str or null): If success is true, this item will be null. Otherwise, it will be a string representing the reason for failure.\n",
    "\n",
    "If you need a callback, please uncomment the following code block."
   ]
  },
  {
   "cell_type": "code",
   "execution_count": null,
   "metadata": {},
   "outputs": [],
   "source": [
    "# json_call['metadata'] = { # (optional) metadata can be added here, which will be attached to the callback information. Each item in the dictionary is limited to 128 characters\n",
    "#     \"case_id\": \"CH-123\",\n",
    "#     \"case_name\": \"ABCDE\"\n",
    "# }\n",
    "# json_call['notification'] =[ # (optional) callback URL can be added here\n",
    "#     {\"url\": \"https://www.baidu.com\"} # multiple callback URLs can be added here, each in the format {\"url\": \"xxx\"}\n",
    "# ]"
   ]
  },
  {
   "cell_type": "markdown",
   "metadata": {},
   "source": [
    "## Define Input/Output Blocks\n",
    "\n",
    "The input block is defined by `input_data` in the JSON file. For two-dimensional images, we support the following **input** file formats:\n",
    "\n",
    "```\n",
    "\"jpg\"\n",
    "\"jpeg\"\n",
    "\"png\"\n",
    "```\n",
    "\n",
    "For two-dimensional images, inputs can be passed in two ways:\n",
    "\n",
    "1. Upload the file to our file service system first, then write the file pointer into the JSON call string and call the API.\n",
    "2. Pass the base64-encoded binary data directly in the JSON call string.\n",
    "\n",
    "We **strongly recommend** using the first method for the following reasons:\n",
    "\n",
    "1. Base64 encoding will increase the data stream size and increase network latency.\n",
    "2. To ensure API performance, Choho will reject overly large API requests. Therefore, the second method will fail to call for large files (HTTP CODE 413)."
   ]
  },
  {
   "cell_type": "code",
   "execution_count": null,
   "metadata": {},
   "outputs": [],
   "source": [
    "def upload_file(file_name):\n",
    "    ext = file_name.split('.')[-1]\n",
    "    data = open('../../data/' + file_name, 'rb').read()\n",
    "    resp = requests.get(file_server_url + f\"/scratch/{user_group}/{user_id}/upload_url?\" +\n",
    "                        f\"postfix={ext}\", # Must specify postfix, i.e., the file extension\n",
    "                        headers={\"X-ZH-TOKEN\": zh_token}) # Get the signed upload URL\n",
    "    resp.raise_for_status()\n",
    "\n",
    "    upload_url = resp.text[1:-1] # Returns a single string JSON \"string\", can also use json.loads(resp.text)\n",
    "\n",
    "    resp = requests.put(upload_url, data)  # No auth header is needed for uploading to the cloud storage service\n",
    "\n",
    "    resp.raise_for_status()\n",
    "    path = \"/\".join(urllib.parse.urlparse(upload_url).path.lstrip(\"/\").split(\"/\")[3:])\n",
    "    urn = f\"urn:zhfile:o:s:{user_group}:{user_id}:{path}\"\n",
    "    return urn\n",
    "\n",
    "json_call[\"input_data\"] = {\n",
    "    \"images\":{\n",
    "        fname: upload_file(fname) for fname in os.listdir('../../data/') if os.path.splitext(fname)[1] == '.jpg'\n",
    "    }\n",
    "}"
   ]
  },
  {
   "cell_type": "markdown",
   "metadata": {},
   "source": [
    "# Submit request\n",
    "\n",
    "Submit the request using the `/run` POST method. "
   ]
  },
  {
   "cell_type": "code",
   "execution_count": null,
   "metadata": {},
   "outputs": [],
   "source": [
    "headers = {\n",
    "  \"Content-Type\": \"application/json\",\n",
    "  \"X-ZH-TOKEN\": zh_token\n",
    "}\n",
    "\n",
    "url = base_url + '/run'\n",
    "\n",
    "response = requests.request(\"POST\", url, headers=headers, data=json.dumps(json_call))\n",
    "response.raise_for_status()\n",
    "create_result = response.json()\n",
    "run_id = create_result['run_id']\n",
    "\n",
    "print(run_id)"
   ]
  },
  {
   "cell_type": "markdown",
   "metadata": {},
   "source": [
    "# Wait for the request to complete\n",
    "\n",
    "Use the polling API to wait for the request to complete, the API URL is `/run/{run_id}`.\n",
    "\n",
    "**It is strongly recommended to use the callback method.** Refer to [Define Callback URL](#Define-Callback-URL), the callback method will send a callback message to the given URL at the end of the workflow, regardless of whether the workflow is successful or not, so you do not need to poll the result."
   ]
  },
  {
   "cell_type": "code",
   "execution_count": null,
   "metadata": {},
   "outputs": [],
   "source": [
    "# Step 2: Polling the status\n",
    "url = base_url + f\"/run/{run_id}\"\n",
    "\n",
    "start_time = time.time()\n",
    "while time.time()-start_time < 180: # Maximum wait time: 3 minutes\n",
    "    time.sleep(0.3) # Polling interval\n",
    "    response = requests.request(\"GET\", url, headers=headers)\n",
    "    result = response.json()\n",
    "    if result['completed'] or result['failed']:\n",
    "        break\n",
    "\n",
    "if not result['completed']:\n",
    "    if result['failed']:\n",
    "        raise ValueError(\"API error, reason: \" + str(result['reason_public']))\n",
    "    raise TimeoutError(\"API timeout\")\n",
    "\n",
    "print(\"API execution time: {}s\".format(time.time()-start_time))"
   ]
  },
  {
   "cell_type": "markdown",
   "metadata": {},
   "source": [
    "# Get the request result\n",
    "\n",
    "Use `/data/{run_id}` to get all output data of this workflow, use `/data/{run_id}/{key}` to get a specific item of data."
   ]
  },
  {
   "cell_type": "code",
   "execution_count": null,
   "metadata": {},
   "outputs": [],
   "source": [
    "url = base_url + f\"/data/{run_id}\"\n",
    "response = requests.request(\"GET\", url, headers=headers)\n",
    "result = response.json()"
   ]
  },
  {
   "cell_type": "code",
   "execution_count": null,
   "metadata": {},
   "outputs": [],
   "source": [
    "cls_name = {\n",
    "    -1: \"Others\",\n",
    "    0: \"Frontal Image\",\n",
    "    2: \"Frontal Smiling Image\",\n",
    "    3: \"Frontal Occlusion Image\",\n",
    "    4: \"Cover Image\",\n",
    "    5: \"Left Occlusion Image\",\n",
    "    6: \"Mandibular Occlusion Image\",\n",
    "    7: \"Right Occlusion Image\",\n",
    "    8: \"Maxillary Occlusion Image\",\n",
    "    9: \"Panoramic Image\",\n",
    "    10: \"Lateral Cephalometric Image\",\n",
    "    13: \"Right 45° Image\",\n",
    "    14: \"Right Lateral Smiling Image\",\n",
    "    15: \"Left 45° Smiling Image\",\n",
    "    16: \"Left 45° Image\",\n",
    "    17: \"Left Lateral Smiling Image\",\n",
    "    18: \"Left Lateral Image\",\n",
    "    19: \"Right Lateral Image\",\n",
    "    20: \"Right 45° Smiling Image\",\n",
    "    21: \"Small Tooth Image\"\n",
    "}\n",
    "\n",
    "for k, v in result['result']['results'].items():\n",
    "    print(k, cls_name[v['predict_cls']])"
   ]
  },
  {
   "cell_type": "markdown",
   "metadata": {},
   "source": [
    "## Upper and Lower jaw classification\n",
    "\n",
    "Jaw mesh classification API is defined here: https://www.chohotech.com/docs/cloud-en/#/module/jaw-classification-1"
   ]
  },
  {
   "cell_type": "code",
   "execution_count": null,
   "metadata": {},
   "outputs": [],
   "source": [
    "json_call = {\n",
    "    \"spec_version\": \"1.0-snapshot\",\n",
    "    \"spec_name\": \"jaw-classification\",\n",
    "    \"spec_group\": \"preprocessing\",\n",
    "    \"user_group\": user_group,\n",
    "    \"user_id\": user_id,\n",
    "    \"input_data\": {\n",
    "        \"meshes\": [\n",
    "            {\"type\":\"drc\", \"data\": upload_file('upper_jaw_scan.drc')},\n",
    "            {\"type\":\"ply\", \"data\": upload_file('lower_jaw_scan.ply')}\n",
    "        ]\n",
    "    }\n",
    "}\n",
    "\n",
    "url = base_url + '/run'\n",
    "\n",
    "response = requests.request(\"POST\", url, headers=headers, data=json.dumps(json_call))\n",
    "response.raise_for_status()\n",
    "create_result = response.json()\n",
    "run_id = create_result['run_id']\n",
    "\n",
    "print(run_id)"
   ]
  },
  {
   "cell_type": "code",
   "execution_count": null,
   "metadata": {},
   "outputs": [],
   "source": [
    "url = base_url + f\"/run/{run_id}\"\n",
    "\n",
    "start_time = time.time()\n",
    "while time.time()-start_time < 180: # Maximum wait time: 3 minutes\n",
    "    time.sleep(0.3) # Polling interval\n",
    "    response = requests.request(\"GET\", url, headers=headers)\n",
    "    result = response.json()\n",
    "    if result['completed'] or result['failed']:\n",
    "        break\n",
    "\n",
    "if not result['completed']:\n",
    "    if result['failed']:\n",
    "        raise ValueError(\"API error, reason: \" + str(result['reason_public']))\n",
    "    raise TimeoutError(\"API timeout\")\n",
    "\n",
    "print(\"API execution time: {}s\".format(time.time()-start_time))\n",
    "url = base_url + f\"/data/{run_id}\"\n",
    "response = requests.request(\"GET\", url, headers=headers)\n",
    "result = response.json()"
   ]
  },
  {
   "cell_type": "code",
   "execution_count": null,
   "metadata": {},
   "outputs": [],
   "source": [
    "for i in result['result']['results']:\n",
    "    print(\n",
    "        \"Upper Jaw\" if i['upper_score'] > i['lower_score'] and i['upper_score'] > 0 else\n",
    "            \"Lower Jaw\" if i['lower_score'] > i['upper_score'] and i['lower_score'] > 0 else \"Not jaw mesh\"\n",
    "    )"
   ]
  }
 ],
 "metadata": {
  "kernelspec": {
   "display_name": "Python 3 (ipykernel)",
   "language": "python",
   "name": "python3"
  },
  "language_info": {
   "codemirror_mode": {
    "name": "ipython",
    "version": 3
   },
   "file_extension": ".py",
   "mimetype": "text/x-python",
   "name": "python",
   "nbconvert_exporter": "python",
   "pygments_lexer": "ipython3",
   "version": "3.9.12"
  },
  "vscode": {
   "interpreter": {
    "hash": "862987107cc000bc465df6f64a007a6c8d17c8cf7a32895d5460d35e9c5cb4f9"
   }
  }
 },
 "nbformat": 4,
 "nbformat_minor": 2
}
