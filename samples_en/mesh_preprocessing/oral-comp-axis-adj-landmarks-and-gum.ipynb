{
 "cells": [
  {
   "cell_type": "markdown",
   "id": "54f7cf82",
   "metadata": {},
   "source": [
    "# Mesh preprocessing\n",
    "\n",
    "This notebook shows how to do:\n",
    "\n",
    "1. jaw mesh segmentation\n",
    "2. teeth axis calculation\n",
    "3. teeth adjacency face reconstruction\n",
    "4. teeth landmarks calculation\n",
    "5. virtual gum generation"
   ]
  },
  {
   "cell_type": "code",
   "execution_count": null,
   "id": "899e4510",
   "metadata": {},
   "outputs": [],
   "source": [
    "import os\n",
    "import glob\n",
    "import base64\n",
    "import time\n",
    "import requests\n",
    "import json\n",
    "import trimesh\n",
    "import urllib\n",
    "import numpy as np\n",
    "\n",
    "def _create_colors():\n",
    "    # 20 high contrast colors\n",
    "    colors = [[230, 25, 75,255],[60, 180, 75,255],[255, 225, 25,255],\\\n",
    "            [0, 130, 200,255],[245, 130, 48,255],[145, 30, 180,255],[70, 240, 240,255],\\\n",
    "            [240, 50, 230,255],[210, 245, 60,255],[250, 190, 190,255],[0, 128, 128,255],\\\n",
    "            [230, 190, 255,255],[170, 110, 40,255],[255, 250, 200,255],[128, 0, 0,255],\\\n",
    "            [170, 255, 195,255],[128, 128, 0, 255]]\n",
    "    #np.random.shuffle(colors)\n",
    "    # gum color\n",
    "    colors = [[255,255,255,255]] + colors\n",
    "    return colors\n",
    "\n",
    "def colored_mesh(mesh, label):\n",
    "    COLORS = _create_colors()\n",
    "    mcopy = mesh.copy()\n",
    "    for i, l in enumerate(np.unique(label)):\n",
    "        mcopy.visual.face_colors[np.where(label == l)[0]] = COLORS[i % 18]\n",
    "    return mcopy"
   ]
  },
  {
   "cell_type": "markdown",
   "id": "cd41dcfa",
   "metadata": {},
   "source": [
    "## Define call rules\n",
    "Please modify the following code blocks based on the information you obtained from us."
   ]
  },
  {
   "cell_type": "code",
   "execution_count": null,
   "id": "aa010b08",
   "metadata": {},
   "outputs": [],
   "source": [
    "# Chohotech service request URL, sent with the API documentation.\n",
    "base_url = \"<service request URL>\"\n",
    "\n",
    "# Chohotech file service URL, sent with the API documentation.\n",
    "file_server_url = \"<service file server URL>\"\n",
    "\n",
    "# The authentication header must be passed in. Please keep the TOKEN confidential!!! If it is leaked, please contact us immediately to reset it. All tasks using this TOKEN will be charged to your account.\n",
    "zh_token = \"<your company's service Token, sent with the contact>\" # All API calls must be authenticated with the token.\n",
    "\n",
    "user_group = \"APIClient\" # User group, usually named APIClient.\n",
    "\n",
    "# Your company's user_id, sent with the API documentation.\n",
    "user_id = \"<your company's user_id>\"\n",
    "\n",
    "# If you have received creds.json, it will be read directly below.\n",
    "if os.path.exists('../../creds.json'):\n",
    "    creds = json.load(open('../../creds.json', 'r'))\n",
    "    base_url = creds['base_url']\n",
    "    file_server_url = creds['file_server_url']\n",
    "    zh_token = creds['zh_token']\n",
    "    user_id = creds['user_id']\n",
    "    print(\"loaded creds from creds.json\")"
   ]
  },
  {
   "cell_type": "code",
   "execution_count": null,
   "id": "e4bcfdaa",
   "metadata": {},
   "outputs": [],
   "source": [
    "def upload_file(file_name):\n",
    "    ext = file_name.split('.')[-1]\n",
    "    data = open('../../data/' + file_name, 'rb').read()\n",
    "    resp = requests.get(file_server_url + f\"/scratch/{user_group}/{user_id}/upload_url?\" +\n",
    "                        f\"postfix={ext}\", # Must specify postfix, i.e., file extension\n",
    "                        headers={\"X-ZH-TOKEN\": zh_token}) # Get signed upload URL\n",
    "    resp.raise_for_status()\n",
    "\n",
    "    upload_url = resp.text[1:-1] # Returns a single string JSON \"string\", can also use json.loads(resp.text)\n",
    "\n",
    "    resp = requests.put(upload_url, data) # No auth header is needed for uploading to the cloud storage service\n",
    "\n",
    "    resp.raise_for_status()\n",
    "    path = \"/\".join(urllib.parse.urlparse(upload_url).path.lstrip(\"/\").split(\"/\")[3:])\n",
    "    urn = f\"urn:zhfile:o:s:{user_group}:{user_id}:{path}\"\n",
    "    return urn\n",
    "\n",
    "def run_job_and_get_results(json_call, timeout_sec):\n",
    "    headers = {\n",
    "      \"Content-Type\": \"application/json\",\n",
    "      \"X-ZH-TOKEN\": zh_token\n",
    "    }\n",
    "\n",
    "    url = base_url + '/run'\n",
    "\n",
    "    response = requests.request(\"POST\", url, headers=headers, data=json.dumps(json_call))\n",
    "    response.raise_for_status()\n",
    "    create_result = response.json()\n",
    "    run_id = create_result['run_id']\n",
    "    print(\"workflow id is\", run_id)\n",
    "    url = base_url + f\"/run/{run_id}\"\n",
    "\n",
    "    start_time = time.time()\n",
    "    while time.time()-start_time < timeout_sec:\n",
    "        time.sleep(0.3)\n",
    "        response = requests.request(\"GET\", url, headers=headers)\n",
    "        result = response.json()\n",
    "        if result['completed'] or result['failed']:\n",
    "            break\n",
    "\n",
    "    if not result['completed']:\n",
    "        if result['failed']:\n",
    "            raise ValueError(\"API failed due to \" + str(result['reason_public']))\n",
    "        raise TimeoutError(\"API timeout\")\n",
    "\n",
    "    print(\"API finished in {}s\".format(time.time()-start_time))\n",
    "    url = base_url + f\"/data/{run_id}\"\n",
    "    response = requests.request(\"GET\", url, headers=headers)\n",
    "    return response.json()\n",
    "\n",
    "def retrieve_data(urn):\n",
    "    return requests.get(file_server_url + f\"/file/download?\" + urllib.parse.urlencode({\n",
    "                        \"urn\": urn}),\n",
    "                        headers={\"X-ZH-TOKEN\": zh_token}).content\n",
    "\n",
    "def retrieve_mesh(mesh_file_json):\n",
    "    resp = requests.get(file_server_url + f\"/file/download?\" + urllib.parse.urlencode({\n",
    "                        \"urn\": mesh_file_json['data']}),\n",
    "                        headers={\"X-ZH-TOKEN\": zh_token})\n",
    "    return trimesh.load(trimesh.util.wrap_as_stream(resp.content), file_type=mesh_file_json['type'])"
   ]
  },
  {
   "cell_type": "markdown",
   "id": "798fcec2",
   "metadata": {},
   "source": [
    "## Mesh segmentation, axis calculation and adjacency reconstruction"
   ]
  },
  {
   "cell_type": "code",
   "execution_count": null,
   "id": "f9fc919d",
   "metadata": {},
   "outputs": [],
   "source": [
    "json_call = {\n",
    "  \"spec_group\": \"mesh-processing\",\n",
    "  \"spec_name\": \"oral-comp-and-axis\",\n",
    "  \"spec_version\": \"1.0-snapshot\",\n",
    "  \"user_group\": user_group,\n",
    "  \"user_id\": user_id,\n",
    "  \"input_data\": {\n",
    "      \"mesh\": {\"type\":\"ply\", \"data\": upload_file('lower_jaw_scan.ply')},\n",
    "      \"jaw_type\": 'Lower'\n",
    "  },\n",
    "  \"output_config\": {\n",
    "      \"mesh\": {\"type\": \"ply\"},\n",
    "      \"teeth\": {\"type\": \"ply\"},\n",
    "      \"teeth_comp\": {\"type\": \"ply\"}\n",
    "  }\n",
    "}\n",
    "result = run_job_and_get_results(json_call, 300)"
   ]
  },
  {
   "cell_type": "code",
   "execution_count": null,
   "id": "57222da7",
   "metadata": {},
   "outputs": [],
   "source": [
    "print('FDI list:', np.unique(result['seg_labels']))\n",
    "colored_mesh(retrieve_mesh(result['mesh']), result['seg_labels']).show()"
   ]
  },
  {
   "cell_type": "markdown",
   "id": "2376edb8",
   "metadata": {},
   "source": [
    "## Teeth axis calculation\n",
    "\n",
    "If you modify the segmentation result, you can then call axis calculation API to calculate teeth axis under new segmentation. Note the input must be teeth of same jaw of same patient.\n",
    "\n",
    "Please refer to https://www.chohotech.com/docs/cloud-en/#/module/tooth-axis-combined-1"
   ]
  },
  {
   "cell_type": "code",
   "execution_count": null,
   "id": "54722482",
   "metadata": {},
   "outputs": [],
   "source": [
    "json_call = {\n",
    "  \"spec_group\": \"mesh-processing\",\n",
    "  \"spec_name\": \"tooth-axis-combined\",\n",
    "  \"spec_version\": \"1.0-snapshot\",\n",
    "  \"user_group\": user_group,\n",
    "  \"user_id\": user_id,\n",
    "  \"input_data\": {\"meshes\": result['teeth']}, # You can directly use urn here without downloading / uploading the file again!\n",
    "}\n",
    "result_axis = run_job_and_get_results(json_call, 300)"
   ]
  },
  {
   "cell_type": "code",
   "execution_count": null,
   "id": "2e6fcd7d",
   "metadata": {},
   "outputs": [],
   "source": [
    "print(result_axis['result']['result']['31'])"
   ]
  },
  {
   "cell_type": "markdown",
   "id": "495747cb",
   "metadata": {},
   "source": [
    "## Adjacency reconstruction\n",
    "\n",
    "If you modify the segmentation result, you can then call adjacency reconstruction API to reconstruct adjacency face under new segmentation. Note the input must be teeth of same jaw of same patient.\n",
    "\n",
    "Please refer to https://www.chohotech.com/docs/cloud-en/#/module/mesh-adj-comp-1"
   ]
  },
  {
   "cell_type": "code",
   "execution_count": null,
   "id": "8f991c7b",
   "metadata": {},
   "outputs": [],
   "source": [
    "json_call = {\n",
    "  \"spec_group\": \"mesh-processing\",\n",
    "  \"spec_name\": \"mesh-adj-comp\",\n",
    "  \"spec_version\": \"1.0-snapshot\",\n",
    "  \"user_group\": user_group,\n",
    "  \"user_id\": user_id,\n",
    "  \"input_data\": {\"meshes\": result['teeth']}, # You can directly use urn here without downloading / uploading the file again!\n",
    "  \"output_config\": {\n",
    "      \"meshes\": {\"type\": \"ply\"}\n",
    "  }\n",
    "}\n",
    "result_comp = run_job_and_get_results(json_call, 300)"
   ]
  },
  {
   "cell_type": "code",
   "execution_count": null,
   "id": "5a57e9c4",
   "metadata": {},
   "outputs": [],
   "source": [
    "comp_35 = retrieve_mesh(result_comp['result']['meshes']['35'])\n",
    "comp_35.visual.face_colors = [255, 0, 0, 255] # show comps in red\n",
    "(comp_35 + retrieve_mesh(result['teeth']['35'])).show()"
   ]
  },
  {
   "cell_type": "markdown",
   "id": "1773578c",
   "metadata": {},
   "source": [
    "## Landmarks calculations\n",
    "\n",
    "This API returns teeth landmark positions.\n",
    "\n",
    "Please refer to https://www.chohotech.com/docs/cloud-en/#/module/teeth-landmarks-2"
   ]
  },
  {
   "cell_type": "code",
   "execution_count": null,
   "id": "c6ee4590",
   "metadata": {},
   "outputs": [],
   "source": [
    "json_call = {\n",
    "  \"spec_group\": \"mesh-processing\",\n",
    "  \"spec_name\": \"teeth-landmarks\",\n",
    "  \"spec_version\": \"2.0-snapshot\",\n",
    "  \"user_group\": user_group,\n",
    "  \"user_id\": user_id,\n",
    "  \"input_data\": {\"meshes\": result['teeth'],\n",
    "                 \"axis_dict\": result['axis']}\n",
    "}\n",
    "result_landmarks = run_job_and_get_results(json_call, 300)"
   ]
  },
  {
   "cell_type": "code",
   "execution_count": null,
   "id": "7a7f8772",
   "metadata": {},
   "outputs": [],
   "source": [
    "pts = []\n",
    "all_t_comps = sum([retrieve_mesh(result['teeth_comp'][k]) for k in result['teeth_comp'].keys()], None)\n",
    "for m in result_landmarks['result']['result'].values():\n",
    "    for k in m.values():\n",
    "        for g in k:\n",
    "            pts.append(g)\n",
    "\n",
    "_, i = all_t_comps.kdtree.query(pts, k=5)\n",
    "all_t_comps.visual.vertex_colors[i.ravel()] = [255, 0, 0, 255]\n",
    "all_t_comps.show()"
   ]
  },
  {
   "cell_type": "markdown",
   "id": "9a404cf7",
   "metadata": {},
   "source": [
    "## Gum generation\n",
    "\n",
    "This API generates a virtual gum that natually supports all input teeth.\n",
    "\n",
    "The generated virtual gum can be displayed or used for printing model. See https://www.chohotech.com/docs/cloud-en/#/module/gum-generation-1"
   ]
  },
  {
   "cell_type": "code",
   "execution_count": null,
   "id": "31ba3b81",
   "metadata": {},
   "outputs": [],
   "source": [
    "json_call = {\n",
    "  \"spec_group\": \"mesh-processing\",\n",
    "  \"spec_name\": \"gum-generation\",\n",
    "  \"spec_version\": \"1.0-snapshot\",\n",
    "  \"user_group\": user_group,\n",
    "  \"user_id\": user_id,\n",
    "  \"input_data\": {\"teeth_dict\": result['teeth_comp']},\n",
    "  \"output_config\": {\n",
    "      \"gum\": {\"type\": \"ply\"}\n",
    "  }\n",
    "}\n",
    "result_gum = run_job_and_get_results(json_call, 300)"
   ]
  },
  {
   "cell_type": "code",
   "execution_count": null,
   "id": "0524cbf2",
   "metadata": {},
   "outputs": [],
   "source": [
    "gum_mesh = retrieve_mesh(result_gum['result']['gum'])\n",
    "gum_mesh.visual.face_colors = [255, 0, 0, 255] # show gum in red\n",
    "(gum_mesh + sum([retrieve_mesh(result['teeth_comp'][k]) for k in result['teeth_comp'].keys()], None)).show()"
   ]
  }
 ],
 "metadata": {
  "kernelspec": {
   "display_name": "Python 3 (ipykernel)",
   "language": "python",
   "name": "python3"
  },
  "language_info": {
   "codemirror_mode": {
    "name": "ipython",
    "version": 3
   },
   "file_extension": ".py",
   "mimetype": "text/x-python",
   "name": "python",
   "nbconvert_exporter": "python",
   "pygments_lexer": "ipython3",
   "version": "3.9.12"
  }
 },
 "nbformat": 4,
 "nbformat_minor": 5
}
