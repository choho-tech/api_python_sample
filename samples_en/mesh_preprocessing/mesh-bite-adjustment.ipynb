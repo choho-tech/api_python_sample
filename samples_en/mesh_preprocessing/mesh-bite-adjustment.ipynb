{
 "cells": [
  {
   "cell_type": "markdown",
   "id": "770950cc",
   "metadata": {},
   "source": [
    "# Oral scan bite adjustment"
   ]
  },
  {
   "cell_type": "markdown",
   "id": "08c5943d",
   "metadata": {},
   "source": [
    "Bite adjustment supports two modes:\n",
    "\n",
    "1. Adjustment based on intraoral photos: In this mode, input should include upper and lower jaw three-dimensional grids and a set of intraoral photos (at least including frontal occlusion images; if there are left and right occlusion images, precision will be improved).\n",
    "2. Adjustment based solely on the three-dimensional grid: In this mode, input should include upper and lower jaw three-dimensional grids, and the input dictionary should not contain intraoral photos."
   ]
  },
  {
   "cell_type": "code",
   "execution_count": null,
   "id": "899e4510",
   "metadata": {},
   "outputs": [],
   "source": [
    "import os\n",
    "import glob\n",
    "import base64\n",
    "import time\n",
    "import requests\n",
    "import json\n",
    "import trimesh\n",
    "import urllib\n",
    "import numpy as np"
   ]
  },
  {
   "cell_type": "markdown",
   "id": "cd41dcfa",
   "metadata": {},
   "source": [
    "# Define call rules\n",
    "\n",
    "Please modify the following code blocks based on the credentials you obtained from us."
   ]
  },
  {
   "cell_type": "code",
   "execution_count": null,
   "id": "aa010b08",
   "metadata": {},
   "outputs": [],
   "source": [
    "# Chohotech service request URL, sent with the API documentation.\n",
    "base_url = \"<service request URL>\"\n",
    "\n",
    "# Chohotech file service URL, sent with the API documentation.\n",
    "file_server_url = \"<service file server URL>\"\n",
    "\n",
    "# The authentication header must be passed in. Please keep the TOKEN confidential!!! If it is leaked, please contact us immediately to reset it. All tasks using this TOKEN will be charged to your account.\n",
    "zh_token = \"<your company's service Token, sent with the contact>\" # All API calls must be authenticated with the token.\n",
    "\n",
    "user_group = \"APIClient\" # User group, usually named APIClient.\n",
    "\n",
    "# Your company's user_id, sent with the API documentation.\n",
    "user_id = \"<your company's user_id>\"\n",
    "\n",
    "# If you have received creds.json, it will be read directly below.\n",
    "if os.path.exists('../../creds.json'):\n",
    "    creds = json.load(open('../../creds.json', 'r'))\n",
    "    base_url = creds['base_url']\n",
    "    file_server_url = creds['file_server_url']\n",
    "    zh_token = creds['zh_token']\n",
    "    user_id = creds['user_id']\n",
    "    print(\"loaded creds from creds.json\")"
   ]
  },
  {
   "cell_type": "code",
   "execution_count": null,
   "id": "f25a8ef3",
   "metadata": {},
   "outputs": [],
   "source": [
    "json_call = {\n",
    "  \"spec_group\": \"mesh-processing\",\n",
    "  \"spec_name\": \"bite-adjustment\",\n",
    "  \"spec_version\": \"1.0-snapshot\",\n",
    "  \"user_group\": user_group,\n",
    "  \"user_id\": user_id\n",
    "}"
   ]
  },
  {
   "cell_type": "markdown",
   "id": "07efab22",
   "metadata": {},
   "source": [
    "### Define Callback URL\n",
    "\n",
    "Callback will send a POST request to the specified URL after the workflow is completed. The request content is a JSON object with 4 fields:\n",
    "\n",
    "1. workflow_id (str): the corresponding workflow_id\n",
    "2. metadata (dict): the metadata you passed when starting the workflow\n",
    "3. success (bool): whether the workflow succeeded (true for success)\n",
    "4. reason (str or null): If success is true, this item will be null. Otherwise, it will be a string representing the reason for failure.\n",
    "\n",
    "If you need a callback, please uncomment the following code block."
   ]
  },
  {
   "cell_type": "code",
   "execution_count": null,
   "id": "9fdd0ebc",
   "metadata": {},
   "outputs": [],
   "source": [
    "# json_call['metadata'] = { # (optional) metadata can be added here, which will be attached to the callback information. Each item in the dictionary is limited to 128 characters\n",
    "#     \"case_id\": \"CH-123\",\n",
    "#     \"case_name\": \"ABCDE\"\n",
    "# }\n",
    "# json_call['notification'] =[ # (optional) callback URL can be added here\n",
    "#     {\"url\": \"https://www.baidu.com\"} # multiple callback URLs can be added here, each in the format {\"url\": \"xxx\"}\n",
    "# ]"
   ]
  },
  {
   "cell_type": "markdown",
   "id": "798fcec2",
   "metadata": {},
   "source": [
    "## Define Input/Output Blocks\n",
    "\n",
    "The input block is defined by `input_data` in the JSON file. For 3D meshes, we support the following **input** file formats:\n",
    "\n",
    "```\n",
    "\"obj\"\n",
    "\"stl\"\n",
    "\"off\"\n",
    "\"ply\"\n",
    "\"glb\"\n",
    "\"zip\": There must be only one mesh file inside the zip, and its extension must be obj, stl, off, ply, or glb.\n",
    "\"tar.gz\": There must be only one mesh file inside the tar or tar.gz, and its extension must be obj, stl, off, ply, or glb.\n",
    "\"drc\"\n",
    "```\n",
    "\n",
    "and the following **output** file formats:\n",
    "```\n",
    "\"obj\"\n",
    "\"stl\"\n",
    "\"off\"\n",
    "\"ply\"\n",
    "\"glb\"\n",
    "\"drc\"\n",
    "```\n",
    "\n",
    "\n",
    "We **strongly recommend** using the `drc` file format for input/output to reduce network transmission time. The generation and reading of drc format files can be done using Google's Draco library: https://github.com/google/draco\n",
    "\n",
    "The table below shows the file size of the same 3D mesh in different file formats (point precision: 0.001mm):\n",
    "\n",
    "| File Format | File Size |\n",
    "| --- | --- |\n",
    "| stl | 16.7M |\n",
    "| obj | 13.5M |\n",
    "| off | 14.2M |\n",
    "| ply | 7.0M |\n",
    "| glb | 6.0M |\n",
    "| drc | 517.3K |\n",
    "\n",
    "\n",
    "For 3D meshes, input can be passed in two ways:\n",
    "\n",
    "1. Upload the 3D mesh file to our file service system first, then pass the file pointer to the request body and call the API.\n",
    "2. Directly pass the base64-encoded binary data in the request body.\n",
    "\n",
    "For 3D meshes, output can be specified in two ways:\n",
    "\n",
    "1. Return the file pointer as part of the API response, and users can download the specific binary file from our file system.\n",
    "2. Directly return the binary data in the form of base64 encoding in the API response.\n",
    "\n",
    "\n",
    "We **strongly recommend** using the first method for the following reasons:\n",
    "\n",
    "1. Base64 encoding will increase the bandwidth and increase network latency.\n",
    "2. To ensure API performance, Choho may reject API requests that are too large. Therefore, for large files, the second method will fail (HTTP CODE 413)."
   ]
  },
  {
   "cell_type": "markdown",
   "id": "5fe0b57b",
   "metadata": {},
   "source": [
    "### Upload in file mode"
   ]
  },
  {
   "cell_type": "code",
   "execution_count": null,
   "id": "f9fc919d",
   "metadata": {},
   "outputs": [],
   "source": [
    "def upload_file(file_name):\n",
    "    ext = file_name.split('.')[-1]\n",
    "    data = open('../../data/' + file_name, 'rb').read()\n",
    "    resp = requests.get(file_server_url + f\"/scratch/{user_group}/{user_id}/upload_url?\" +\n",
    "                        f\"postfix={ext}\", # Must specify postfix, i.e., the file extension\n",
    "                        headers={\"X-ZH-TOKEN\": zh_token}) # Get the signed upload URL\n",
    "    resp.raise_for_status()\n",
    "\n",
    "    upload_url = resp.text[1:-1] # Returns a single string JSON \"string\", can also use json.loads(resp.text)\n",
    "\n",
    "    resp = requests.put(upload_url, data)  # No auth header is needed for uploading to the cloud storage service\n",
    "\n",
    "    resp.raise_for_status()\n",
    "    path = \"/\".join(urllib.parse.urlparse(upload_url).path.lstrip(\"/\").split(\"/\")[3:])\n",
    "    urn = f\"urn:zhfile:o:s:{user_group}:{user_id}:{path}\"\n",
    "    return urn\n",
    "\n",
    "json_call[\"input_data\"] = {\n",
    "    \"lower_mesh\": {\"type\":\"ply\", \"data\": upload_file('lower_jaw_scan.ply')},\n",
    "    \"upper_mesh\": {\"type\":\"drc\", \"data\": upload_file('upper_jaw_scan.drc')},\n",
    "    \"inner_images\": {\"front\": upload_file('inner_front.jpg'), \"right\": upload_file(\"inner_right.jpg\"),\n",
    "                     \"left\": upload_file(\"inner_left.jpg\")}\n",
    "}"
   ]
  },
  {
   "cell_type": "markdown",
   "id": "bbb3e44a",
   "metadata": {},
   "source": [
    "# Submit request\n",
    "\n",
    "Submit the request using the `/run` POST method."
   ]
  },
  {
   "cell_type": "code",
   "execution_count": null,
   "id": "3f6da602",
   "metadata": {},
   "outputs": [],
   "source": [
    "headers = {\n",
    "  \"Content-Type\": \"application/json\",\n",
    "  \"X-ZH-TOKEN\": zh_token\n",
    "}\n",
    "\n",
    "url = base_url + '/run'\n",
    "\n",
    "response = requests.request(\"POST\", url, headers=headers, data=json.dumps(json_call))\n",
    "print(response.text)\n",
    "response.raise_for_status()\n",
    "create_result = response.json()\n",
    "run_id = create_result['run_id']\n",
    "\n",
    "print(run_id)"
   ]
  },
  {
   "cell_type": "markdown",
   "id": "b66bdd8d",
   "metadata": {},
   "source": [
    "# Wait for the request to complete\n",
    "\n",
    "Use the polling API to wait for the request to complete, the API URL is `/run/{run_id}`.\n",
    "\n",
    "**It is strongly recommended to use the callback method.** Refer to [Define Callback URL](#Define-Callback-URL), the callback method will send a callback message to the given URL at the end of the workflow, regardless of whether the workflow is successful or not, so you do not need to poll the result."
   ]
  },
  {
   "cell_type": "code",
   "execution_count": null,
   "id": "51e2203b",
   "metadata": {},
   "outputs": [],
   "source": [
    "# Step 2: Polling the status\n",
    "url = base_url + f\"/run/{run_id}\"\n",
    "\n",
    "start_time = time.time()\n",
    "while time.time()-start_time < 180: # Maximum wait time: 3 minutes\n",
    "    time.sleep(0.3) # Polling interval\n",
    "    response = requests.request(\"GET\", url, headers=headers)\n",
    "    result = response.json()\n",
    "    if result['completed'] or result['failed']:\n",
    "        break\n",
    "\n",
    "if not result['completed']:\n",
    "    if result['failed']:\n",
    "        raise ValueError(\"API error, reason: \" + str(result['reason_public']))\n",
    "    raise TimeoutError(\"API timeout\")\n",
    "\n",
    "print(\"API execution time: {}s\".format(time.time()-start_time))"
   ]
  },
  {
   "cell_type": "markdown",
   "id": "d7c85581",
   "metadata": {},
   "source": [
    "# Get the request result\n",
    "\n",
    "Use `/data/{run_id}` to get all output data of this workflow, use `/data/{run_id}/{key}` to get a specific item of data."
   ]
  },
  {
   "cell_type": "code",
   "execution_count": null,
   "id": "a86e332f",
   "metadata": {},
   "outputs": [],
   "source": [
    "url = base_url + f\"/data/{run_id}\"\n",
    "response = requests.request(\"GET\", url, headers=headers)\n",
    "result = response.json()"
   ]
  },
  {
   "cell_type": "markdown",
   "id": "2376edb8",
   "metadata": {},
   "source": [
    "# Visualization"
   ]
  },
  {
   "cell_type": "code",
   "execution_count": null,
   "id": "2af8d47d",
   "metadata": {},
   "outputs": [],
   "source": [
    "mesh_l = trimesh.load(\"../../data/lower_jaw_scan.ply\")\n",
    "mesh_u_data = trimesh.exchange.ply.load_draco(open(\"../../data/upper_jaw_scan.drc\", 'rb'))\n",
    "mesh_u = trimesh.Trimesh(faces = mesh_u_data['faces'], vertices=mesh_u_data['vertices'])"
   ]
  },
  {
   "cell_type": "code",
   "execution_count": null,
   "id": "54722482",
   "metadata": {},
   "outputs": [],
   "source": [
    "print('Before bite adjustment：')\n",
    "(mesh_l + mesh_u).show()"
   ]
  },
  {
   "cell_type": "code",
   "execution_count": null,
   "id": "7bca9e88",
   "metadata": {},
   "outputs": [],
   "source": [
    "print('After bite adjustment:')\n",
    "(mesh_l.copy().apply_transform(result['lower_align_matrix']).apply_transform(result['lower_bite_adj_matrix']) +\n",
    " mesh_u.copy().apply_transform(result['upper_align_matrix']).apply_transform(result['upper_bite_adj_matrix'])).show()"
   ]
  },
  {
   "cell_type": "markdown",
   "id": "87976615",
   "metadata": {},
   "source": [
    "# Bite adjustment without intraloral images"
   ]
  },
  {
   "cell_type": "code",
   "execution_count": null,
   "id": "65e954e3",
   "metadata": {},
   "outputs": [],
   "source": [
    "# delete inner_images from input_data\n",
    "del json_call['input_data']['inner_images']"
   ]
  },
  {
   "cell_type": "code",
   "execution_count": null,
   "id": "177de034",
   "metadata": {},
   "outputs": [],
   "source": [
    "url = base_url + '/run'\n",
    "\n",
    "response = requests.request(\"POST\", url, headers=headers, data=json.dumps(json_call))\n",
    "response.raise_for_status()\n",
    "create_result = response.json()\n",
    "run_id = create_result['run_id']\n",
    "\n",
    "print(run_id)\n",
    "\n",
    "url = base_url + f\"/run/{run_id}\"\n",
    "\n",
    "start_time = time.time()\n",
    "while time.time()-start_time < 180:\n",
    "    time.sleep(3)\n",
    "    response = requests.request(\"GET\", url, headers=headers)\n",
    "    result = response.json()\n",
    "    if result['completed'] or result['failed']:\n",
    "        break\n",
    "\n",
    "if not result['completed']:\n",
    "    if result['failed']:\n",
    "        raise ValueError(\"API error, reason: \" + str(result['reason_public']))\n",
    "    raise TimeoutError(\"API timeout\")\n",
    "\n",
    "print(\"API finished in: {}s\".format(time.time()-start_time))\n",
    "\n",
    "url = base_url + f\"/data/{run_id}\"\n",
    "response = requests.request(\"GET\", url, headers=headers)\n",
    "result = response.json()"
   ]
  },
  {
   "cell_type": "code",
   "execution_count": null,
   "id": "f70e4a14",
   "metadata": {},
   "outputs": [],
   "source": [
    "print('After bite adjustment')\n",
    "(mesh_l.copy().apply_transform(result['lower_align_matrix']).apply_transform(result['lower_bite_adj_matrix']) +\n",
    " mesh_u.copy().apply_transform(result['upper_align_matrix']).apply_transform(result['upper_bite_adj_matrix'])).show()"
   ]
  },
  {
   "cell_type": "markdown",
   "id": "1e6dd91d",
   "metadata": {},
   "source": [
    "If you want to keep upper jaw at exact input coordinate and transform only the lower jaw. The lower jaw transformation matrix can be calculated as follows:"
   ]
  },
  {
   "cell_type": "code",
   "execution_count": null,
   "id": "c2f368f1",
   "metadata": {},
   "outputs": [],
   "source": [
    "lmat = np.linalg.solve(np.array(result['upper_bite_adj_matrix']) @ np.array(result['upper_align_matrix']),\n",
    "                       np.array(result['lower_bite_adj_matrix']) @ np.array(result['lower_align_matrix']))"
   ]
  },
  {
   "cell_type": "code",
   "execution_count": null,
   "id": "ae92e472",
   "metadata": {},
   "outputs": [],
   "source": [
    "(mesh_l.copy().apply_transform(lmat) + mesh_u).show()"
   ]
  }
 ],
 "metadata": {
  "kernelspec": {
   "display_name": "Python 3 (ipykernel)",
   "language": "python",
   "name": "python3"
  },
  "language_info": {
   "codemirror_mode": {
    "name": "ipython",
    "version": 3
   },
   "file_extension": ".py",
   "mimetype": "text/x-python",
   "name": "python",
   "nbconvert_exporter": "python",
   "pygments_lexer": "ipython3",
   "version": "3.9.12"
  },
  "vscode": {
   "interpreter": {
    "hash": "952042305c124a401f43d2f6cec8cbc4c7afc925a6a970f3fb140f7422802111"
   }
  }
 },
 "nbformat": 4,
 "nbformat_minor": 5
}
