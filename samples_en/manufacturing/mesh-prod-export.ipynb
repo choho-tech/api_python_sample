{
 "cells": [
  {
   "cell_type": "markdown",
   "id": "770950cc",
   "metadata": {},
   "source": [
    "# Export for manufacturing"
   ]
  },
  {
   "cell_type": "markdown",
   "id": "08c5943d",
   "metadata": {},
   "source": [
    "This notebook shows how to export a printable jaw model so you can print it and then, make clear aligners."
   ]
  },
  {
   "cell_type": "code",
   "execution_count": null,
   "id": "899e4510",
   "metadata": {},
   "outputs": [],
   "source": [
    "import os\n",
    "import glob\n",
    "import base64\n",
    "import time\n",
    "import requests\n",
    "import json\n",
    "import trimesh\n",
    "import urllib\n",
    "import numpy as np"
   ]
  },
  {
   "cell_type": "markdown",
   "id": "cd41dcfa",
   "metadata": {},
   "source": [
    "# Define call rules\n",
    "\n",
    "Please modify the following code blocks based on the credentials you obtained from us."
   ]
  },
  {
   "cell_type": "code",
   "execution_count": null,
   "id": "aa010b08",
   "metadata": {},
   "outputs": [],
   "source": [
    "# Chohotech service request URL, sent with the API documentation.\n",
    "base_url = \"<service request URL>\"\n",
    "\n",
    "# Chohotech file service URL, sent with the API documentation.\n",
    "file_server_url = \"<service file server URL>\"\n",
    "\n",
    "# The authentication header must be passed in. Please keep the TOKEN confidential!!! If it is leaked, please contact us immediately to reset it. All tasks using this TOKEN will be charged to your account.\n",
    "zh_token = \"<your company's service Token, sent with the contact>\" # All API calls must be authenticated with the token.\n",
    "\n",
    "user_group = \"APIClient\" # User group, usually named APIClient.\n",
    "\n",
    "# Your company's user_id, sent with the API documentation.\n",
    "user_id = \"<your company's user_id>\"\n",
    "\n",
    "# If you have received creds.json, it will be read directly below.\n",
    "if os.path.exists('../../creds.json'):\n",
    "    creds = json.load(open('../../creds.json', 'r'))\n",
    "    base_url = creds['base_url']\n",
    "    file_server_url = creds['file_server_url']\n",
    "    zh_token = creds['zh_token']\n",
    "    user_id = creds['user_id']\n",
    "    print(\"loaded creds from creds.json\")"
   ]
  },
  {
   "cell_type": "code",
   "execution_count": null,
   "id": "c744b750",
   "metadata": {},
   "outputs": [],
   "source": [
    "def upload_file(file_name):\n",
    "    ext = file_name.split('.')[-1]\n",
    "    data = open('../../data/' + file_name, 'rb').read()\n",
    "    resp = requests.get(file_server_url + f\"/scratch/{user_group}/{user_id}/upload_url?\" +\n",
    "                        f\"postfix={ext}\", # Must specify postfix, i.e., file extension\n",
    "                        headers={\"X-ZH-TOKEN\": zh_token}) # Get signed upload URL\n",
    "    resp.raise_for_status()\n",
    "\n",
    "    upload_url = resp.text[1:-1] # Returns a single string JSON \"string\", can also use json.loads(resp.text)\n",
    "\n",
    "    resp = requests.put(upload_url, data) # No auth header is needed for uploading to the cloud storage service\n",
    "\n",
    "    resp.raise_for_status()\n",
    "    path = \"/\".join(urllib.parse.urlparse(upload_url).path.lstrip(\"/\").split(\"/\")[3:])\n",
    "    urn = f\"urn:zhfile:o:s:{user_group}:{user_id}:{path}\"\n",
    "    return urn\n",
    "\n",
    "def run_job_and_get_results(json_call, timeout_sec):\n",
    "    headers = {\n",
    "      \"Content-Type\": \"application/json\",\n",
    "      \"X-ZH-TOKEN\": zh_token\n",
    "    }\n",
    "\n",
    "    url = base_url + '/run'\n",
    "\n",
    "    response = requests.request(\"POST\", url, headers=headers, data=json.dumps(json_call))\n",
    "    response.raise_for_status()\n",
    "    create_result = response.json()\n",
    "    run_id = create_result['run_id']\n",
    "    print(\"workflow id is\", run_id)\n",
    "    url = base_url + f\"/run/{run_id}\"\n",
    "\n",
    "    start_time = time.time()\n",
    "    while time.time()-start_time < timeout_sec:\n",
    "        time.sleep(0.3)\n",
    "        response = requests.request(\"GET\", url, headers=headers)\n",
    "        result = response.json()\n",
    "        if result['completed'] or result['failed']:\n",
    "            break\n",
    "\n",
    "    if not result['completed']:\n",
    "        if result['failed']:\n",
    "            raise ValueError(\"API failed due to \" + str(result['reason_public']))\n",
    "        raise TimeoutError(\"API timeout\")\n",
    "\n",
    "    print(\"API finished in {}s\".format(time.time()-start_time))\n",
    "    url = base_url + f\"/data/{run_id}\"\n",
    "    response = requests.request(\"GET\", url, headers=headers)\n",
    "    return response.json()\n",
    "\n",
    "def retrieve_data(urn):\n",
    "    return requests.get(file_server_url + f\"/file/download?\" + urllib.parse.urlencode({\n",
    "                        \"urn\": urn}),\n",
    "                        headers={\"X-ZH-TOKEN\": zh_token}).content\n",
    "\n",
    "def retrieve_mesh(mesh_file_json):\n",
    "    resp = requests.get(file_server_url + f\"/file/download?\" + urllib.parse.urlencode({\n",
    "                        \"urn\": mesh_file_json['data']}),\n",
    "                        headers={\"X-ZH-TOKEN\": zh_token})\n",
    "    return trimesh.load(trimesh.util.wrap_as_stream(resp.content), file_type=mesh_file_json['type'])"
   ]
  },
  {
   "cell_type": "markdown",
   "id": "42548ed4",
   "metadata": {},
   "source": [
    "## Prepare data\n",
    "\n",
    "Prepare watertight teeth mesh and gum mesh"
   ]
  },
  {
   "cell_type": "code",
   "execution_count": null,
   "id": "0543a93d",
   "metadata": {},
   "outputs": [],
   "source": [
    "json_call = {\n",
    "  \"spec_group\": \"mesh-processing\",\n",
    "  \"spec_name\": \"oral-denoise-prod\",\n",
    "  \"spec_version\": \"1.0-snapshot\",\n",
    "  \"user_group\": user_group,\n",
    "  \"user_id\": user_id,\n",
    "  \"input_data\": {\n",
    "      \"mesh\": {\"type\":\"drc\", \"data\": upload_file(\"upper_jaw_scan.drc\")},\n",
    "      \"jaw_type\": \"Upper\"\n",
    "  },\n",
    "}\n",
    "result_upper_jaw = run_job_and_get_results(json_call, 300)"
   ]
  },
  {
   "cell_type": "code",
   "execution_count": null,
   "id": "1a910b61",
   "metadata": {},
   "outputs": [],
   "source": [
    "json_call = {\n",
    "  \"spec_group\": \"mesh-processing\",\n",
    "  \"spec_name\": \"wf-gum-only-generation\",\n",
    "  \"spec_version\": \"1.0-snapshot\",\n",
    "  \"user_group\": user_group,\n",
    "  \"user_id\": user_id,\n",
    "  \"input_data\": {\n",
    "      \"teeth_dict\": result_upper_jaw['teeth_comp']\n",
    "  },\n",
    "}\n",
    "result_upper_jaw_gum = run_job_and_get_results(json_call, 150)"
   ]
  },
  {
   "cell_type": "code",
   "execution_count": null,
   "id": "656618d1",
   "metadata": {},
   "outputs": [],
   "source": [
    "json_call = {\n",
    "  \"spec_group\": \"mesh-processing\",\n",
    "  \"spec_name\": \"close-teeth-bottom\",\n",
    "  \"spec_version\": \"1.0-snapshot\",\n",
    "  \"user_group\": user_group,\n",
    "  \"user_id\": user_id,\n",
    "  \"input_data\": {\n",
    "      \"teeth\": result_upper_jaw['teeth_comp']\n",
    "  },\n",
    "}\n",
    "result_close_bottom = run_job_and_get_results(json_call, 150)"
   ]
  },
  {
   "cell_type": "markdown",
   "id": "bfe374e6",
   "metadata": {},
   "source": [
    "## Generate printable jaw model\n",
    "\n",
    "Please refer to https://www.chohotech.com/docs/cloud-en/#/module/dental-mesh-export-1"
   ]
  },
  {
   "cell_type": "code",
   "execution_count": null,
   "id": "f25a8ef3",
   "metadata": {},
   "outputs": [],
   "source": [
    "json_call = {\n",
    "  \"spec_group\": \"mesh-processing\",\n",
    "  \"spec_name\": \"dental-mesh-export\",\n",
    "  \"spec_version\": \"1.0-snapshot\",\n",
    "  \"user_group\": user_group,\n",
    "  \"user_id\": user_id,\n",
    "  \"input_data\": {\n",
    "    \"gum\": result_upper_jaw_gum['gum'],\n",
    "    \"tooth_dict\": result_close_bottom['teeth'],\n",
    "    \"text\": \"Sample_11\",\n",
    "    \"jaw_type\": \"Upper\"\n",
    "  },\n",
    "  \"output_config\": {\n",
    "      \"mesh\": {\"type\": \"ply\"}\n",
    "  }\n",
    "}\n",
    "result_export= run_job_and_get_results(json_call, 300)"
   ]
  },
  {
   "cell_type": "markdown",
   "id": "2376edb8",
   "metadata": {},
   "source": [
    "# Visualization\n",
    "\n",
    "Following is the sample printable jaw model"
   ]
  },
  {
   "cell_type": "code",
   "execution_count": null,
   "id": "ae92e472",
   "metadata": {},
   "outputs": [],
   "source": [
    "retrieve_mesh(result_export['result']['mesh']).show()"
   ]
  }
 ],
 "metadata": {
  "kernelspec": {
   "display_name": "Python 3 (ipykernel)",
   "language": "python",
   "name": "python3"
  },
  "language_info": {
   "codemirror_mode": {
    "name": "ipython",
    "version": 3
   },
   "file_extension": ".py",
   "mimetype": "text/x-python",
   "name": "python",
   "nbconvert_exporter": "python",
   "pygments_lexer": "ipython3",
   "version": "3.9.12"
  },
  "vscode": {
   "interpreter": {
    "hash": "952042305c124a401f43d2f6cec8cbc4c7afc925a6a970f3fb140f7422802111"
   }
  }
 },
 "nbformat": 4,
 "nbformat_minor": 5
}
