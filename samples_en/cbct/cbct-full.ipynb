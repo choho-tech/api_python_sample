{
 "cells": [
  {
   "cell_type": "markdown",
   "id": "54f7cf82",
   "metadata": {},
   "source": [
    "# CBCT scan fusion\n",
    "\n",
    "This API takes oral scans and zipped raw CBCT files (dcms / NRRD in zip), and then returns the reconstructed organ mesh along with fused teeth mesh constructed from cbct-root and scan-crown.\n",
    "\n",
    "For API specification, see https://www.chohotech.com/docs/cloud-en/#/workflow/scan-seg-and-cbct-fusion-1"
   ]
  },
  {
   "cell_type": "code",
   "execution_count": null,
   "id": "899e4510",
   "metadata": {},
   "outputs": [],
   "source": [
    "import os\n",
    "import glob\n",
    "import base64\n",
    "import time\n",
    "import requests\n",
    "import json\n",
    "import trimesh\n",
    "import urllib\n",
    "import numpy as np\n",
    "\n",
    "def _create_colors():\n",
    "    # 20 high contrast colors\n",
    "    colors = [[230, 25, 75,255],[60, 180, 75,255],[255, 225, 25,255],\\\n",
    "            [0, 130, 200,255],[245, 130, 48,255],[145, 30, 180,255],[70, 240, 240,255],\\\n",
    "            [240, 50, 230,255],[210, 245, 60,255],[250, 190, 190,255],[0, 128, 128,255],\\\n",
    "            [230, 190, 255,255],[170, 110, 40,255],[255, 250, 200,255],[128, 0, 0,255],\\\n",
    "            [170, 255, 195,255],[128, 128, 0, 255]]\n",
    "    #np.random.shuffle(colors)\n",
    "    # gum color\n",
    "    colors = [[255,255,255,255]] + colors\n",
    "    return colors\n",
    "\n",
    "def colored_mesh(mesh, cid):\n",
    "    COLORS = _create_colors()\n",
    "    mcopy = mesh.copy()\n",
    "    mcopy.visual.face_colors = COLORS[cid % 18]\n",
    "    return mcopy"
   ]
  },
  {
   "cell_type": "markdown",
   "id": "cd41dcfa",
   "metadata": {},
   "source": [
    "# Define call rules\n",
    "\n",
    "Please modify the following code blocks based on the credentials you obtained from us."
   ]
  },
  {
   "cell_type": "code",
   "execution_count": null,
   "id": "aa010b08",
   "metadata": {},
   "outputs": [],
   "source": [
    "# Chohotech service request URL, sent with the API documentation.\n",
    "base_url = \"<service request URL>\"\n",
    "\n",
    "# Chohotech file service URL, sent with the API documentation.\n",
    "file_server_url = \"<service file server URL>\"\n",
    "\n",
    "# The authentication header must be passed in. Please keep the TOKEN confidential!!! If it is leaked, please contact us immediately to reset it. All tasks using this TOKEN will be charged to your account.\n",
    "zh_token = \"<your company's service Token, sent with the contact>\" # All API calls must be authenticated with the token.\n",
    "\n",
    "user_group = \"APIClient\" # User group, usually named APIClient.\n",
    "\n",
    "# Your company's user_id, sent with the API documentation.\n",
    "user_id = \"<your company's user_id>\"\n",
    "\n",
    "# If you have received creds.json, it will be read directly below.\n",
    "if os.path.exists('../../creds.json'):\n",
    "    creds = json.load(open('../../creds.json', 'r'))\n",
    "    base_url = creds['base_url']\n",
    "    file_server_url = creds['file_server_url']\n",
    "    zh_token = creds['zh_token']\n",
    "    user_id = creds['user_id']\n",
    "    print(\"loaded creds from creds.json\")"
   ]
  },
  {
   "cell_type": "code",
   "execution_count": null,
   "id": "f25a8ef3",
   "metadata": {},
   "outputs": [],
   "source": [
    "json_call = {\n",
    "  \"spec_group\": \"cbct\",\n",
    "  \"spec_name\": \"scan-seg-and-cbct-fusion\",\n",
    "  \"spec_version\": \"1.0-snapshot\",\n",
    "  \"user_group\": user_group,\n",
    "  \"user_id\": user_id\n",
    "}"
   ]
  },
  {
   "cell_type": "markdown",
   "id": "07efab22",
   "metadata": {},
   "source": [
    "### Define Callback URL\n",
    "\n",
    "Callback will send a POST request to the specified URL after the workflow is completed. The request content is a JSON object with 4 fields:\n",
    "\n",
    "1. workflow_id (str): the corresponding workflow_id\n",
    "2. metadata (dict): the metadata you passed when starting the workflow\n",
    "3. success (bool): whether the workflow succeeded (true for success)\n",
    "4. reason (str or null): If success is true, this item will be null. Otherwise, it will be a string representing the reason for failure.\n",
    "\n",
    "If you need a callback, please uncomment the following code block."
   ]
  },
  {
   "cell_type": "code",
   "execution_count": 1,
   "id": "9fdd0ebc",
   "metadata": {},
   "outputs": [],
   "source": [
    "# json_call['metadata'] = { # (optional) metadata can be added here, which will be attached to the callback information. Each item in the dictionary is limited to 128 characters\n",
    "#     \"case_id\": \"CH-123\",\n",
    "#     \"case_name\": \"ABCDE\"\n",
    "# }\n",
    "# json_call['notification'] =[ # (optional) callback URL can be added here\n",
    "#     {\"url\": \"https://www.baidu.com\"} # multiple callback URLs can be added here, each in the format {\"url\": \"xxx\"}\n",
    "# ]"
   ]
  },
  {
   "cell_type": "markdown",
   "id": "798fcec2",
   "metadata": {},
   "source": [
    "## Define Input/Output Blocks\n",
    "\n",
    "The input CBCT file must be a zip package containing all CBCT files of the sequence. The algorithm will automatically search for the first CBCT sequence contained within the zip. If the top-level directory within the zip package is nested with additional compressed files (zip / rar / tar), the algorithm will at most decompress one level further."
   ]
  },
  {
   "cell_type": "code",
   "execution_count": null,
   "id": "f9fc919d",
   "metadata": {},
   "outputs": [],
   "source": [
    "def upload_file(file_name):\n",
    "    ext = file_name.split('.')[-1]\n",
    "    data = open('../../data/' + file_name, 'rb').read()\n",
    "    resp = requests.get(file_server_url + f\"/scratch/{user_group}/{user_id}/upload_url?\" +\n",
    "                        f\"postfix={ext}\", # Must specify postfix, i.e., file extension\n",
    "                        headers={\"X-ZH-TOKEN\": zh_token}) # Get signed upload URL\n",
    "    resp.raise_for_status()\n",
    "\n",
    "    upload_url = resp.text[1:-1] # Returns a single string JSON \"string\", can also use json.loads(resp.text)\n",
    "\n",
    "    resp = requests.put(upload_url, data) # No auth header is needed for uploading to the cloud storage service\n",
    "\n",
    "    resp.raise_for_status()\n",
    "    path = \"/\".join(urllib.parse.urlparse(upload_url).path.lstrip(\"/\").split(\"/\")[3:])\n",
    "    urn = f\"urn:zhfile:o:s:{user_group}:{user_id}:{path}\"\n",
    "    return urn\n",
    "\n",
    "json_call[\"input_data\"] = {\n",
    "    \"upper_jaw_scan\": {\"type\":\"drc\", \"data\": upload_file('upper_jaw_scan.drc')},\n",
    "    \"lower_jaw_scan\": {\"type\":\"ply\", \"data\": upload_file('lower_jaw_scan.ply')},\n",
    "    \"raw_ct_file\": upload_file(\"cbct.zip\")\n",
    "}\n",
    "\n",
    "json_call[\"output_config\"]= {\n",
    "  \"teeth\": {\"type\": \"ply\"},\n",
    "  \"root\": {\"type\": \"ply\"},\n",
    "  \"fusion\": {\"type\": \"ply\"},\n",
    "  \"reconstructions\": {\"type\": \"ply\"},\n",
    "  \"cbct_lower_jaw\": {\"type\": \"ply\"},\n",
    "  \"cbct_upper_jaw\": {\"type\": \"ply\"}\n",
    "}"
   ]
  },
  {
   "cell_type": "markdown",
   "id": "bbb3e44a",
   "metadata": {},
   "source": [
    "# Submit request\n",
    "\n",
    "Submit the request using the `/run` POST method."
   ]
  },
  {
   "cell_type": "code",
   "execution_count": null,
   "id": "3f6da602",
   "metadata": {},
   "outputs": [],
   "source": [
    "headers = {\n",
    "  \"Content-Type\": \"application/json\",\n",
    "  \"X-ZH-TOKEN\": zh_token\n",
    "}\n",
    "\n",
    "url = base_url + '/run'\n",
    "\n",
    "response = requests.request(\"POST\", url, headers=headers, data=json.dumps(json_call))\n",
    "response.raise_for_status()\n",
    "create_result = response.json()\n",
    "run_id = create_result['run_id']\n",
    "print(run_id)"
   ]
  },
  {
   "cell_type": "markdown",
   "id": "b66bdd8d",
   "metadata": {},
   "source": [
    "# Wait for the request to complete\n",
    "\n",
    "Use the polling API to wait for the request to complete, the API URL is `/run/{run_id}`.\n",
    "\n",
    "**It is strongly recommended to use the callback method.** Refer to [Define Callback URL](#Define-Callback-URL), the callback method will send a callback message to the given URL at the end of the workflow, regardless of whether the workflow is successful or not, so you do not need to poll the result."
   ]
  },
  {
   "cell_type": "code",
   "execution_count": null,
   "id": "51e2203b",
   "metadata": {},
   "outputs": [],
   "source": [
    "# Step 2: Polling the status\n",
    "url = base_url + f\"/run/{run_id}\"\n",
    "\n",
    "start_time = time.time()\n",
    "while time.time()-start_time < 600: # Maximum wait time: 10 minutes\n",
    "    time.sleep(3) # Polling interval\n",
    "    response = requests.request(\"GET\", url, headers=headers)\n",
    "    result = response.json()\n",
    "    if result['completed'] or result['failed']:\n",
    "        break\n",
    "\n",
    "if not result['completed']:\n",
    "    if result['failed']:\n",
    "        raise ValueError(\"API error, reason: \" + str(result['reason_public']))\n",
    "    raise TimeoutError(\"API timeout\")\n",
    "\n",
    "print(\"API execution time: {}s\".format(time.time()-start_time))"
   ]
  },
  {
   "cell_type": "markdown",
   "id": "d7c85581",
   "metadata": {},
   "source": [
    "# Get the request result\n",
    "\n",
    "Use `/data/{run_id}` to get all output data of this workflow, use `/data/{run_id}/{key}` to get a specific item of data."
   ]
  },
  {
   "cell_type": "code",
   "execution_count": null,
   "id": "a86e332f",
   "metadata": {},
   "outputs": [],
   "source": [
    "url = base_url + f\"/data/{run_id}\"\n",
    "response = requests.request(\"GET\", url, headers=headers)\n",
    "result = response.json()"
   ]
  },
  {
   "cell_type": "code",
   "execution_count": null,
   "id": "a32f4027",
   "metadata": {},
   "outputs": [],
   "source": [
    "def retrieve_mesh(mesh_file_json):\n",
    "    resp = requests.get(file_server_url + f\"/file/download?\" + urllib.parse.urlencode({\n",
    "                        \"urn\": mesh_file_json['data']}),\n",
    "                        headers={\"X-ZH-TOKEN\": zh_token})\n",
    "    return trimesh.load(trimesh.util.wrap_as_stream(resp.content), file_type=mesh_file_json['type'])\n",
    "\n",
    "reconstructions = sum([\n",
    "    colored_mesh(retrieve_mesh(result[\"reconstructions\"][k]), i) for i,k in enumerate(result[\"reconstructions\"].keys())\n",
    "], None)\n",
    "\n",
    "fusion = sum([\n",
    "    colored_mesh(retrieve_mesh(result[\"fusion\"][k]), i) for i,k in enumerate(result[\"fusion\"].keys())\n",
    "], None)\n",
    "\n",
    "cbct_lower_jaw = sum([\n",
    "    colored_mesh(retrieve_mesh(k), i) for i,k in enumerate(result[\"cbct_lower_jaw\"])\n",
    "], None)\n",
    "\n",
    "cbct_upper_jaw = sum([\n",
    "    colored_mesh(retrieve_mesh(k), i) for i,k in enumerate(result[\"cbct_upper_jaw\"])\n",
    "], None)"
   ]
  },
  {
   "cell_type": "markdown",
   "id": "2376edb8",
   "metadata": {},
   "source": [
    "# Visualization"
   ]
  },
  {
   "cell_type": "code",
   "execution_count": null,
   "id": "54722482",
   "metadata": {},
   "outputs": [],
   "source": [
    "fusion.show()"
   ]
  },
  {
   "cell_type": "markdown",
   "id": "f2e4dd13",
   "metadata": {},
   "source": [
    "Visualize all reconstructions (bones etc.)"
   ]
  },
  {
   "cell_type": "code",
   "execution_count": null,
   "id": "1aa9de60",
   "metadata": {},
   "outputs": [],
   "source": [
    "reconstructions.show()"
   ]
  },
  {
   "cell_type": "markdown",
   "id": "1238b080",
   "metadata": {},
   "source": [
    "Visualize mesh reconstructed from CBCT teeth instance segmentation."
   ]
  },
  {
   "cell_type": "code",
   "execution_count": null,
   "id": "fd3790dd",
   "metadata": {},
   "outputs": [],
   "source": [
    "(cbct_lower_jaw + cbct_upper_jaw).show()"
   ]
  }
 ],
 "metadata": {
  "kernelspec": {
   "display_name": "Python 3 (ipykernel)",
   "language": "python",
   "name": "python3"
  },
  "language_info": {
   "codemirror_mode": {
    "name": "ipython",
    "version": 3
   },
   "file_extension": ".py",
   "mimetype": "text/x-python",
   "name": "python",
   "nbconvert_exporter": "python",
   "pygments_lexer": "ipython3",
   "version": "3.9.12"
  }
 },
 "nbformat": 4,
 "nbformat_minor": 5
}
