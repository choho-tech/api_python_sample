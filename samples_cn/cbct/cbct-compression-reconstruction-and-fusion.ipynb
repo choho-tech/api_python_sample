{
 "cells": [
  {
   "cell_type": "markdown",
   "id": "54f7cf82",
   "metadata": {},
   "source": [
    "# CBCT压缩、分割与融合\n",
    "\n",
    "！该接口处于BETA状态！"
   ]
  },
  {
   "cell_type": "code",
   "execution_count": null,
   "id": "899e4510",
   "metadata": {},
   "outputs": [],
   "source": [
    "# 导入必要的包以及定义函数\n",
    "import os\n",
    "import glob\n",
    "import base64\n",
    "import time\n",
    "import requests\n",
    "import json\n",
    "import trimesh\n",
    "import urllib\n",
    "import numpy as np\n",
    "\n",
    "def _create_colors():\n",
    "    # 20 high contrast colors\n",
    "    colors = [[230, 25, 75,255],[60, 180, 75,255],[255, 225, 25,255],\\\n",
    "            [0, 130, 200,255],[245, 130, 48,255],[145, 30, 180,255],[70, 240, 240,255],\\\n",
    "            [240, 50, 230,255],[210, 245, 60,255],[250, 190, 190,255],[0, 128, 128,255],\\\n",
    "            [230, 190, 255,255],[170, 110, 40,255],[255, 250, 200,255],[128, 0, 0,255],\\\n",
    "            [170, 255, 195,255],[128, 128, 0, 255]]\n",
    "    #np.random.shuffle(colors)\n",
    "    # gum color\n",
    "    colors = [[255,255,255,255]] + colors\n",
    "    return colors\n",
    "\n",
    "def colored_mesh(mesh, cid):\n",
    "    COLORS = _create_colors()\n",
    "    mcopy = mesh.copy()\n",
    "    mcopy.visual.face_colors = COLORS[cid % 18]\n",
    "    return mcopy"
   ]
  },
  {
   "cell_type": "markdown",
   "id": "cd41dcfa",
   "metadata": {},
   "source": [
    "# 定义调用规则\n",
    "\n",
    "请根据您从我方获取的信息修改以下代码块"
   ]
  },
  {
   "cell_type": "code",
   "execution_count": null,
   "id": "aa010b08",
   "metadata": {},
   "outputs": [],
   "source": [
    "# 朝厚服务请求地址，随api文档发送\n",
    "base_url = \"<服务请求地址>\"\n",
    "\n",
    "# 朝厚文件服务地址，随api文档发送\n",
    "file_server_url = \"<服务文件服务器地址>\"\n",
    "\n",
    "# 必须传入鉴权 Header。请保护好TOKEN!!! 如果泄露请立即联系我们重置，所有使用该TOKEN的任务都会向您的账户计费\n",
    "zh_token = \"<贵司服务Token, 随合同发送>\" # 调用所有的API都必须传入token用作鉴权\n",
    "\n",
    "user_group = \"APIClient\" # 用户组，一般为 APIClient\n",
    "\n",
    "# 贵司user_id, 随api文档发送\n",
    "user_id = \"<贵司user_id>\"\n",
    "\n",
    "# 如果您收到了creds.json, 下面将直接读取\n",
    "if os.path.exists('../../creds.json'):\n",
    "    creds = json.load(open('../../creds.json', 'r'))\n",
    "    base_url = creds['base_url']\n",
    "    file_server_url = creds['file_server_url']\n",
    "    zh_token = creds['zh_token']\n",
    "    user_id = creds['user_id']\n",
    "    print(\"loaded creds from creds.json\")"
   ]
  },
  {
   "cell_type": "code",
   "execution_count": null,
   "id": "e4bcfdaa",
   "metadata": {},
   "outputs": [],
   "source": [
    "def upload_file(file_name):\n",
    "    ext = file_name.split('.')[-1]\n",
    "    data = open('../../data/' + file_name, 'rb').read()\n",
    "    resp = requests.get(file_server_url + f\"/scratch/{user_group}/{user_id}/upload_url?\" +\n",
    "                        f\"postfix={ext}\", # 必须指定 postfix, 即文件后缀名\n",
    "                        headers={\"X-ZH-TOKEN\": zh_token}) # 获取带签名的上传地址\n",
    "    resp.raise_for_status()\n",
    "\n",
    "    upload_url = resp.text[1:-1] # 返回为一个单字符串JSON \"string\", 这里也可以用json.loads(resp.text)\n",
    "\n",
    "    resp = requests.put(upload_url, data) # 上传至云储存服务不需要带鉴权头\n",
    "\n",
    "    resp.raise_for_status()\n",
    "    path = \"/\".join(urllib.parse.urlparse(upload_url).path.lstrip(\"/\").split(\"/\")[3:])\n",
    "    urn = f\"urn:zhfile:o:s:{user_group}:{user_id}:{path}\"\n",
    "    return urn\n",
    "\n",
    "def run_job_and_get_results(json_call, timeout_sec):\n",
    "    headers = {\n",
    "      \"Content-Type\": \"application/json\",\n",
    "      \"X-ZH-TOKEN\": zh_token\n",
    "    }\n",
    "\n",
    "    url = base_url + '/run'\n",
    "\n",
    "    response = requests.request(\"POST\", url, headers=headers, data=json.dumps(json_call))\n",
    "    response.raise_for_status()\n",
    "    create_result = response.json()\n",
    "    run_id = create_result['run_id']\n",
    "    print(\"workflow id is\", run_id)\n",
    "    url = base_url + f\"/run/{run_id}\"\n",
    "\n",
    "    start_time = time.time()\n",
    "    while time.time()-start_time < timeout_sec:\n",
    "        time.sleep(0.3)\n",
    "        response = requests.request(\"GET\", url, headers=headers)\n",
    "        result = response.json()\n",
    "        if result['completed'] or result['failed']:\n",
    "            break\n",
    "\n",
    "    if not result['completed']:\n",
    "        if result['failed']:\n",
    "            raise ValueError(\"API failed due to \" + str(result['reason_public']))\n",
    "        raise TimeoutError(\"API timeout\")\n",
    "\n",
    "    print(\"API finished in {}s\".format(time.time()-start_time))\n",
    "    url = base_url + f\"/data/{run_id}\"\n",
    "    response = requests.request(\"GET\", url, headers=headers)\n",
    "    return response.json()\n",
    "\n",
    "def retrieve_data(urn):\n",
    "    return requests.get(file_server_url + f\"/file/download?\" + urllib.parse.urlencode({\n",
    "                        \"urn\": urn}),\n",
    "                        headers={\"X-ZH-TOKEN\": zh_token}).content\n",
    "\n",
    "def retrieve_mesh(mesh_file_json):\n",
    "    resp = requests.get(file_server_url + f\"/file/download?\" + urllib.parse.urlencode({\n",
    "                        \"urn\": mesh_file_json['data']}),\n",
    "                        headers={\"X-ZH-TOKEN\": zh_token})\n",
    "    return trimesh.load(trimesh.util.wrap_as_stream(resp.content), file_type=mesh_file_json['type'])"
   ]
  },
  {
   "cell_type": "markdown",
   "id": "798fcec2",
   "metadata": {},
   "source": [
    "## CBCT压缩\n",
    "\n",
    "CBCT压缩算法可以进行有损CBCT压缩，生成的CBCT用于可视化或分析（分辨率不变）。接口的压缩率为50～100倍（430MB的NRRD文件压缩后为8.4M）\n",
    "\n",
    "具体接口见 https://www.chohotech.com/docs/cloud-zh/#/module/cbct-compression-1"
   ]
  },
  {
   "cell_type": "code",
   "execution_count": null,
   "id": "f9fc919d",
   "metadata": {},
   "outputs": [],
   "source": [
    "json_call = {\n",
    "  \"spec_group\": \"cbct\", # 调用的工作流组， 随API文档发送\n",
    "  \"spec_name\": \"cbct-compression\", # 调用的工作流名称， 随API文档发送, \n",
    "  \"spec_version\": \"1.0-snapshot\", # 调用的工作流版本，随API文档发送\n",
    "  \"user_group\": user_group,\n",
    "  \"user_id\": user_id,\n",
    "  \"input_data\": {\"ct_file\": upload_file(\"cbct.zip\")}\n",
    "}\n",
    "result = run_job_and_get_results(json_call, 300)"
   ]
  },
  {
   "cell_type": "code",
   "execution_count": null,
   "id": "57222da7",
   "metadata": {},
   "outputs": [],
   "source": [
    "print(\"compressed data is \" + str(len(retrieve_data(result['result']['zhct0'])) / 1024 / 1024) + \"MB\")"
   ]
  },
  {
   "cell_type": "markdown",
   "id": "2376edb8",
   "metadata": {},
   "source": [
    "## 根骨重建"
   ]
  },
  {
   "cell_type": "code",
   "execution_count": null,
   "id": "54722482",
   "metadata": {},
   "outputs": [],
   "source": [
    "json_call = {\n",
    "  \"spec_group\": \"cbct\",\n",
    "  \"spec_name\": \"cbct-reconstruction\",\n",
    "  \"spec_version\": \"1.0-snapshot\",\n",
    "  \"user_group\": user_group,\n",
    "  \"user_id\": user_id,\n",
    "  \"input_data\": {\"zhct0\": result['result']['zhct0']}, # You can directly use urn here without downloading / uploading the file again!\n",
    "  \"output_config\": {\n",
    "      \"meshes\": {\"type\": \"ply\"},\n",
    "      \"lower_teeth\": {\"type\": \"ply\"},\n",
    "      \"upper_teeth\": {\"type\": \"ply\"}\n",
    "  }\n",
    "}\n",
    "result = run_job_and_get_results(json_call, 300)"
   ]
  },
  {
   "cell_type": "code",
   "execution_count": null,
   "id": "2e6fcd7d",
   "metadata": {},
   "outputs": [],
   "source": [
    "meshes = sum([\n",
    "    colored_mesh(retrieve_mesh(result['result'][\"meshes\"][k]), i+2) for i,k in enumerate(result['result'][\"meshes\"].keys())\n",
    "], None)"
   ]
  },
  {
   "cell_type": "code",
   "execution_count": null,
   "id": "1aa9de60",
   "metadata": {},
   "outputs": [],
   "source": [
    "meshes.show()"
   ]
  },
  {
   "cell_type": "markdown",
   "id": "1773578c",
   "metadata": {},
   "source": [
    "## 根冠融合\n",
    "\n",
    "根冠融合需按半颌调用，此处仅以上颌为例。具体接口可参考 https://www.chohotech.com/docs/cloud-zh/#/module/cbct-scan-fusion-1"
   ]
  },
  {
   "cell_type": "code",
   "execution_count": null,
   "id": "34a7f685",
   "metadata": {},
   "outputs": [],
   "source": [
    "# store results from reconstruction\n",
    "cbct_upper_teeth = result['result']['upper_teeth']\n",
    "\n",
    "# run teeth segmentation to get oral scan teeth\n",
    "json_call = {\n",
    "  \"spec_group\": \"mesh-processing\",\n",
    "  \"spec_name\": \"oral-comp-and-axis\",\n",
    "  \"spec_version\": \"1.0-snapshot\",\n",
    "  \"user_group\": user_group,\n",
    "  \"user_id\": user_id,\n",
    "  \"input_data\": {\n",
    "     \"mesh\": {\"type\":\"drc\", \"data\": upload_file('upper_jaw_scan.drc')},\n",
    "     \"jaw_type\": \"Upper\"\n",
    "  }\n",
    "}\n",
    "result = run_job_and_get_results(json_call, 300)"
   ]
  },
  {
   "cell_type": "code",
   "execution_count": null,
   "id": "b70fcc0d",
   "metadata": {},
   "outputs": [],
   "source": [
    "# run teeth segmentation to get oral scan teeth\n",
    "json_call = {\n",
    "  \"spec_group\": \"cbct\",\n",
    "  \"spec_name\": \"cbct-scan-fusion\",\n",
    "  \"spec_version\": \"1.0-snapshot\",\n",
    "  \"user_group\": user_group,\n",
    "  \"user_id\": user_id,\n",
    "  \"input_data\": {\n",
    "     \"cbct_mesh\": cbct_upper_teeth,\n",
    "     \"teeth\": result['teeth_comp']\n",
    "  },\n",
    "  \"output_config\": {\n",
    "      \"teeth\": {\"type\": \"ply\"},\n",
    "      \"scan_teeth\": {\"type\": \"ply\"},\n",
    "      \"fusion_teeth\": {\"type\": \"ply\"}\n",
    "  }\n",
    "}\n",
    "result = run_job_and_get_results(json_call, 300)"
   ]
  },
  {
   "cell_type": "code",
   "execution_count": null,
   "id": "c0edb130",
   "metadata": {},
   "outputs": [],
   "source": [
    "meshes = sum([\n",
    "    colored_mesh(retrieve_mesh(result['result'][\"fusion_teeth\"][k]), i+2) for i,k in enumerate(result['result'][\"fusion_teeth\"].keys())\n",
    "], None)"
   ]
  },
  {
   "cell_type": "code",
   "execution_count": null,
   "id": "6216cb0a",
   "metadata": {},
   "outputs": [],
   "source": [
    "meshes.show()"
   ]
  }
 ],
 "metadata": {
  "kernelspec": {
   "display_name": "Python 3 (ipykernel)",
   "language": "python",
   "name": "python3"
  },
  "language_info": {
   "codemirror_mode": {
    "name": "ipython",
    "version": 3
   },
   "file_extension": ".py",
   "mimetype": "text/x-python",
   "name": "python",
   "nbconvert_exporter": "python",
   "pygments_lexer": "ipython3",
   "version": "3.9.12"
  }
 },
 "nbformat": 4,
 "nbformat_minor": 5
}
