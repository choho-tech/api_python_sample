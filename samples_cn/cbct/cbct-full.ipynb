{
 "cells": [
  {
   "cell_type": "markdown",
   "id": "54f7cf82",
   "metadata": {},
   "source": [
    "# CBCT融合\n",
    "\n",
    "该工作流接口接收一个CBCT压缩包与上下颌口扫模型，输出融合后的牙齿与CT分割出的其他结构。用户不再需要自己调用各模块\n",
    "\n",
    "具体调用接口参考 https://www.chohotech.com/docs/cloud-zh/#/workflow/scan-seg-and-cbct-fusion-1"
   ]
  },
  {
   "cell_type": "code",
   "execution_count": null,
   "id": "899e4510",
   "metadata": {},
   "outputs": [],
   "source": [
    "# 导入必要的包以及定义函数\n",
    "import os\n",
    "import glob\n",
    "import base64\n",
    "import time\n",
    "import requests\n",
    "import json\n",
    "import trimesh\n",
    "import urllib\n",
    "import numpy as np\n",
    "\n",
    "def _create_colors():\n",
    "    # 20 high contrast colors\n",
    "    colors = [[230, 25, 75,255],[60, 180, 75,255],[255, 225, 25,255],\\\n",
    "            [0, 130, 200,255],[245, 130, 48,255],[145, 30, 180,255],[70, 240, 240,255],\\\n",
    "            [240, 50, 230,255],[210, 245, 60,255],[250, 190, 190,255],[0, 128, 128,255],\\\n",
    "            [230, 190, 255,255],[170, 110, 40,255],[255, 250, 200,255],[128, 0, 0,255],\\\n",
    "            [170, 255, 195,255],[128, 128, 0, 255]]\n",
    "    #np.random.shuffle(colors)\n",
    "    # gum color\n",
    "    colors = [[255,255,255,255]] + colors\n",
    "    return colors\n",
    "\n",
    "def colored_mesh(mesh, cid):\n",
    "    COLORS = _create_colors()\n",
    "    mcopy = mesh.copy()\n",
    "    mcopy.visual.face_colors = COLORS[cid % 18]\n",
    "    return mcopy"
   ]
  },
  {
   "cell_type": "markdown",
   "id": "cd41dcfa",
   "metadata": {},
   "source": [
    "# 定义调用规则\n",
    "\n",
    "请根据您从我方获取的信息修改以下代码块"
   ]
  },
  {
   "cell_type": "code",
   "execution_count": null,
   "id": "aa010b08",
   "metadata": {},
   "outputs": [],
   "source": [
    "# 朝厚服务请求地址，随api文档发送\n",
    "base_url = \"<服务请求地址>\"\n",
    "\n",
    "# 朝厚文件服务地址，随api文档发送\n",
    "file_server_url = \"<服务文件服务器地址>\"\n",
    "\n",
    "# 必须传入鉴权 Header。请保护好TOKEN!!! 如果泄露请立即联系我们重置，所有使用该TOKEN的任务都会向您的账户计费\n",
    "zh_token = \"<贵司服务Token, 随合同发送>\" # 调用所有的API都必须传入token用作鉴权\n",
    "\n",
    "user_group = \"APIClient\" # 用户组，一般为 APIClient\n",
    "\n",
    "# 贵司user_id, 随api文档发送\n",
    "user_id = \"<贵司user_id>\"\n",
    "\n",
    "# 如果您收到了creds.json, 下面将直接读取\n",
    "if os.path.exists('../../creds.json'):\n",
    "    creds = json.load(open('../../creds.json', 'r'))\n",
    "    base_url = creds['base_url']\n",
    "    file_server_url = creds['file_server_url']\n",
    "    zh_token = creds['zh_token']\n",
    "    user_id = creds['user_id']\n",
    "    print(\"loaded creds from creds.json\")"
   ]
  },
  {
   "cell_type": "code",
   "execution_count": null,
   "id": "f25a8ef3",
   "metadata": {},
   "outputs": [],
   "source": [
    "# 定义调用JSON的基础部分 - 调用的服务名称以及您的用户名信息\n",
    "json_call = {\n",
    "  \"spec_group\": \"cbct\", # 调用的工作流组， 随API文档发送\n",
    "  \"spec_name\": \"scan-seg-and-cbct-fusion\", # 调用的工作流名称， 随API文档发送, \n",
    "  \"spec_version\": \"1.0-snapshot\", # 调用的工作流版本，随API文档发送\n",
    "  \"user_group\": user_group,\n",
    "  \"user_id\": user_id\n",
    "}"
   ]
  },
  {
   "cell_type": "markdown",
   "id": "07efab22",
   "metadata": {},
   "source": [
    "### 定义回调地址\n",
    "\n",
    "回调会在工作流运行结束后向指定地址发送一个POST请求，请求内容为一个JSON，内含4个字段\n",
    "\n",
    "1. workflow_id (str): 对应的workflow_id\n",
    "2. metadata (dict): 您启动工作流时传入的metadata\n",
    "3. success (bool): 工作流是否成功（true为成功）\n",
    "4. reason (str or null): 如果success为true, 该项为null. 否则为失败原因的字符串表示\n",
    "\n",
    "如果需要回调，请uncomment以下代码块"
   ]
  },
  {
   "cell_type": "code",
   "execution_count": null,
   "id": "9fdd0ebc",
   "metadata": {},
   "outputs": [],
   "source": [
    "# json_call['metadata'] = { #（可选）这里可以加入metadata, 回调时会附带该信息，字典每项限制128个字符\n",
    "#     \"case_id\": \"CH-123\",\n",
    "#     \"case_name\": \"ABCDE\"\n",
    "# }\n",
    "# json_call['notification'] =[ #（可选）这里可以加入回调地址\n",
    "#     {\"url\": \"https://www.baidu.com\"} # 这里可以加入多个回调地址，每个都是{\"url\": \"xxx\"}格式\n",
    "# ]"
   ]
  },
  {
   "cell_type": "markdown",
   "id": "798fcec2",
   "metadata": {},
   "source": [
    "## 定义输入\n",
    "\n",
    "输入文件必须是一个zip包，包含所有该序列CBCT文件。算法会自动寻找该zip下包含的第一个CBCT序列，如果zip包里的**第一级目录**嵌套了压缩包（zip / rar / tar），算法至多再解压一级"
   ]
  },
  {
   "cell_type": "code",
   "execution_count": null,
   "id": "f9fc919d",
   "metadata": {},
   "outputs": [],
   "source": [
    "def upload_file(file_name):\n",
    "    ext = file_name.split('.')[-1]\n",
    "    data = open('../../data/' + file_name, 'rb').read()\n",
    "    resp = requests.get(file_server_url + f\"/scratch/{user_group}/{user_id}/upload_url?\" +\n",
    "                        f\"postfix={ext}\", # 必须指定 postfix, 即文件后缀名\n",
    "                        headers={\"X-ZH-TOKEN\": zh_token}) # 获取带签名的上传地址\n",
    "    resp.raise_for_status()\n",
    "\n",
    "    upload_url = resp.text[1:-1] # 返回为一个单字符串JSON \"string\", 这里也可以用json.loads(resp.text)\n",
    "\n",
    "    resp = requests.put(upload_url, data) # 上传至云储存服务不需要带鉴权头\n",
    "\n",
    "    resp.raise_for_status()\n",
    "    path = \"/\".join(urllib.parse.urlparse(upload_url).path.lstrip(\"/\").split(\"/\")[3:])\n",
    "    urn = f\"urn:zhfile:o:s:{user_group}:{user_id}:{path}\"\n",
    "    return urn\n",
    "\n",
    "json_call[\"input_data\"] = { \n",
    "    \"upper_jaw_scan\": {\"type\":\"drc\", \"data\": upload_file('upper_jaw_scan.drc')},\n",
    "    \"lower_jaw_scan\": {\"type\":\"ply\", \"data\": upload_file('lower_jaw_scan.ply')},\n",
    "    \"raw_ct_file\": upload_file(\"cbct.zip\")\n",
    "}\n",
    "\n",
    "json_call[\"output_config\"]= {\n",
    "  \"teeth\": {\"type\": \"ply\"},\n",
    "  \"root\": {\"type\": \"ply\"},\n",
    "  \"fusion\": {\"type\": \"ply\"},\n",
    "  \"reconstructions\": {\"type\": \"ply\"},\n",
    "  \"cbct_lower_jaw\": {\"type\": \"ply\"},\n",
    "  \"cbct_upper_jaw\": {\"type\": \"ply\"}\n",
    "}"
   ]
  },
  {
   "cell_type": "markdown",
   "id": "bbb3e44a",
   "metadata": {},
   "source": [
    "# 提交请求\n",
    "\n",
    "使用 `/run` POST方法提交请求"
   ]
  },
  {
   "cell_type": "code",
   "execution_count": null,
   "id": "3f6da602",
   "metadata": {},
   "outputs": [],
   "source": [
    "headers = {\n",
    "  \"Content-Type\": \"application/json\",\n",
    "  \"X-ZH-TOKEN\": zh_token\n",
    "}\n",
    "\n",
    "url = base_url + '/run'\n",
    "\n",
    "response = requests.request(\"POST\", url, headers=headers, data=json.dumps(json_call))\n",
    "response.raise_for_status()\n",
    "create_result = response.json()\n",
    "run_id = create_result['run_id']\n",
    "\n",
    "# 打印任务号\n",
    "print(run_id)"
   ]
  },
  {
   "cell_type": "markdown",
   "id": "b66bdd8d",
   "metadata": {},
   "source": [
    "# 等待请求完成\n",
    "\n",
    "使用轮询API等待请求完成，API地址为 `/run/{run_id}`\n",
    "\n",
    "**强烈推荐使用回调方法**, 参考[定义回调地址](#定义回调地址)，回调方法无论工作流成功与否，在结束时均会向给定地址发送回调信息，您无需轮询结果"
   ]
  },
  {
   "cell_type": "code",
   "execution_count": null,
   "id": "51e2203b",
   "metadata": {},
   "outputs": [],
   "source": [
    "# 第二步： 轮询状态\n",
    "url = base_url + f\"/run/{run_id}\"\n",
    "\n",
    "start_time = time.time()\n",
    "while time.time()-start_time < 900: # 最多等15分钟\n",
    "    time.sleep(3) # 轮询间隔\n",
    "    response = requests.request(\"GET\", url, headers=headers)\n",
    "    result = response.json()\n",
    "    if result['completed'] or result['failed']:\n",
    "        break\n",
    "    \n",
    "if not result['completed']:\n",
    "    if result['failed']:\n",
    "        raise ValueError(\"API运行错误，原因： \" + str(result['reason_public']))\n",
    "    raise TimeoutError(\"API超时\")\n",
    "\n",
    "print(\"API运行时间： {}s\".format(time.time()-start_time))"
   ]
  },
  {
   "cell_type": "markdown",
   "id": "d7c85581",
   "metadata": {},
   "source": [
    "# 获取请求结果\n",
    "\n",
    "使用 `/data/{run_id}` 获得该工作流所有输出数据，使用 `/data/{run_id}/{key}` 获取某一项数据"
   ]
  },
  {
   "cell_type": "code",
   "execution_count": null,
   "id": "a86e332f",
   "metadata": {},
   "outputs": [],
   "source": [
    "url = base_url + f\"/data/{run_id}\"\n",
    "response = requests.request(\"GET\", url, headers=headers)\n",
    "result = response.json()"
   ]
  },
  {
   "cell_type": "code",
   "execution_count": null,
   "id": "a32f4027",
   "metadata": {},
   "outputs": [],
   "source": [
    "def retrieve_mesh(mesh_file_json):\n",
    "    resp = requests.get(file_server_url + f\"/file/download?\" + urllib.parse.urlencode({\n",
    "                        \"urn\": mesh_file_json['data']}),\n",
    "                        headers={\"X-ZH-TOKEN\": zh_token})\n",
    "    return trimesh.load(trimesh.util.wrap_as_stream(resp.content), file_type=mesh_file_json['type'])\n",
    "\n",
    "reconstructions = sum([\n",
    "    colored_mesh(retrieve_mesh(result[\"reconstructions\"][k]), i) for i,k in enumerate(result[\"reconstructions\"].keys())\n",
    "], None)\n",
    "\n",
    "fusion = sum([\n",
    "    colored_mesh(retrieve_mesh(result[\"fusion\"][k]), i) for i,k in enumerate(result[\"fusion\"].keys())\n",
    "], None)\n",
    "\n",
    "cbct_lower_jaw = sum([\n",
    "    colored_mesh(retrieve_mesh(k), i) for i,k in enumerate(result[\"cbct_lower_jaw\"])\n",
    "], None)\n",
    "\n",
    "cbct_upper_jaw = sum([\n",
    "    colored_mesh(retrieve_mesh(k), i) for i,k in enumerate(result[\"cbct_upper_jaw\"])\n",
    "], None)"
   ]
  },
  {
   "cell_type": "markdown",
   "id": "2376edb8",
   "metadata": {},
   "source": [
    "# 可视化\n",
    "\n",
    "可视化融合结果"
   ]
  },
  {
   "cell_type": "code",
   "execution_count": null,
   "id": "54722482",
   "metadata": {},
   "outputs": [],
   "source": [
    "fusion.show()"
   ]
  },
  {
   "cell_type": "markdown",
   "id": "f2e4dd13",
   "metadata": {},
   "source": [
    "可视化重建与其他硬组织拼合结果"
   ]
  },
  {
   "cell_type": "code",
   "execution_count": null,
   "id": "1aa9de60",
   "metadata": {},
   "outputs": [],
   "source": [
    "reconstructions.show()"
   ]
  },
  {
   "cell_type": "markdown",
   "id": "1238b080",
   "metadata": {},
   "source": [
    "可视化实例分割"
   ]
  },
  {
   "cell_type": "code",
   "execution_count": null,
   "id": "fd3790dd",
   "metadata": {},
   "outputs": [],
   "source": [
    "(cbct_lower_jaw + cbct_upper_jaw).show()"
   ]
  }
 ],
 "metadata": {
  "kernelspec": {
   "display_name": "Python 3 (ipykernel)",
   "language": "python",
   "name": "python3"
  },
  "language_info": {
   "codemirror_mode": {
    "name": "ipython",
    "version": 3
   },
   "file_extension": ".py",
   "mimetype": "text/x-python",
   "name": "python",
   "nbconvert_exporter": "python",
   "pygments_lexer": "ipython3",
   "version": "3.9.12"
  }
 },
 "nbformat": 4,
 "nbformat_minor": 5
}
