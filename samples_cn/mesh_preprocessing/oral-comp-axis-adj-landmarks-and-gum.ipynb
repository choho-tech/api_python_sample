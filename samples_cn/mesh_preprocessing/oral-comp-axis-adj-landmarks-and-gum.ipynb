{
 "cells": [
  {
   "cell_type": "markdown",
   "id": "54f7cf82",
   "metadata": {},
   "source": [
    "# 半颌牙齿模型分割补全与牙龈生成"
   ]
  },
  {
   "cell_type": "code",
   "execution_count": null,
   "id": "899e4510",
   "metadata": {},
   "outputs": [],
   "source": [
    "# 导入必要的包以及定义函数\n",
    "import os\n",
    "import glob\n",
    "import base64\n",
    "import time\n",
    "import requests\n",
    "import json\n",
    "import trimesh\n",
    "import urllib\n",
    "import numpy as np\n",
    "\n",
    "def _create_colors():\n",
    "    # 20 high contrast colors\n",
    "    colors = [[230, 25, 75,255],[60, 180, 75,255],[255, 225, 25,255],\\\n",
    "            [0, 130, 200,255],[245, 130, 48,255],[145, 30, 180,255],[70, 240, 240,255],\\\n",
    "            [240, 50, 230,255],[210, 245, 60,255],[250, 190, 190,255],[0, 128, 128,255],\\\n",
    "            [230, 190, 255,255],[170, 110, 40,255],[255, 250, 200,255],[128, 0, 0,255],\\\n",
    "            [170, 255, 195,255],[128, 128, 0, 255]]\n",
    "    #np.random.shuffle(colors)\n",
    "    # gum color\n",
    "    colors = [[255,255,255,255]] + colors\n",
    "    return colors\n",
    "\n",
    "def colored_mesh(mesh, label):\n",
    "    COLORS = _create_colors()\n",
    "    mcopy = mesh.copy()\n",
    "    for i, l in enumerate(np.unique(label)):\n",
    "        mcopy.visual.face_colors[np.where(label == l)[0]] = COLORS[i % 18]\n",
    "    return mcopy"
   ]
  },
  {
   "cell_type": "markdown",
   "id": "cd41dcfa",
   "metadata": {},
   "source": [
    "# 定义调用规则\n",
    "\n",
    "请根据您从我方获取的信息修改以下代码块"
   ]
  },
  {
   "cell_type": "code",
   "execution_count": null,
   "id": "aa010b08",
   "metadata": {},
   "outputs": [],
   "source": [
    "# 朝厚服务请求地址，随api文档发送\n",
    "base_url = \"<服务请求地址>\"\n",
    "\n",
    "# 朝厚文件服务地址，随api文档发送\n",
    "file_server_url = \"<服务文件服务器地址>\"\n",
    "\n",
    "# 必须传入鉴权 Header。请保护好TOKEN!!! 如果泄露请立即联系我们重置，所有使用该TOKEN的任务都会向您的账户计费\n",
    "zh_token = \"<贵司服务Token, 随合同发送>\" # 调用所有的API都必须传入token用作鉴权\n",
    "\n",
    "user_group = \"APIClient\" # 用户组，一般为 APIClient\n",
    "\n",
    "# 贵司user_id, 随api文档发送\n",
    "user_id = \"<贵司user_id>\"\n",
    "\n",
    "# 如果您收到了creds.json, 下面将直接读取\n",
    "if os.path.exists('../../creds.json'):\n",
    "    creds = json.load(open('../../creds.json', 'r'))\n",
    "    base_url = creds['base_url']\n",
    "    file_server_url = creds['file_server_url']\n",
    "    zh_token = creds['zh_token']\n",
    "    user_id = creds['user_id']\n",
    "    print(\"loaded creds from creds.json\")"
   ]
  },
  {
   "cell_type": "code",
   "execution_count": null,
   "id": "e4bcfdaa",
   "metadata": {},
   "outputs": [],
   "source": [
    "def upload_file(file_name):\n",
    "    ext = file_name.split('.')[-1]\n",
    "    data = open('../../data/' + file_name, 'rb').read()\n",
    "    resp = requests.get(file_server_url + f\"/scratch/{user_group}/{user_id}/upload_url?\" +\n",
    "                        f\"postfix={ext}\", # 必须指定 postfix, 即文件后缀名\n",
    "                        headers={\"X-ZH-TOKEN\": zh_token}) # 获取带签名的上传地址\n",
    "    resp.raise_for_status()\n",
    "\n",
    "    upload_url = resp.text[1:-1] # 返回为一个单字符串JSON \"string\", 这里也可以用json.loads(resp.text)\n",
    "\n",
    "    resp = requests.put(upload_url, data) # 上传至云储存服务不需要带鉴权头\n",
    "\n",
    "    resp.raise_for_status()\n",
    "    path = \"/\".join(urllib.parse.urlparse(upload_url).path.lstrip(\"/\").split(\"/\")[3:])\n",
    "    urn = f\"urn:zhfile:o:s:{user_group}:{user_id}:{path}\"\n",
    "    return urn\n",
    "\n",
    "def run_job_and_get_results(json_call, timeout_sec):\n",
    "    headers = {\n",
    "      \"Content-Type\": \"application/json\",\n",
    "      \"X-ZH-TOKEN\": zh_token\n",
    "    }\n",
    "\n",
    "    url = base_url + '/run'\n",
    "\n",
    "    response = requests.request(\"POST\", url, headers=headers, data=json.dumps(json_call))\n",
    "    response.raise_for_status()\n",
    "    create_result = response.json()\n",
    "    run_id = create_result['run_id']\n",
    "    print(\"workflow id is\", run_id)\n",
    "    url = base_url + f\"/run/{run_id}\"\n",
    "\n",
    "    start_time = time.time()\n",
    "    while time.time()-start_time < timeout_sec:\n",
    "        time.sleep(0.3)\n",
    "        response = requests.request(\"GET\", url, headers=headers)\n",
    "        result = response.json()\n",
    "        if result['completed'] or result['failed']:\n",
    "            break\n",
    "\n",
    "    if not result['completed']:\n",
    "        if result['failed']:\n",
    "            raise ValueError(\"API failed due to \" + str(result['reason_public']))\n",
    "        raise TimeoutError(\"API timeout\")\n",
    "\n",
    "    print(\"API finished in {}s\".format(time.time()-start_time))\n",
    "    url = base_url + f\"/data/{run_id}\"\n",
    "    response = requests.request(\"GET\", url, headers=headers)\n",
    "    return response.json()\n",
    "\n",
    "def retrieve_data(urn):\n",
    "    return requests.get(file_server_url + f\"/file/download?\" + urllib.parse.urlencode({\n",
    "                        \"urn\": urn}),\n",
    "                        headers={\"X-ZH-TOKEN\": zh_token}).content\n",
    "\n",
    "def retrieve_mesh(mesh_file_json):\n",
    "    resp = requests.get(file_server_url + f\"/file/download?\" + urllib.parse.urlencode({\n",
    "                        \"urn\": mesh_file_json['data']}),\n",
    "                        headers={\"X-ZH-TOKEN\": zh_token})\n",
    "    return trimesh.load(trimesh.util.wrap_as_stream(resp.content), file_type=mesh_file_json['type'])"
   ]
  },
  {
   "cell_type": "markdown",
   "id": "798fcec2",
   "metadata": {},
   "source": [
    "## 半颌口扫分割、牙轴生成、牙齿邻面补全与牙龈生成"
   ]
  },
  {
   "cell_type": "code",
   "execution_count": null,
   "id": "f9fc919d",
   "metadata": {},
   "outputs": [],
   "source": [
    "json_call = {\n",
    "  \"spec_group\": \"mesh-processing\", # 调用的工作流组， 随API文档发送\n",
    "  \"spec_name\": \"oral-comp-and-axis\", # 调用的工作流名称， 随API文档发送, \n",
    "  \"spec_version\": \"1.0-snapshot\", # 调用的工作流版本，随API文档发送\n",
    "  \"user_group\": user_group,\n",
    "  \"user_id\": user_id,\n",
    "  \"input_data\": {\n",
    "      \"mesh\": {\"type\":\"ply\", \"data\": upload_file('lower_jaw_scan.ply')},\n",
    "      \"jaw_type\": 'Lower'\n",
    "  },\n",
    "  \"output_config\": {\n",
    "      \"mesh\": {\"type\": \"ply\"},\n",
    "      \"teeth\": {\"type\": \"ply\"},\n",
    "      \"teeth_comp\": {\"type\": \"ply\"}\n",
    "  }\n",
    "}\n",
    "result = run_job_and_get_results(json_call, 300)"
   ]
  },
  {
   "cell_type": "code",
   "execution_count": null,
   "id": "57222da7",
   "metadata": {},
   "outputs": [],
   "source": [
    "print('牙号列表：', np.unique(result['seg_labels']))\n",
    "colored_mesh(retrieve_mesh(result['mesh']), result['seg_labels']).show()"
   ]
  },
  {
   "cell_type": "markdown",
   "id": "2376edb8",
   "metadata": {},
   "source": [
    "## 牙轴生成\n",
    "\n",
    "用户也可以在调整分割结果后，单独调用牙轴生成服务获得新的牙轴。请注意，输入的各颗牙齿需要属于同一病例的同一半颌\n",
    "\n",
    "具体参考 https://www.chohotech.com/docs/cloud-zh/#/module/tooth-axis-combined-1"
   ]
  },
  {
   "cell_type": "code",
   "execution_count": null,
   "id": "54722482",
   "metadata": {},
   "outputs": [],
   "source": [
    "json_call = {\n",
    "  \"spec_group\": \"mesh-processing\",\n",
    "  \"spec_name\": \"tooth-axis-combined\",\n",
    "  \"spec_version\": \"1.0-snapshot\",\n",
    "  \"user_group\": user_group,\n",
    "  \"user_id\": user_id,\n",
    "  \"input_data\": {\"meshes\": result['teeth']}, # You can directly use urn here without downloading / uploading the file again!\n",
    "}\n",
    "result_axis = run_job_and_get_results(json_call, 300)"
   ]
  },
  {
   "cell_type": "code",
   "execution_count": null,
   "id": "2e6fcd7d",
   "metadata": {},
   "outputs": [],
   "source": [
    "print(result_axis['result']['result']['31'])"
   ]
  },
  {
   "cell_type": "markdown",
   "id": "495747cb",
   "metadata": {},
   "source": [
    "## 邻面补全\n",
    "\n",
    "用户也可以在调整分割结果后，单独调用邻面补全服务获得新的牙齿邻接面。请注意，输入的各颗牙齿需要属于同一病例的同一半颌\n",
    "\n",
    "具体参考 https://www.chohotech.com/docs/cloud-zh/#/module/mesh-adj-comp-1"
   ]
  },
  {
   "cell_type": "code",
   "execution_count": null,
   "id": "8f991c7b",
   "metadata": {},
   "outputs": [],
   "source": [
    "json_call = {\n",
    "  \"spec_group\": \"mesh-processing\",\n",
    "  \"spec_name\": \"mesh-adj-comp\",\n",
    "  \"spec_version\": \"1.0-snapshot\",\n",
    "  \"user_group\": user_group,\n",
    "  \"user_id\": user_id,\n",
    "  \"input_data\": {\"meshes\": result['teeth']}, # You can directly use urn here without downloading / uploading the file again!\n",
    "  \"output_config\": {\n",
    "      \"meshes\": {\"type\": \"ply\"}\n",
    "  }\n",
    "}\n",
    "result_comp = run_job_and_get_results(json_call, 300)"
   ]
  },
  {
   "cell_type": "code",
   "execution_count": null,
   "id": "5a57e9c4",
   "metadata": {},
   "outputs": [],
   "source": [
    "comp_35 = retrieve_mesh(result_comp['result']['meshes']['35'])\n",
    "comp_35.visual.face_colors = [255, 0, 0, 255] # show comps in red\n",
    "(comp_35 + retrieve_mesh(result['teeth']['35'])).show()"
   ]
  },
  {
   "cell_type": "markdown",
   "id": "1773578c",
   "metadata": {},
   "source": [
    "## 关键点生成\n",
    "\n",
    "关键点生成可以生成每颗牙齿的关键点。https://www.chohotech.com/docs/cloud-zh/#/module/teeth-landmarks-2"
   ]
  },
  {
   "cell_type": "code",
   "execution_count": null,
   "id": "c6ee4590",
   "metadata": {},
   "outputs": [],
   "source": [
    "json_call = {\n",
    "  \"spec_group\": \"mesh-processing\",\n",
    "  \"spec_name\": \"teeth-landmarks\",\n",
    "  \"spec_version\": \"2.0-snapshot\",\n",
    "  \"user_group\": user_group,\n",
    "  \"user_id\": user_id,\n",
    "  \"input_data\": {\"meshes\": result['teeth'],\n",
    "                 \"axis_dict\": result['axis']}\n",
    "}\n",
    "result_landmarks = run_job_and_get_results(json_call, 300)"
   ]
  },
  {
   "cell_type": "code",
   "execution_count": null,
   "id": "7a7f8772",
   "metadata": {},
   "outputs": [],
   "source": [
    "pts = []\n",
    "all_t_comps = sum([retrieve_mesh(result['teeth_comp'][k]) for k in result['teeth_comp'].keys()], None)\n",
    "for m in result_landmarks['result']['result'].values():\n",
    "    for k in m.values():\n",
    "        for g in k:\n",
    "            pts.append(g)\n",
    "\n",
    "_, i = all_t_comps.kdtree.query(pts, k=5)\n",
    "all_t_comps.visual.vertex_colors[i.ravel()] = [255, 0, 0, 255]\n",
    "all_t_comps.show()"
   ]
  },
  {
   "cell_type": "markdown",
   "id": "9a404cf7",
   "metadata": {},
   "source": [
    "## 牙龈生成\n",
    "\n",
    "牙龈生成可生成虚拟牙龈。该牙龈可用于展示或牙套制作 https://www.chohotech.com/docs/cloud-zh/#/module/gum-generation-1"
   ]
  },
  {
   "cell_type": "code",
   "execution_count": null,
   "id": "31ba3b81",
   "metadata": {},
   "outputs": [],
   "source": [
    "json_call = {\n",
    "  \"spec_group\": \"mesh-processing\",\n",
    "  \"spec_name\": \"gum-generation\",\n",
    "  \"spec_version\": \"1.0-snapshot\",\n",
    "  \"user_group\": user_group,\n",
    "  \"user_id\": user_id,\n",
    "  \"input_data\": {\"teeth_dict\": result['teeth_comp']},\n",
    "  \"output_config\": {\n",
    "      \"gum\": {\"type\": \"ply\"}\n",
    "  }\n",
    "}\n",
    "result_gum = run_job_and_get_results(json_call, 300)"
   ]
  },
  {
   "cell_type": "code",
   "execution_count": null,
   "id": "0524cbf2",
   "metadata": {},
   "outputs": [],
   "source": [
    "gum_mesh = retrieve_mesh(result_gum['result']['gum'])\n",
    "gum_mesh.visual.face_colors = [255, 0, 0, 255] # show gum in red\n",
    "(gum_mesh + sum([retrieve_mesh(result['teeth_comp'][k]) for k in result['teeth_comp'].keys()], None)).show()"
   ]
  }
 ],
 "metadata": {
  "kernelspec": {
   "display_name": "Python 3 (ipykernel)",
   "language": "python",
   "name": "python3"
  },
  "language_info": {
   "codemirror_mode": {
    "name": "ipython",
    "version": 3
   },
   "file_extension": ".py",
   "mimetype": "text/x-python",
   "name": "python",
   "nbconvert_exporter": "python",
   "pygments_lexer": "ipython3",
   "version": "3.9.12"
  }
 },
 "nbformat": 4,
 "nbformat_minor": 5
}
