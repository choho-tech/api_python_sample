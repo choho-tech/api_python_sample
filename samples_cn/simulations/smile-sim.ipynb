{
 "cells": [
  {
   "cell_type": "markdown",
   "metadata": {},
   "source": [
    "# 微笑模拟调用样例"
   ]
  },
  {
   "cell_type": "code",
   "execution_count": null,
   "metadata": {},
   "outputs": [],
   "source": [
    "# 加载所需要的包\n",
    "import os\n",
    "import cv2\n",
    "import glob\n",
    "import base64\n",
    "import time\n",
    "import requests\n",
    "import json\n",
    "import urllib\n",
    "import numpy as np\n",
    "import matplotlib.pyplot as plt"
   ]
  },
  {
   "cell_type": "markdown",
   "metadata": {},
   "source": [
    "<h2>定义调用规则</h2>\n",
    "请根据您从我方获取的信息修改以下代码块"
   ]
  },
  {
   "cell_type": "code",
   "execution_count": null,
   "metadata": {},
   "outputs": [],
   "source": [
    "# 朝厚服务请求地址，随api文档发送\n",
    "base_url = \"<服务请求地址>\"\n",
    "\n",
    "# 朝厚文件服务地址，随api文档发送\n",
    "file_server_url = \"<服务文件服务器地址>\"\n",
    "\n",
    "# 必须传入鉴权 Header。请保护好TOKEN!!! 如果泄露请立即联系我们重置，所有使用该TOKEN的任务都会向您的账户计费\n",
    "zh_token = \"<贵司服务Token, 随合同发送>\" # 调用所有的API都必须传入token用作鉴权\n",
    "\n",
    "user_group = \"APIClient\" # 用户组，一般为 APIClient\n",
    "\n",
    "# 贵司user_id, 随api文档发送\n",
    "user_id = \"<贵司user_id>\"\n",
    "\n",
    "# 如果您收到了creds.json, 下面将直接读取\n",
    "if os.path.exists('../../creds.json'):\n",
    "    creds = json.load(open('../../creds.json', 'r'))\n",
    "    base_url = creds['base_url']\n",
    "    file_server_url = creds['file_server_url']\n",
    "    zh_token = creds['zh_token']\n",
    "    user_id = creds['user_id']\n",
    "    print(\"loaded creds from creds.json\")"
   ]
  },
  {
   "cell_type": "code",
   "execution_count": null,
   "metadata": {},
   "outputs": [],
   "source": [
    "def upload_file(file_name):\n",
    "    ext = file_name.split('.')[-1]\n",
    "    data = open('../../data/' + file_name, 'rb').read()\n",
    "    resp = requests.get(file_server_url + f\"/scratch/{user_group}/{user_id}/upload_url?\" +\n",
    "                        f\"postfix={ext}\", # 必须指定 postfix, 即文件后缀名\n",
    "                        headers={\"X-ZH-TOKEN\": zh_token}) # 获取带签名的上传地址\n",
    "    resp.raise_for_status()\n",
    "\n",
    "    upload_url = resp.text[1:-1] # 返回为一个单字符串JSON \"string\", 这里也可以用json.loads(resp.text)\n",
    "\n",
    "    resp = requests.put(upload_url, data) # 上传至云储存服务不需要带鉴权头\n",
    "\n",
    "    resp.raise_for_status()\n",
    "    path = \"/\".join(urllib.parse.urlparse(upload_url).path.lstrip(\"/\").split(\"/\")[3:])\n",
    "    urn = f\"urn:zhfile:o:s:{user_group}:{user_id}:{path}\"\n",
    "    return urn\n",
    "\n",
    "def run_job_and_get_results(json_call, timeout_sec):\n",
    "    headers = {\n",
    "      \"Content-Type\": \"application/json\",\n",
    "      \"X-ZH-TOKEN\": zh_token\n",
    "    }\n",
    "\n",
    "    url = base_url + '/run'\n",
    "\n",
    "    response = requests.request(\"POST\", url, headers=headers, data=json.dumps(json_call))\n",
    "    response.raise_for_status()\n",
    "    create_result = response.json()\n",
    "    run_id = create_result['run_id']\n",
    "    print(\"workflow id is\", run_id)\n",
    "    url = base_url + f\"/run/{run_id}\"\n",
    "\n",
    "    start_time = time.time()\n",
    "    while time.time()-start_time < timeout_sec:\n",
    "        time.sleep(0.3)\n",
    "        response = requests.request(\"GET\", url, headers=headers)\n",
    "        result = response.json()\n",
    "        if result['completed'] or result['failed']:\n",
    "            break\n",
    "\n",
    "    if not result['completed']:\n",
    "        if result['failed']:\n",
    "            raise ValueError(\"API failed due to \" + str(result['reason_public']))\n",
    "        raise TimeoutError(\"API timeout\")\n",
    "\n",
    "    print(\"API finished in {}s\".format(time.time()-start_time))\n",
    "    url = base_url + f\"/data/{run_id}\"\n",
    "    response = requests.request(\"GET\", url, headers=headers)\n",
    "    return response.json()\n",
    "\n",
    "def show_img(urn):\n",
    "    imbytes = requests.get(file_server_url + f\"/file/download?\" + urllib.parse.urlencode({\n",
    "                        \"urn\": urn}),\n",
    "                        headers={\"X-ZH-TOKEN\": zh_token}).content\n",
    "    imarray = np.asarray(bytearray(imbytes), dtype=np.uint8)\n",
    "    plt.imshow(cv2.imdecode(imarray, cv2.IMREAD_COLOR)[...,::-1])"
   ]
  },
  {
   "cell_type": "markdown",
   "metadata": {},
   "source": [
    "## 矫正后微笑模拟\n",
    "\n",
    "以下代码输出矫正后微笑模拟，具体可参考 https://www.chohotech.com/docs/cloud-zh/#/module/smile-sim-lip-preserve-1"
   ]
  },
  {
   "cell_type": "code",
   "execution_count": null,
   "metadata": {},
   "outputs": [],
   "source": [
    "json_call = {\n",
    "  \"spec_group\": \"smile\",\n",
    "  \"spec_name\": \"smile-sim-lip-preserve\",\n",
    "  \"spec_version\": \"1.0-snapshot\",\n",
    "  \"user_group\": user_group,\n",
    "  \"user_id\": user_id,\n",
    "  \"input_data\": {\"image\": upload_file(\"face_smile.jpg\")}\n",
    "}\n",
    "result = run_job_and_get_results(json_call, 10)"
   ]
  },
  {
   "cell_type": "code",
   "execution_count": null,
   "metadata": {},
   "outputs": [],
   "source": [
    "show_img(result['result']['image'])"
   ]
  },
  {
   "cell_type": "markdown",
   "metadata": {},
   "source": [
    "## 固定矫正模拟\n",
    "\n",
    "以下代码输出佩戴固定矫治器的模拟，具体可参考 https://www.chohotech.com/docs/cloud-zh/#/module/archwire-sim-1"
   ]
  },
  {
   "cell_type": "code",
   "execution_count": null,
   "metadata": {},
   "outputs": [],
   "source": [
    "json_call = {\n",
    "  \"spec_group\": \"smile\",\n",
    "  \"spec_name\": \"archwire-sim\",\n",
    "  \"spec_version\": \"1.0-snapshot\",\n",
    "  \"user_group\": user_group,\n",
    "  \"user_id\": user_id,\n",
    "  \"input_data\": {\"image\": upload_file(\"face_smile.jpg\")}\n",
    "}\n",
    "result = run_job_and_get_results(json_call, 10)"
   ]
  },
  {
   "cell_type": "code",
   "execution_count": null,
   "metadata": {},
   "outputs": [],
   "source": [
    "show_img(result['result']['image'])"
   ]
  },
  {
   "cell_type": "markdown",
   "metadata": {},
   "source": [
    "## 隐形矫正模拟\n",
    "\n",
    "以下代码输出佩戴隐形牙套的模拟，具体可参考 https://www.chohotech.com/docs/cloud-zh/#/module/aligner-sim-1"
   ]
  },
  {
   "cell_type": "code",
   "execution_count": null,
   "metadata": {},
   "outputs": [],
   "source": [
    "json_call = {\n",
    "  \"spec_group\": \"smile\",\n",
    "  \"spec_name\": \"aligner-sim\",\n",
    "  \"spec_version\": \"1.0-snapshot\",\n",
    "  \"user_group\": user_group,\n",
    "  \"user_id\": user_id,\n",
    "  \"input_data\": {\"image\": upload_file(\"face_smile.jpg\")}\n",
    "}\n",
    "result = run_job_and_get_results(json_call, 10)"
   ]
  },
  {
   "cell_type": "code",
   "execution_count": null,
   "metadata": {},
   "outputs": [],
   "source": [
    "show_img(result['result']['image'])"
   ]
  }
 ],
 "metadata": {
  "kernelspec": {
   "display_name": "Python 3 (ipykernel)",
   "language": "python",
   "name": "python3"
  },
  "language_info": {
   "codemirror_mode": {
    "name": "ipython",
    "version": 3
   },
   "file_extension": ".py",
   "mimetype": "text/x-python",
   "name": "python",
   "nbconvert_exporter": "python",
   "pygments_lexer": "ipython3",
   "version": "3.9.12"
  },
  "vscode": {
   "interpreter": {
    "hash": "862987107cc000bc465df6f64a007a6c8d17c8cf7a32895d5460d35e9c5cb4f9"
   }
  }
 },
 "nbformat": 4,
 "nbformat_minor": 2
}
