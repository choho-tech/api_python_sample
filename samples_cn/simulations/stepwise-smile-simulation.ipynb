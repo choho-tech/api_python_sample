{
 "cells": [
  {
   "cell_type": "markdown",
   "metadata": {},
   "source": [
    "# 分步微笑模拟\n",
    "\n",
    "该Notebook将演示如何根据初始微笑像与矫治分步方案生成分步微笑照"
   ]
  },
  {
   "cell_type": "code",
   "execution_count": null,
   "metadata": {},
   "outputs": [],
   "source": [
    "import os\n",
    "import glob\n",
    "import base64\n",
    "import time\n",
    "import requests\n",
    "import json\n",
    "import trimesh\n",
    "import urllib\n",
    "import numpy as np\n",
    "import DracoPy\n",
    "from PIL import Image\n",
    "from io import BytesIO\n",
    "import cv2\n",
    "import glob\n",
    "import matplotlib.pyplot as plt"
   ]
  },
  {
   "cell_type": "markdown",
   "metadata": {},
   "source": [
    "## 定义调用规则"
   ]
  },
  {
   "cell_type": "code",
   "execution_count": null,
   "metadata": {},
   "outputs": [],
   "source": [
    "# 朝厚服务请求地址，随api文档发送\n",
    "base_url = \"<服务请求地址>\"\n",
    "\n",
    "# 朝厚文件服务地址，随api文档发送\n",
    "file_server_url = \"<服务文件服务器地址>\"\n",
    "\n",
    "# 必须传入鉴权 Header。请保护好TOKEN!!! 如果泄露请立即联系我们重置，所有使用该TOKEN的任务都会向您的账户计费\n",
    "zh_token = \"<贵司服务Token, 随合同发送>\" # 调用所有的API都必须传入token用作鉴权\n",
    "\n",
    "user_group = \"APIClient\" # 用户组，一般为 APIClient\n",
    "\n",
    "# 贵司user_id, 随api文档发送\n",
    "user_id = \"<贵司user_id>\"\n",
    "\n",
    "# 如果您收到了creds.json, 下面将直接读取\n",
    "if os.path.exists('../../creds.json'):\n",
    "    creds = json.load(open('../../creds.json', 'r'))\n",
    "    base_url = creds['base_url']\n",
    "    file_server_url = creds['file_server_url']\n",
    "    zh_token = creds['zh_token']\n",
    "    user_id = creds['user_id']\n",
    "    print(\"loaded creds from creds.json\")"
   ]
  },
  {
   "cell_type": "code",
   "execution_count": null,
   "metadata": {},
   "outputs": [],
   "source": [
    "def upload_file(file_name):\n",
    "    ext = file_name.split('.')[-1]\n",
    "    data = open('../../data/' + file_name, 'rb').read()\n",
    "    resp = requests.get(file_server_url + f\"/scratch/{user_group}/{user_id}/upload_url?\" +\n",
    "                        f\"postfix={ext}\", # 必须指定 postfix, 即文件后缀名\n",
    "                        headers={\"X-ZH-TOKEN\": zh_token}) # 获取带签名的上传地址\n",
    "    resp.raise_for_status()\n",
    "\n",
    "    upload_url = resp.text[1:-1] # 返回为一个单字符串JSON \"string\", 这里也可以用json.loads(resp.text)\n",
    "\n",
    "    resp = requests.put(upload_url, data) # 上传至云储存服务不需要带鉴权头\n",
    "\n",
    "    resp.raise_for_status()\n",
    "    path = \"/\".join(urllib.parse.urlparse(upload_url).path.lstrip(\"/\").split(\"/\")[3:])\n",
    "    urn = f\"urn:zhfile:o:s:{user_group}:{user_id}:{path}\"\n",
    "    return urn\n",
    "\n",
    "def run_job_and_get_results(json_call, timeout_sec):\n",
    "    headers = {\n",
    "      \"Content-Type\": \"application/json\",\n",
    "      \"X-ZH-TOKEN\": zh_token\n",
    "    }\n",
    "\n",
    "    url = base_url + '/run'\n",
    "\n",
    "    response = requests.request(\"POST\", url, headers=headers, data=json.dumps(json_call))\n",
    "    response.raise_for_status()\n",
    "    create_result = response.json()\n",
    "    run_id = create_result['run_id']\n",
    "    print(\"workflow id is\", run_id)\n",
    "    url = base_url + f\"/run/{run_id}\"\n",
    "\n",
    "    start_time = time.time()\n",
    "    while time.time()-start_time < timeout_sec:\n",
    "        time.sleep(0.3)\n",
    "        response = requests.request(\"GET\", url, headers=headers)\n",
    "        result = response.json()\n",
    "        if result['completed'] or result['failed']:\n",
    "            break\n",
    "\n",
    "    if not result['completed']:\n",
    "        if result['failed']:\n",
    "            raise ValueError(\"API failed due to \" + str(result['reason_public']))\n",
    "        raise TimeoutError(\"API timeout\")\n",
    "\n",
    "    print(\"API finished in {}s\".format(time.time()-start_time))\n",
    "    url = base_url + f\"/data/{run_id}\"\n",
    "    response = requests.request(\"GET\", url, headers=headers)\n",
    "    return response.json()\n",
    "\n",
    "def retrieve_mesh(mesh_file_json):\n",
    "    resp = requests.get(file_server_url + f\"/file/download?\" + urllib.parse.urlencode({\n",
    "                        \"urn\": mesh_file_json['data']}),\n",
    "                        headers={\"X-ZH-TOKEN\": zh_token})\n",
    "    return trimesh.load(trimesh.util.wrap_as_stream(resp.content), file_type=mesh_file_json['type'])\n",
    "\n",
    "def show_img(urn):\n",
    "    imbytes = requests.get(file_server_url + f\"/file/download?\" + urllib.parse.urlencode({\n",
    "                        \"urn\": urn}),\n",
    "                        headers={\"X-ZH-TOKEN\": zh_token}).content\n",
    "    imarray = np.asarray(bytearray(imbytes), dtype=np.uint8)\n",
    "    plt.imshow(cv2.imdecode(imarray, cv2.IMREAD_COLOR)[...,::-1])"
   ]
  },
  {
   "cell_type": "markdown",
   "metadata": {},
   "source": [
    "## 生成自动加工单与目标位"
   ]
  },
  {
   "cell_type": "code",
   "execution_count": null,
   "metadata": {},
   "outputs": [],
   "source": [
    "json_call = {\n",
    "  \"spec_group\": \"mesh-processing\",\n",
    "  \"spec_name\": \"oral-arrangement-medical\",\n",
    "  \"spec_version\": \"1.0-snapshot\",\n",
    "  \"user_group\": user_group,\n",
    "  \"user_id\": user_id,\n",
    "  \"input_data\": {\n",
    "      \"upper_mesh\": {\"type\":\"drc\", \"data\": upload_file(\"upper_jaw_scan.drc\")},\n",
    "      \"lower_mesh\": {\"type\":\"ply\", \"data\": upload_file(\"lower_jaw_scan.ply\")},\n",
    "      \"ceph\": upload_file(\"ceph.jpg\"),\n",
    "      \"smile_photo\": upload_file(\"face_smile.jpg\"),\n",
    "  },\n",
    "  'output_config': {\n",
    "    \"u_teeth_comp\": {\"type\": \"ply\"},\n",
    "    \"l_teeth_comp\": {\"type\": \"ply\"}\n",
    "  }\n",
    "}\n",
    "result_arrangement = run_job_and_get_results(json_call, 1200)"
   ]
  },
  {
   "cell_type": "markdown",
   "metadata": {},
   "source": [
    "## 生成分步信息"
   ]
  },
  {
   "cell_type": "code",
   "execution_count": null,
   "metadata": {},
   "outputs": [],
   "source": [
    "json_call = {\n",
    "  \"spec_group\": \"mesh-processing\", # 调用的工作流组， 随API文档发送\n",
    "  \"spec_name\": \"auto-step\", # 调用的工作流名称， 随API文档发送, \n",
    "  \"spec_version\": \"1.0-snapshot\", # 调用的工作流版本，随API文档发送\n",
    "  \"user_group\": user_group,\n",
    "  \"user_id\": user_id\n",
    "}\n",
    "json_call[\"input_data\"] = {\n",
    "    \"upper_teeth_dict\": result_arrangement[\"u_teeth_comp\"],\n",
    "    \"upper_align_matrix\": result_arrangement[\"u_align_matrix\"],\n",
    "    \"upper_axis_matrix_dict\": result_arrangement[\"u_axis\"],\n",
    "    \"lower_teeth_dict\": result_arrangement[\"l_teeth_comp\"],\n",
    "    \"lower_align_matrix\": result_arrangement[\"l_align_matrix\"],\n",
    "    \"lower_axis_matrix_dict\": result_arrangement[\"l_axis\"],\n",
    "    \"transformation_dict\": result_arrangement['transformation_dict']\n",
    "}\n",
    "result_step = run_job_and_get_results(json_call, 2200)"
   ]
  },
  {
   "cell_type": "code",
   "execution_count": null,
   "metadata": {},
   "outputs": [],
   "source": [
    "original_comp = {**{k: retrieve_mesh(v) for k, v in result_arrangement[\"u_teeth_comp\"].items()},\n",
    "                 **{k: retrieve_mesh(v) for k, v in result_arrangement[\"l_teeth_comp\"].items()}}\n",
    "def show_step(step_index):\n",
    "    result_mesh = None\n",
    "    for k, m in original_comp.items():\n",
    "        if k in result_step['result']['step_dict'][step_index]:\n",
    "            result_mesh += m.copy().apply_transform(result_step['result']['step_dict'][step_index][k])\n",
    "    return result_mesh"
   ]
  },
  {
   "cell_type": "markdown",
   "metadata": {},
   "source": [
    "# 生成各步对应的微笑模拟\n",
    "\n",
    "### 组装 step 字典\n",
    "\n",
    "请注意，必须有代表初始位置的`step_0`用于与微笑像配准"
   ]
  },
  {
   "cell_type": "code",
   "execution_count": null,
   "metadata": {},
   "outputs": [],
   "source": [
    "step_0 = {}\n",
    "step_dict = {}\n",
    "\n",
    "for k,v in result_arrangement[\"transformation_dict\"].items():\n",
    "    step_0[k] = np.eye(4,4).tolist()\n",
    "step_dict['step_0'] = step_0\n",
    "\n",
    "for i, step_transformation in enumerate(result_step[\"result\"]['step_dict']):\n",
    "    step_dict[f'step_{i+1}'] = step_transformation"
   ]
  },
  {
   "cell_type": "markdown",
   "metadata": {},
   "source": [
    "### 调用算法生成微笑像"
   ]
  },
  {
   "cell_type": "code",
   "execution_count": null,
   "metadata": {},
   "outputs": [],
   "source": [
    "json_call = {\n",
    "  \"spec_group\": \"smile\",\n",
    "  \"spec_name\": \"smile-sim-to-business\",\n",
    "  \"spec_version\": \"1.0-snapshot\",\n",
    "  \"user_group\": user_group,\n",
    "  \"user_id\": user_id,\n",
    "  \"input_data\": {\n",
    "      \"image\": upload_file(\"face_smile.jpg\"),\n",
    "      \"meshes\": {**result_arrangement[\"u_teeth_comp\"], **result_arrangement[\"l_teeth_comp\"]},\n",
    "      \"step\": step_dict\n",
    "  }\n",
    "}\n",
    "result_sim = run_job_and_get_results(json_call, 300)"
   ]
  },
  {
   "cell_type": "markdown",
   "metadata": {},
   "source": [
    "# 可视化结果"
   ]
  },
  {
   "cell_type": "code",
   "execution_count": null,
   "metadata": {},
   "outputs": [],
   "source": [
    "for idx, urn in result_sim['result']['image'].items():\n",
    "    plt.figure()\n",
    "    plt.title(idx)\n",
    "    show_img(result_sim['result']['image'][idx])"
   ]
  },
  {
   "cell_type": "code",
   "execution_count": null,
   "metadata": {},
   "outputs": [],
   "source": [
    "show_step(10)"
   ]
  }
 ],
 "metadata": {
  "kernelspec": {
   "display_name": "Python 3 (ipykernel)",
   "language": "python",
   "name": "python3"
  },
  "language_info": {
   "codemirror_mode": {
    "name": "ipython",
    "version": 3
   },
   "file_extension": ".py",
   "mimetype": "text/x-python",
   "name": "python",
   "nbconvert_exporter": "python",
   "pygments_lexer": "ipython3",
   "version": "3.9.12"
  }
 },
 "nbformat": 4,
 "nbformat_minor": 2
}
