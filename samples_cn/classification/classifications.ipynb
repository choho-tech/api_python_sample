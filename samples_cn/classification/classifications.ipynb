{
 "cells": [
  {
   "cell_type": "markdown",
   "metadata": {},
   "source": [
    "# 分类调用样例"
   ]
  },
  {
   "cell_type": "code",
   "execution_count": null,
   "metadata": {},
   "outputs": [],
   "source": [
    "# 加载所需要的包\n",
    "import os\n",
    "import cv2\n",
    "import glob\n",
    "import base64\n",
    "import time\n",
    "import requests\n",
    "import json\n",
    "import urllib\n",
    "import numpy as np\n",
    "import matplotlib.pyplot as plt"
   ]
  },
  {
   "cell_type": "markdown",
   "metadata": {},
   "source": [
    "<h2>定义调用规则</h2>\n",
    "请根据您从我方获取的信息修改以下代码块"
   ]
  },
  {
   "cell_type": "code",
   "execution_count": null,
   "metadata": {},
   "outputs": [],
   "source": [
    "# 朝厚服务请求地址，随api文档发送\n",
    "base_url = \"<服务请求地址>\"\n",
    "\n",
    "# 朝厚文件服务地址，随api文档发送\n",
    "file_server_url = \"<服务文件服务器地址>\"\n",
    "\n",
    "# 必须传入鉴权 Header。请保护好TOKEN!!! 如果泄露请立即联系我们重置，所有使用该TOKEN的任务都会向您的账户计费\n",
    "zh_token = \"<贵司服务Token, 随合同发送>\" # 调用所有的API都必须传入token用作鉴权\n",
    "\n",
    "user_group = \"APIClient\" # 用户组，一般为 APIClient\n",
    "\n",
    "# 贵司user_id, 随api文档发送\n",
    "user_id = \"<贵司user_id>\"\n",
    "\n",
    "# 如果您收到了creds.json, 下面将直接读取\n",
    "if os.path.exists('../../creds.json'):\n",
    "    creds = json.load(open('../../creds.json', 'r'))\n",
    "    base_url = creds['base_url']\n",
    "    file_server_url = creds['file_server_url']\n",
    "    zh_token = creds['zh_token']\n",
    "    user_id = creds['user_id']\n",
    "    print(\"loaded creds from creds.json\")"
   ]
  },
  {
   "cell_type": "markdown",
   "metadata": {},
   "source": [
    "## 图片分类\n",
    "\n",
    "图片分类接口以及分类表请参考 https://www.chohotech.com/docs/cloud-zh/#/module/image-classification-2"
   ]
  },
  {
   "cell_type": "code",
   "execution_count": null,
   "metadata": {},
   "outputs": [],
   "source": [
    "json_call = {\n",
    "    \"spec_version\": \"2.0-snapshot\",\n",
    "    \"spec_name\": \"image-classification\",\n",
    "    \"spec_group\": \"preprocessing\",\n",
    "    \"user_group\": user_group,\n",
    "    \"user_id\": user_id\n",
    "}"
   ]
  },
  {
   "cell_type": "markdown",
   "metadata": {},
   "source": [
    "### 定义回调地址\n",
    "\n",
    "回调会在工作流运行结束后向指定地址发送一个POST请求，请求内容为一个JSON，内含4个字段\n",
    "\n",
    "1. workflow_id (str): 对应的workflow_id\n",
    "2. metadata (dict): 您启动工作流时传入的metadata\n",
    "3. success (bool): 工作流是否成功（true为成功）\n",
    "4. reason (str or null): 如果success为true, 该项为null. 否则为失败原因的字符串表示\n",
    "\n",
    "如果需要回调，请uncomment以下代码块"
   ]
  },
  {
   "cell_type": "code",
   "execution_count": null,
   "metadata": {},
   "outputs": [],
   "source": [
    "# json_call['metadata'] = { #（可选）这里可以加入metadata, 回调时会附带该信息，字典每项限制128个字符\n",
    "#     \"case_id\": \"CH-123\",\n",
    "#     \"case_name\": \"ABCDE\"\n",
    "# }\n",
    "# json_call['notification'] =[ #（可选）这里可以加入回调地址\n",
    "#     {\"url\": \"https://www.baidu.com\"} # 这里可以加入多个回调地址，每个都是{\"url\": \"xxx\"}格式\n",
    "# ]"
   ]
  },
  {
   "cell_type": "markdown",
   "metadata": {},
   "source": [
    "### 定义输入/输出块\n",
    "\n",
    "输入块由JSON文件中的`input_data`定义。对于二维图片，我们支持以下**输入**文件格式\n",
    "\n",
    "```\n",
    "\"jpg\"\n",
    "\"jpeg\"\n",
    "\"png\"\n",
    "```\n",
    "\n",
    "对于二维图片，输入可以采用两种形式传入：\n",
    "\n",
    "1. 先将文件传入我们的文件服务系统，再将文件指针写入JSON调用串并调用API\n",
    "2. 直接在API的JSON调用串中传入base64编码后的二进制数据\n",
    "\n",
    "我们**强烈推荐**使用第一种方式，理由如下：\n",
    "\n",
    "1. base64编码将增大数据流大小，提高网络延迟\n",
    "2. 为保障接口性能，朝厚将拒绝过大的API请求。因此对于大文件，第二种方式会调用失败（HTTP CODE 413)"
   ]
  },
  {
   "cell_type": "code",
   "execution_count": null,
   "metadata": {},
   "outputs": [],
   "source": [
    "def upload_file(file_name):\n",
    "    ext = file_name.split('.')[-1]\n",
    "    data = open('../../data/' + file_name, 'rb').read()\n",
    "    resp = requests.get(file_server_url + f\"/scratch/{user_group}/{user_id}/upload_url?\" +\n",
    "                        f\"postfix={ext}\", # 必须指定 postfix, 即文件后缀名\n",
    "                        headers={\"X-ZH-TOKEN\": zh_token}) # 获取带签名的上传地址\n",
    "    resp.raise_for_status()\n",
    "\n",
    "    upload_url = resp.text[1:-1] # 返回为一个单字符串JSON \"string\", 这里也可以用json.loads(resp.text)\n",
    "\n",
    "    resp = requests.put(upload_url, data) # 上传至云储存服务不需要带鉴权头\n",
    "\n",
    "    resp.raise_for_status()\n",
    "    path = \"/\".join(urllib.parse.urlparse(upload_url).path.lstrip(\"/\").split(\"/\")[3:])\n",
    "    urn = f\"urn:zhfile:o:s:{user_group}:{user_id}:{path}\"\n",
    "    return urn\n",
    "\n",
    "json_call[\"input_data\"] = {\n",
    "    \"images\":{\n",
    "        fname: upload_file(fname) for fname in os.listdir('../../data/') if os.path.splitext(fname)[1] == '.jpg'\n",
    "    }\n",
    "}"
   ]
  },
  {
   "cell_type": "markdown",
   "metadata": {},
   "source": [
    "### 提交请求\n",
    "\n",
    "使用 `/run` POST方法提交请求"
   ]
  },
  {
   "cell_type": "code",
   "execution_count": null,
   "metadata": {},
   "outputs": [],
   "source": [
    "headers = {\n",
    "  \"Content-Type\": \"application/json\",\n",
    "  \"X-ZH-TOKEN\": zh_token\n",
    "}\n",
    "\n",
    "url = base_url + '/run'\n",
    "\n",
    "response = requests.request(\"POST\", url, headers=headers, data=json.dumps(json_call))\n",
    "response.raise_for_status()\n",
    "create_result = response.json()\n",
    "run_id = create_result['run_id']\n",
    "\n",
    "# 打印任务号\n",
    "print(run_id)"
   ]
  },
  {
   "cell_type": "markdown",
   "metadata": {},
   "source": [
    "### 等待请求完成\n",
    "\n",
    "使用轮询API等待请求完成，API地址为 `/run/{run_id}`\n",
    "\n",
    "**强烈推荐使用回调方法**, 参考[定义回调地址](#定义回调地址)，回调方法无论工作流成功与否，在结束时均会向给定地址发送回调信息，您无需轮询结果"
   ]
  },
  {
   "cell_type": "code",
   "execution_count": null,
   "metadata": {},
   "outputs": [],
   "source": [
    "# 第二步： 轮询状态\n",
    "url = base_url + f\"/run/{run_id}\"\n",
    "\n",
    "start_time = time.time()\n",
    "while time.time()-start_time < 10: # 最多等3分钟\n",
    "    time.sleep(0.3) # 轮询间隔\n",
    "    response = requests.request(\"GET\", url, headers=headers)\n",
    "    result = response.json()\n",
    "    if result['completed'] or result['failed']:\n",
    "        break\n",
    "    \n",
    "if not result['completed']:\n",
    "    if result['failed']:\n",
    "        raise ValueError(\"API运行错误，原因： \" + str(result['reason_public']))\n",
    "    raise TimeoutError(\"API超时\")\n",
    "\n",
    "print(\"API运行时间： {}s\".format(time.time()-start_time))"
   ]
  },
  {
   "cell_type": "markdown",
   "metadata": {},
   "source": [
    "### 获取请求结果\n",
    "\n",
    "使用 `/data/{run_id}` 获得该工作流所有输出数据，使用 `/data/{run_id}/{key}` 获取某一项数据"
   ]
  },
  {
   "cell_type": "code",
   "execution_count": null,
   "metadata": {},
   "outputs": [],
   "source": [
    "url = base_url + f\"/data/{run_id}\"\n",
    "response = requests.request(\"GET\", url, headers=headers)\n",
    "result = response.json()"
   ]
  },
  {
   "cell_type": "code",
   "execution_count": null,
   "metadata": {},
   "outputs": [],
   "source": [
    "cls_name = {\n",
    "    -1: \"其他\",\n",
    "    0: \"正面像\",\n",
    "    2: \"正面微笑像\",\n",
    "    3: \"正面咬合像\",\n",
    "    4: \"覆盖像\",\n",
    "    5: \"左侧咬合像\",\n",
    "    6: \"下颌合面像\",\n",
    "    7: \"右侧咬合像\",\n",
    "    8: \"上颌合面像\",\n",
    "    9: \"全景片\",\n",
    "    10: \"侧位片\",\n",
    "    13: \"右45度像\",\n",
    "    14: \"右侧面微笑像\",\n",
    "    15: \"左45度微笑像\",\n",
    "    16: \"左45度像\",\n",
    "    17: \"左侧面微笑像\",\n",
    "    18: \"左侧面像\",\n",
    "    19: \"右侧面像\",\n",
    "    20: \"右45度微笑像\",\n",
    "    21: \"小牙片\"\n",
    "}\n",
    "\n",
    "for k, v in result['result']['results'].items():\n",
    "    print(k, cls_name[v['predict_cls']])"
   ]
  },
  {
   "cell_type": "markdown",
   "metadata": {},
   "source": [
    "## 上下颌分类\n",
    "\n",
    "上下颌分类接口以及规则请参考 https://www.chohotech.com/docs/cloud-zh/#/module/jaw-classification-1"
   ]
  },
  {
   "cell_type": "code",
   "execution_count": null,
   "metadata": {},
   "outputs": [],
   "source": [
    "json_call = {\n",
    "    \"spec_version\": \"1.0-snapshot\",\n",
    "    \"spec_name\": \"jaw-classification\",\n",
    "    \"spec_group\": \"preprocessing\",\n",
    "    \"user_group\": user_group,\n",
    "    \"user_id\": user_id,\n",
    "    \"input_data\": {\n",
    "        \"meshes\": [\n",
    "            {\"type\":\"drc\", \"data\": upload_file('upper_jaw_scan.drc')},\n",
    "            {\"type\":\"ply\", \"data\": upload_file('lower_jaw_scan.ply')}\n",
    "        ]\n",
    "    }\n",
    "}\n",
    "\n",
    "url = base_url + '/run'\n",
    "\n",
    "response = requests.request(\"POST\", url, headers=headers, data=json.dumps(json_call))\n",
    "response.raise_for_status()\n",
    "create_result = response.json()\n",
    "run_id = create_result['run_id']\n",
    "\n",
    "# 打印任务号\n",
    "print(run_id)"
   ]
  },
  {
   "cell_type": "code",
   "execution_count": null,
   "metadata": {},
   "outputs": [],
   "source": [
    "# 轮询状态\n",
    "url = base_url + f\"/run/{run_id}\"\n",
    "\n",
    "start_time = time.time()\n",
    "while time.time()-start_time < 10: # 最多等3分钟\n",
    "    time.sleep(0.3) # 轮询间隔\n",
    "    response = requests.request(\"GET\", url, headers=headers)\n",
    "    result = response.json()\n",
    "    if result['completed'] or result['failed']:\n",
    "        break\n",
    "    \n",
    "if not result['completed']:\n",
    "    if result['failed']:\n",
    "        raise ValueError(\"API运行错误，原因： \" + str(result['reason_public']))\n",
    "    raise TimeoutError(\"API超时\")\n",
    "\n",
    "print(\"API运行时间： {}s\".format(time.time()-start_time))\n",
    "url = base_url + f\"/data/{run_id}\"\n",
    "response = requests.request(\"GET\", url, headers=headers)\n",
    "result = response.json()"
   ]
  },
  {
   "cell_type": "code",
   "execution_count": null,
   "metadata": {},
   "outputs": [],
   "source": [
    "for i in result['result']['results']:\n",
    "    print(\n",
    "        \"上颌\" if i['upper_score'] > i['lower_score'] and i['upper_score'] > 0 else\n",
    "            \"下颌\" if i['lower_score'] > i['upper_score'] and i['lower_score'] > 0 else \"非半颌Mesh\"\n",
    "    )"
   ]
  }
 ],
 "metadata": {
  "kernelspec": {
   "display_name": "Python 3 (ipykernel)",
   "language": "python",
   "name": "python3"
  },
  "language_info": {
   "codemirror_mode": {
    "name": "ipython",
    "version": 3
   },
   "file_extension": ".py",
   "mimetype": "text/x-python",
   "name": "python",
   "nbconvert_exporter": "python",
   "pygments_lexer": "ipython3",
   "version": "3.9.5"
  },
  "vscode": {
   "interpreter": {
    "hash": "862987107cc000bc465df6f64a007a6c8d17c8cf7a32895d5460d35e9c5cb4f9"
   }
  }
 },
 "nbformat": 4,
 "nbformat_minor": 2
}
