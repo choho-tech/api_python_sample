{
 "cells": [
  {
   "cell_type": "code",
   "execution_count": null,
   "id": "899e4510",
   "metadata": {},
   "outputs": [],
   "source": [
    "# 导入必要的包以及定义函数\n",
    "import os\n",
    "import glob\n",
    "import base64\n",
    "import time\n",
    "import requests\n",
    "import json\n",
    "import trimesh\n",
    "import urllib\n",
    "import numpy as np\n",
    "\n",
    "def _create_colors():\n",
    "    # 20 high contrast colors\n",
    "    colors = [[230, 25, 75,255],[60, 180, 75,255],[255, 225, 25,255],\\\n",
    "            [0, 130, 200,255],[245, 130, 48,255],[145, 30, 180,255],[70, 240, 240,255],\\\n",
    "            [240, 50, 230,255],[210, 245, 60,255],[250, 190, 190,255],[0, 128, 128,255],\\\n",
    "            [230, 190, 255,255],[170, 110, 40,255],[255, 250, 200,255],[128, 0, 0,255],\\\n",
    "            [170, 255, 195,255],[128, 128, 0, 255]]\n",
    "    #np.random.shuffle(colors)\n",
    "    # gum color\n",
    "    colors = [[255,255,255,255]] + colors\n",
    "    return colors\n",
    "\n",
    "def colored_mesh(mesh, label):\n",
    "    COLORS = _create_colors()\n",
    "    mcopy = mesh.copy()\n",
    "    for i, l in enumerate(np.unique(label)):\n",
    "        mcopy.visual.face_colors[np.where(label == l)[0]] = COLORS[i % 18]\n",
    "    return mcopy"
   ]
  },
  {
   "cell_type": "markdown",
   "id": "cd41dcfa",
   "metadata": {},
   "source": [
    "# 定义调用规则\n",
    "\n",
    "请根据您从我方获取的信息修改以下代码块"
   ]
  },
  {
   "cell_type": "code",
   "execution_count": null,
   "id": "aa010b08",
   "metadata": {},
   "outputs": [],
   "source": [
    "# 朝厚服务请求地址，随api文档发送\n",
    "base_url = \"<服务请求地址>\"\n",
    "\n",
    "# 朝厚文件服务地址，随api文档发送\n",
    "file_server_url = \"<服务文件服务器地址>\"\n",
    "\n",
    "# 必须传入鉴权 Header。请保护好TOKEN!!! 如果泄露请立即联系我们重置，所有使用该TOKEN的任务都会向您的账户计费\n",
    "zh_token = \"<贵司服务Token, 随合同发送>\" # 调用所有的API都必须传入token用作鉴权\n",
    "\n",
    "user_group = \"APIClient\" # 用户组，一般为 APIClient\n",
    "\n",
    "# 贵司user_id, 随api文档发送\n",
    "user_id = \"<贵司user_id>\"\n",
    "\n",
    "# 如果您收到了creds.json, 下面将直接读取\n",
    "if os.path.exists('creds.json'):\n",
    "    creds = json.load(open('creds.json', 'r'))\n",
    "    base_url = creds['base_url']\n",
    "    file_server_url = creds['file_server_url']\n",
    "    zh_token = creds['zh_token']\n",
    "    user_id = creds['user_id']\n",
    "    print(\"loaded creds from creds.json\")"
   ]
  },
  {
   "cell_type": "code",
   "execution_count": null,
   "id": "f25a8ef3",
   "metadata": {},
   "outputs": [],
   "source": [
    "# 以下请求数据以分牙+牙轴任务举例，依据您与我方签订的合约，您可能没有权限调用该样例API。\n",
    "\n",
    "# 定义调用JSON的基础部分 - 调用的服务名称以及您的用户名信息\n",
    "json_call = {\n",
    "  \"spec_group\": \"mesh-processing\", # 调用的工作流组， 随API文档发送\n",
    "  \"spec_name\": \"oral-seg-and-axis\", # 调用的工作流名称， 随API文档发送, \n",
    "  \"spec_version\": \"1.0-snapshot\", # 调用的工作流版本，随API文档发送\n",
    "  \"user_group\": user_group,\n",
    "  \"user_id\": user_id\n",
    "}"
   ]
  },
  {
   "cell_type": "markdown",
   "id": "07efab22",
   "metadata": {},
   "source": [
    "### 定义回调地址\n",
    "\n",
    "回调会在工作流运行结束后向指定地址发送一个POST请求，请求内容为一个JSON，内含4个字段\n",
    "\n",
    "1. workflow_id (str): 对应的workflow_id\n",
    "2. metadata (dict): 您启动工作流时传入的metadata\n",
    "3. success (bool): 工作流是否成功（true为成功）\n",
    "4. reason (str or null): 如果success为true, 该项为null. 否则为失败原因的字符串表示\n",
    "\n",
    "如果需要回调，请uncomment以下代码块"
   ]
  },
  {
   "cell_type": "code",
   "execution_count": null,
   "id": "9fdd0ebc",
   "metadata": {},
   "outputs": [],
   "source": [
    "# json_call['metadata'] = { #（可选）这里可以加入metadata, 回调时会附带该信息，字典每项限制128个字符\n",
    "#     \"case_id\": \"CH-123\",\n",
    "#     \"case_name\": \"ABCDE\"\n",
    "# }\n",
    "# json_call['notification'] =[ #（可选）这里可以加入回调地址\n",
    "#     {\"url\": \"https://www.baidu.com\"} # 这里可以加入多个回调地址，每个都是{\"url\": \"xxx\"}格式\n",
    "# ]"
   ]
  },
  {
   "cell_type": "markdown",
   "id": "798fcec2",
   "metadata": {},
   "source": [
    "## 定义输入/输出块\n",
    "\n",
    "输入块由JSON文件中的`input_data`定义。对于三维网格，我们支持以下**输入**文件格式\n",
    "\n",
    "```\n",
    "\"obj\"\n",
    "\"stl\"\n",
    "\"off\"\n",
    "\"ply\"\n",
    "\"glb\"\n",
    "\"zip\": zip内必须有且仅有一个mesh文件，且其后缀名必须为 obj, stl, off, ply 或 glb\n",
    "\"tar.gz\": tar 或者 tar.gz内必须有且仅有一个mesh文件，且其后缀名必须为 obj, stl, off, ply 或 glb\n",
    "\"drc\"\n",
    "```\n",
    "\n",
    "和以下**输出**文件格式\n",
    "```\n",
    "\"obj\"\n",
    "\"stl\"\n",
    "\"off\"\n",
    "\"ply\"\n",
    "\"glb\"\n",
    "\"drc\"\n",
    "```\n",
    "\n",
    "\n",
    "我们**强烈推荐**在输入/输出中使用`drc`文件格式以减少网络传输时间，生成和读取drc格式文件可以使用Google的Draco库: https://github.com/google/draco\n",
    "\n",
    "下表显示了同一个三维网格在不同文件格式下的文件大小 (点精度： 0.001mm）\n",
    "\n",
    "| 文件格式 | 文件大小 |\n",
    "| --- | --- |\n",
    "| stl | 16.7M |\n",
    "| obj | 13.5M |\n",
    "| off | 14.2M |\n",
    "| ply | 7.0M |\n",
    "| glb | 6.0M |\n",
    "| drc | 517.3K |\n",
    "\n",
    "\n",
    "对于三位网格，输入可以采用两种形式传入：\n",
    "\n",
    "1. 先将文件传入我们的文件服务系统，再将文件指针写入JSON调用串并调用API\n",
    "2. 直接在API的JSON调用串中传入base64编码后的二进制数据\n",
    "\n",
    "对于三位网格，输出可以指定两种形式传出：\n",
    "\n",
    "1. 在API数据接口中返回文件指针，用户去文件系统下载具体二进制文件\n",
    "2. 直接在API的数据接口中将二进制数据以base64编码形式返回\n",
    "\n",
    "\n",
    "我们**强烈推荐**使用第一种方式，理由如下：\n",
    "\n",
    "1. base64编码将增大数据流大小，提高网络延迟\n",
    "2. 为保障接口性能，朝厚将拒绝过大的API请求。因此对于大文件，第二种方式会调用失败（HTTP CODE 413)"
   ]
  },
  {
   "cell_type": "markdown",
   "id": "5fe0b57b",
   "metadata": {},
   "source": [
    "### 使用文件方式上传"
   ]
  },
  {
   "cell_type": "code",
   "execution_count": null,
   "id": "f9fc919d",
   "metadata": {},
   "outputs": [],
   "source": [
    "# 如果使用base64方式上传，请不要调用这个代码块\n",
    "data = open('l.stl', 'rb').read()\n",
    "resp = requests.get(file_server_url + f\"/scratch/{user_group}/{user_id}/upload_url?\" +\n",
    "                    \"postfix=stl\", # 必须指定 postfix, 即文件后缀名\n",
    "                    headers={\"X-ZH-TOKEN\": zh_token}) # 获取带签名的上传地址\n",
    "resp.raise_for_status()\n",
    "\n",
    "upload_url = resp.text[1:-1] # 返回为一个单字符串JSON \"string\", 这里也可以用json.loads(resp.text)\n",
    "\n",
    "resp = requests.put(upload_url, data) # 上传至云储存服务不需要带鉴权头\n",
    "\n",
    "resp.raise_for_status()\n",
    "path = \"/\".join(urllib.parse.urlparse(upload_url).path.lstrip(\"/\").split(\"/\")[3:])\n",
    "urn = f\"urn:zhfile:o:s:{user_group}:{user_id}:{path}\"\n",
    "print(\"文件指针:\", urn)\n",
    "\n",
    "json_call[\"input_data\"] = { # 输入数据，此处依照不同的任务字典内容会有不同，具体参照API文档，该处以分牙+牙轴举例\n",
    "    \"mesh\": {\"type\":\"stl\", \"data\": urn}, # 文件指针\n",
    "    \"jaw_type\": 'Lower' # 上颌是Upper, 下颌是Lower\n",
    "}\n",
    "\n",
    "# 定义输出配置（输出与输入不一定需要一样，比如可以输入文件stl, 输出base64的drc\n",
    "json_call['output_config'] = {\n",
    "    \"mesh\": {\"type\": \"ply\"} # 如果没有output-location字段，默认返回文件指针\n",
    "}"
   ]
  },
  {
   "cell_type": "markdown",
   "id": "3d890333",
   "metadata": {},
   "source": [
    "### 使用base64方式上传\n",
    "\n",
    "如果需要使用，请uncomment以下代码块"
   ]
  },
  {
   "cell_type": "code",
   "execution_count": null,
   "id": "2b2d2780",
   "metadata": {},
   "outputs": [],
   "source": [
    "# json_call[\"input_data\"] = { # 输入数据，此处依照不同的任务字典内容会有不同，具体参照API文档，该处以分牙+牙轴举例\n",
    "#     \"mesh\": {\"type\":\"stl\", \"data\": base64.b64encode(open('l.stl', 'rb').read()).decode()}, # 文件base64编码\n",
    "#     \"jaw_type\": 'Lower' # 上颌是Upper, 下颌是Lower\n",
    "# }\n",
    "\n",
    "# # 定义输出配置（输出与输入不一定需要一样，比如可以输入文件stl, 输出base64的drc\n",
    "# json_call['output_config'] = {\n",
    "#     \"mesh\": {\"type\": \"ply\", \"output-location\": \"bytes\"} #下载也使用base64直接从接口获取\n",
    "# }"
   ]
  },
  {
   "cell_type": "markdown",
   "id": "bbb3e44a",
   "metadata": {},
   "source": [
    "# 提交请求\n",
    "\n",
    "使用 `/run` POST方法提交请求"
   ]
  },
  {
   "cell_type": "code",
   "execution_count": null,
   "id": "3f6da602",
   "metadata": {},
   "outputs": [],
   "source": [
    "headers = {\n",
    "  \"Content-Type\": \"application/json\",\n",
    "  \"X-ZH-TOKEN\": zh_token\n",
    "}\n",
    "\n",
    "url = base_url + '/run'\n",
    "\n",
    "response = requests.request(\"POST\", url, headers=headers, data=json.dumps(json_call))\n",
    "response.raise_for_status()\n",
    "create_result = response.json()\n",
    "run_id = create_result['run_id']\n",
    "\n",
    "# 打印任务号\n",
    "print(run_id)"
   ]
  },
  {
   "cell_type": "markdown",
   "id": "b66bdd8d",
   "metadata": {},
   "source": [
    "# 等待请求完成\n",
    "\n",
    "使用轮询API等待请求完成，API地址为 `/run/{run_id}`\n",
    "\n",
    "**强烈推荐使用回调方法**, 参考[定义回调地址](#定义回调地址)，回调方法无论工作流成功与否，在结束时均会向给定地址发送回调信息，您无需轮询结果"
   ]
  },
  {
   "cell_type": "code",
   "execution_count": null,
   "id": "51e2203b",
   "metadata": {},
   "outputs": [],
   "source": [
    "# 第二步： 轮询状态\n",
    "url = base_url + f\"/run/{run_id}\"\n",
    "\n",
    "start_time = time.time()\n",
    "while time.time()-start_time < 180: # 最多等3分钟\n",
    "    time.sleep(3) # 轮询间隔\n",
    "    response = requests.request(\"GET\", url, headers=headers)\n",
    "    result = response.json()\n",
    "    if result['completed'] or result['failed']:\n",
    "        break\n",
    "    \n",
    "if not result['completed']:\n",
    "    if result['failed']:\n",
    "        raise ValueError(\"API运行错误，原因： \" + str(result['reason_public']))\n",
    "    raise TimeoutError(\"API超时\")\n",
    "\n",
    "print(\"API运行时间： {}s\".format(time.time()-start_time))"
   ]
  },
  {
   "cell_type": "markdown",
   "id": "d7c85581",
   "metadata": {},
   "source": [
    "# 获取请求结果\n",
    "\n",
    "使用 `/data/{run_id}` 获得该工作流所有输出数据，使用 `/data/{run_id}/{key}` 获取某一项数据"
   ]
  },
  {
   "cell_type": "code",
   "execution_count": null,
   "id": "a86e332f",
   "metadata": {},
   "outputs": [],
   "source": [
    "url = base_url + f\"/data/{run_id}\"\n",
    "response = requests.request(\"GET\", url, headers=headers)\n",
    "result = response.json()"
   ]
  },
  {
   "cell_type": "code",
   "execution_count": null,
   "id": "a32f4027",
   "metadata": {},
   "outputs": [],
   "source": [
    "if result['mesh']['data'][:3] == \"urn\": # 使用urn方式返回， 需要去文件系统中拉取\n",
    "    resp = requests.get(file_server_url + f\"/file/download?\" + urllib.parse.urlencode({\n",
    "                        \"urn\": result['mesh']['data']}),\n",
    "                        headers={\"X-ZH-TOKEN\": zh_token})\n",
    "    mesh_bytes = resp.content\n",
    "else: # 使用bytes方式返回，直接读取\n",
    "    mesh_bytes = base64.b64decode(result['mesh']['data'])\n",
    "result_mesh = trimesh.load(trimesh.util.wrap_as_stream(mesh_bytes), file_type=result['mesh']['type'])"
   ]
  },
  {
   "cell_type": "markdown",
   "id": "2376edb8",
   "metadata": {},
   "source": [
    "# 样例API输出结果展示\n",
    "\n",
    "以下为该分牙+牙轴样例API的输出结果展示。该部分之上代码对所有API通用，以下部分仅针对分牙+牙轴输出处理及展示"
   ]
  },
  {
   "cell_type": "code",
   "execution_count": null,
   "id": "54722482",
   "metadata": {},
   "outputs": [],
   "source": [
    "print('牙号列表：', np.unique(result['seg_labels']))\n",
    "colored_mesh(result_mesh, result['seg_labels']).show()"
   ]
  },
  {
   "cell_type": "code",
   "execution_count": null,
   "id": "2e6fcd7d",
   "metadata": {},
   "outputs": [],
   "source": [
    "# 将所有牙号转到局部坐标系\n",
    "def _get_vid_new_faces_by_fid(mesh, inds):\n",
    "    old_faces = mesh.faces[inds].reshape(-1)\n",
    "    vid = np.unique(old_faces)\n",
    "    vid_map = dict(zip(vid, np.arange(len(vid))))\n",
    "    faces = np.array([vid_map[x] for x in old_faces]).reshape(-1, 3)\n",
    "    return vid, faces\n",
    "\n",
    "def get_mesh_by_id(mesh, inds):\n",
    "    vid, faces = _get_vid_new_faces_by_fid(mesh, inds)\n",
    "    return trimesh.Trimesh(mesh.vertices[vid], faces)\n",
    "def split_tooth(mesh, label):\n",
    "    splitted = {}\n",
    "    unique_labels = np.unique(label)\n",
    "\n",
    "    for fdi in unique_labels:\n",
    "        if fdi == 0:\n",
    "            continue\n",
    "        idx = np.where(label == fdi)[0]\n",
    "        splitted[str(int(fdi))] = get_mesh_by_id(mesh, idx)\n",
    "    return splitted\n",
    "\n",
    "all_t = None\n",
    "for k, t in split_tooth(result_mesh, result['seg_labels']).items():\n",
    "    all_t += t.apply_transform(result['axis'][k])\n",
    "\n",
    "all_t.show()"
   ]
  }
 ],
 "metadata": {
  "kernelspec": {
   "display_name": "Python 3 (ipykernel)",
   "language": "python",
   "name": "python3"
  },
  "language_info": {
   "codemirror_mode": {
    "name": "ipython",
    "version": 3
   },
   "file_extension": ".py",
   "mimetype": "text/x-python",
   "name": "python",
   "nbconvert_exporter": "python",
   "pygments_lexer": "ipython3",
   "version": "3.7.11"
  }
 },
 "nbformat": 4,
 "nbformat_minor": 5
}
