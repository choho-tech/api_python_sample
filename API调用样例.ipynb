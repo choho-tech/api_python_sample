{
 "cells": [
  {
   "cell_type": "code",
   "execution_count": null,
   "id": "899e4510",
   "metadata": {},
   "outputs": [],
   "source": [
    "# 导入必要的包以及定义函数\n",
    "import os\n",
    "import glob\n",
    "import base64\n",
    "import time\n",
    "import requests\n",
    "import json\n",
    "import trimesh\n",
    "import numpy as np\n",
    "\n",
    "# 以base64上传到服务器\n",
    "\n",
    "def load_mesh_b64(p):\n",
    "    with open(p, 'rb') as f:\n",
    "        data = f.read()\n",
    "    return base64.b64encode(data).decode()\n",
    "\n",
    "def b64_to_mesh(d):\n",
    "    with open(\"_tmp.stl\", 'wb') as f:\n",
    "        f.write(base64.b64decode(d))\n",
    "    M = trimesh.load_mesh(\"_tmp.stl\", process=False)\n",
    "    os.remove(\"_tmp.stl\")\n",
    "    return M\n",
    "\n",
    "def _create_colors():\n",
    "    # 20 high contrast colors\n",
    "    colors = [[230, 25, 75,255],[60, 180, 75,255],[255, 225, 25,255],\\\n",
    "            [0, 130, 200,255],[245, 130, 48,255],[145, 30, 180,255],[70, 240, 240,255],\\\n",
    "            [240, 50, 230,255],[210, 245, 60,255],[250, 190, 190,255],[0, 128, 128,255],\\\n",
    "            [230, 190, 255,255],[170, 110, 40,255],[255, 250, 200,255],[128, 0, 0,255],\\\n",
    "            [170, 255, 195,255],[128, 128, 0, 255]]\n",
    "    #np.random.shuffle(colors)\n",
    "    # gum color\n",
    "    colors = [[255,255,255,255]] + colors\n",
    "    return colors\n",
    "\n",
    "def colored_mesh(mesh, label):\n",
    "    COLORS = _create_colors()\n",
    "    mcopy = mesh.copy()\n",
    "    for i, l in enumerate(np.unique(label)):\n",
    "        mcopy.visual.face_colors[np.where(label == l)[0]] = COLORS[i % 18]\n",
    "    return mcopy"
   ]
  },
  {
   "cell_type": "markdown",
   "id": "cd41dcfa",
   "metadata": {},
   "source": [
    "# 定义调用规则\n",
    "\n",
    "请根据您从我方获取的信息修改以下代码块"
   ]
  },
  {
   "cell_type": "code",
   "execution_count": null,
   "id": "aa010b08",
   "metadata": {},
   "outputs": [],
   "source": [
    "# 朝厚服务请求地址，随api文档发送\n",
    "base_url = \"<服务请求地址>\"\n",
    "\n",
    "# 必须传入鉴权 Header。请保护好TOKEN!!! 如果泄露请立即联系我们重置，所有使用该TOKEN的任务都会向您的账户计费\n",
    "zh_token = \"<贵司服务Token, 随合同发送>\" # 调用所有的API都必须传入token用作鉴权\n",
    "\n",
    "# 以下请求数据以分牙+牙轴任务举例，依据您与我方签订的合约，您可能没有权限调用该样例API。\n",
    "payload = json.dumps({\n",
    "  \"spec_group\": \"mesh-processing\", # 调用的工作流组， 随API文档发送\n",
    "  \"spec_name\": \"oral-seg-and-axis\", # 调用的工作流名称， 随API文档发送, \n",
    "  \"spec_version\": \"1.0-snapshot\", # 调用的工作流版本，随API文档发送\n",
    "  \"user_group\": \"APIClient\", # 用户组，一般为 APIClient\n",
    "  \"user_id\": \"<您的user_id>\", # 用户ID, 随合同发送\n",
    "  \"input_data\": { # 输入数据，此处依照不同的任务字典内容会有不同，具体参照API文档，该处以分牙+牙轴举例\n",
    "    \"mesh\": load_mesh_b64('u.stl'), # load_mesh_b64(stl文件路径)，此处需要您提供一个半颌口扫模型\n",
    "    \"jaw_type\": 'Upper' # 上颌是Upper, 下颌是Lower\n",
    "  },\n",
    "})"
   ]
  },
  {
   "cell_type": "markdown",
   "id": "bbb3e44a",
   "metadata": {},
   "source": [
    "# 提交请求\n",
    "\n",
    "使用 `/run` POST方法提交请求"
   ]
  },
  {
   "cell_type": "code",
   "execution_count": null,
   "id": "3f6da602",
   "metadata": {},
   "outputs": [],
   "source": [
    "headers = {\n",
    "  \"Content-Type\": \"application/json\",\n",
    "  \"X-ZH-TOKEN\": zh_token\n",
    "}\n",
    "\n",
    "url = base_url + '/run'\n",
    "\n",
    "response = requests.request(\"POST\", url, headers=headers, data=payload)\n",
    "response.raise_for_status()\n",
    "create_result = response.json()\n",
    "run_id = create_result['run_id']\n",
    "\n",
    "# 打印任务号\n",
    "print(run_id)"
   ]
  },
  {
   "cell_type": "markdown",
   "id": "b66bdd8d",
   "metadata": {},
   "source": [
    "# 等待请求完成\n",
    "\n",
    "使用轮询API等待请求完成，API地址为 `/run/{run_id}`"
   ]
  },
  {
   "cell_type": "code",
   "execution_count": null,
   "id": "51e2203b",
   "metadata": {},
   "outputs": [],
   "source": [
    "# 第二步： 轮询状态\n",
    "url = base_url + f\"/run/{run_id}\"\n",
    "\n",
    "start_time = time.time()\n",
    "while time.time()-start_time < 180: # 最多等3分钟\n",
    "    time.sleep(3) # 轮询间隔\n",
    "    response = requests.request(\"GET\", url, headers=headers)\n",
    "    result = response.json()\n",
    "    if result['completed'] or result['failed']:\n",
    "        break\n",
    "    \n",
    "if not result['completed']:\n",
    "    if result['failed']:\n",
    "        raise ValueError(\"API运行错误，原因： \" + str(result['reason_public']))\n",
    "    raise TimeoutError(\"API超时\")\n",
    "\n",
    "print(\"API运行时间： {}s\".format(time.time()-start_time))"
   ]
  },
  {
   "cell_type": "markdown",
   "id": "d7c85581",
   "metadata": {},
   "source": [
    "# 获取请求结果\n",
    "\n",
    "使用 `/data/{run_id}` 获得该工作流所有输出数据，使用 `/data/{run_id}/{key}` 获取某一项数据"
   ]
  },
  {
   "cell_type": "code",
   "execution_count": null,
   "id": "a86e332f",
   "metadata": {},
   "outputs": [],
   "source": [
    "url = base_url + f\"/data/{run_id}\"\n",
    "response = requests.request(\"GET\", url, headers=headers)\n",
    "result = response.json()"
   ]
  },
  {
   "cell_type": "markdown",
   "id": "2376edb8",
   "metadata": {},
   "source": [
    "# 样例API输出结果展示\n",
    "\n",
    "以下为该分牙+牙轴样例API的输出结果展示。该部分之上代码对所有API通用，以下部分仅针对分牙+牙轴输出处理及展示"
   ]
  },
  {
   "cell_type": "code",
   "execution_count": null,
   "id": "54722482",
   "metadata": {},
   "outputs": [],
   "source": [
    "print('牙号列表：', np.unique(result['seg_labels']))\n",
    "colored_mesh(b64_to_mesh(result['mesh']), result['seg_labels']).show()"
   ]
  },
  {
   "cell_type": "code",
   "execution_count": null,
   "id": "2e6fcd7d",
   "metadata": {},
   "outputs": [],
   "source": [
    "# 将所有牙号转到局部坐标系\n",
    "def _get_vid_new_faces_by_fid(mesh, inds):\n",
    "    old_faces = mesh.faces[inds].reshape(-1)\n",
    "    vid = np.unique(old_faces)\n",
    "    vid_map = dict(zip(vid, np.arange(len(vid))))\n",
    "    faces = np.array([vid_map[x] for x in old_faces]).reshape(-1, 3)\n",
    "    return vid, faces\n",
    "\n",
    "def get_mesh_by_id(mesh, inds):\n",
    "    vid, faces = _get_vid_new_faces_by_fid(mesh, inds)\n",
    "    return trimesh.Trimesh(mesh.vertices[vid], faces)\n",
    "def split_tooth(mesh, label):\n",
    "    splitted = {}\n",
    "    adj_dict = {}\n",
    "    unique_labels = np.unique(label)\n",
    "\n",
    "    adj_lab = np.zeros((len(label),))\n",
    "\n",
    "    for x, y in mesh.face_adjacency:\n",
    "        if label[x] != label[y]:\n",
    "            if label[x] == 0 or label[y] == 0:\n",
    "                adj_lab[x] = max(1, adj_lab[x])\n",
    "                adj_lab[y] = max(1, adj_lab[y])\n",
    "            else:\n",
    "                adj_lab[x] = 2\n",
    "                adj_lab[y] = 2\n",
    "\n",
    "    for fdi in unique_labels:\n",
    "        if fdi == 0:\n",
    "            continue\n",
    "        idx = np.where(label == fdi)[0]\n",
    "        splitted[str(int(fdi))] = get_mesh_by_id(mesh, idx)\n",
    "        adj_dict[str(int(fdi))] = adj_lab[idx]\n",
    "    return splitted\n",
    "\n",
    "all_t = None\n",
    "for k, t in split_tooth(b64_to_mesh(result['mesh']), result['seg_labels']).items():\n",
    "    all_t += t.apply_transform(result['axis'][k])\n",
    "\n",
    "all_t.show()"
   ]
  }
 ],
 "metadata": {
  "kernelspec": {
   "display_name": "Python 3 (ipykernel)",
   "language": "python",
   "name": "python3"
  },
  "language_info": {
   "codemirror_mode": {
    "name": "ipython",
    "version": 3
   },
   "file_extension": ".py",
   "mimetype": "text/x-python",
   "name": "python",
   "nbconvert_exporter": "python",
   "pygments_lexer": "ipython3",
   "version": "3.7.11"
  }
 },
 "nbformat": 4,
 "nbformat_minor": 5
}
